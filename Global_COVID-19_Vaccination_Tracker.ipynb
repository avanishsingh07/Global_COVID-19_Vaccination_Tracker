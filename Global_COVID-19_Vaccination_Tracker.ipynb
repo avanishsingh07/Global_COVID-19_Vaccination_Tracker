{
 "cells": [
  {
   "cell_type": "code",
   "execution_count": 10,
   "id": "93b152d7",
   "metadata": {},
   "outputs": [],
   "source": [
    "import pandas as pd\n",
    "import numpy as np\n",
    "import matplotlib.pyplot as plt\n",
    "import seaborn as sns\n",
    "import plotly.express as px"
   ]
  },
  {
   "cell_type": "code",
   "execution_count": 11,
   "id": "81155af0",
   "metadata": {},
   "outputs": [
    {
     "data": {
      "text/html": [
       "<div>\n",
       "<style scoped>\n",
       "    .dataframe tbody tr th:only-of-type {\n",
       "        vertical-align: middle;\n",
       "    }\n",
       "\n",
       "    .dataframe tbody tr th {\n",
       "        vertical-align: top;\n",
       "    }\n",
       "\n",
       "    .dataframe thead th {\n",
       "        text-align: right;\n",
       "    }\n",
       "</style>\n",
       "<table border=\"1\" class=\"dataframe\">\n",
       "  <thead>\n",
       "    <tr style=\"text-align: right;\">\n",
       "      <th></th>\n",
       "      <th>Countries and regions</th>\n",
       "      <th>Doses administered</th>\n",
       "      <th>Enough for % of people</th>\n",
       "      <th>Percentage of population with 1+ dose</th>\n",
       "      <th>Percentage of population fully vaccinated</th>\n",
       "      <th>Daily rate of doses administered</th>\n",
       "    </tr>\n",
       "  </thead>\n",
       "  <tbody>\n",
       "    <tr>\n",
       "      <th>0</th>\n",
       "      <td>Global Total</td>\n",
       "      <td>5.663213e+09</td>\n",
       "      <td>NaN</td>\n",
       "      <td>NaN</td>\n",
       "      <td>NaN</td>\n",
       "      <td>33380378.0</td>\n",
       "    </tr>\n",
       "    <tr>\n",
       "      <th>1</th>\n",
       "      <td>Mainland China</td>\n",
       "      <td>2.129833e+09</td>\n",
       "      <td>76.1</td>\n",
       "      <td>NaN</td>\n",
       "      <td>69.3</td>\n",
       "      <td>6454714.0</td>\n",
       "    </tr>\n",
       "    <tr>\n",
       "      <th>2</th>\n",
       "      <td>India</td>\n",
       "      <td>7.303371e+08</td>\n",
       "      <td>26.7</td>\n",
       "      <td>40.3</td>\n",
       "      <td>12.4</td>\n",
       "      <td>7616167.0</td>\n",
       "    </tr>\n",
       "    <tr>\n",
       "      <th>3</th>\n",
       "      <td>EU</td>\n",
       "      <td>5.469671e+08</td>\n",
       "      <td>61.6</td>\n",
       "      <td>66.0</td>\n",
       "      <td>61.5</td>\n",
       "      <td>1394444.0</td>\n",
       "    </tr>\n",
       "    <tr>\n",
       "      <th>4</th>\n",
       "      <td>U.S.</td>\n",
       "      <td>3.785697e+08</td>\n",
       "      <td>59.2</td>\n",
       "      <td>62.9</td>\n",
       "      <td>53.6</td>\n",
       "      <td>721844.0</td>\n",
       "    </tr>\n",
       "    <tr>\n",
       "      <th>...</th>\n",
       "      <td>...</td>\n",
       "      <td>...</td>\n",
       "      <td>...</td>\n",
       "      <td>...</td>\n",
       "      <td>...</td>\n",
       "      <td>...</td>\n",
       "    </tr>\n",
       "    <tr>\n",
       "      <th>202</th>\n",
       "      <td>Nauru</td>\n",
       "      <td>1.479000e+04</td>\n",
       "      <td>56.9</td>\n",
       "      <td>58.6</td>\n",
       "      <td>55.2</td>\n",
       "      <td>NaN</td>\n",
       "    </tr>\n",
       "    <tr>\n",
       "      <th>203</th>\n",
       "      <td>St. Helena</td>\n",
       "      <td>7.892000e+03</td>\n",
       "      <td>65.8</td>\n",
       "      <td>72.7</td>\n",
       "      <td>58.9</td>\n",
       "      <td>8.0</td>\n",
       "    </tr>\n",
       "    <tr>\n",
       "      <th>204</th>\n",
       "      <td>Falkland Islands</td>\n",
       "      <td>4.407000e+03</td>\n",
       "      <td>73.5</td>\n",
       "      <td>87.7</td>\n",
       "      <td>59.2</td>\n",
       "      <td>202.0</td>\n",
       "    </tr>\n",
       "    <tr>\n",
       "      <th>205</th>\n",
       "      <td>Montserrat</td>\n",
       "      <td>2.837000e+03</td>\n",
       "      <td>28.4</td>\n",
       "      <td>29.3</td>\n",
       "      <td>27.4</td>\n",
       "      <td>NaN</td>\n",
       "    </tr>\n",
       "    <tr>\n",
       "      <th>206</th>\n",
       "      <td>Eritrea</td>\n",
       "      <td>NaN</td>\n",
       "      <td>NaN</td>\n",
       "      <td>NaN</td>\n",
       "      <td>NaN</td>\n",
       "      <td>NaN</td>\n",
       "    </tr>\n",
       "  </tbody>\n",
       "</table>\n",
       "<p>207 rows × 6 columns</p>\n",
       "</div>"
      ],
      "text/plain": [
       "    Countries and regions  Doses administered  Enough for % of people  \\\n",
       "0            Global Total        5.663213e+09                     NaN   \n",
       "1          Mainland China        2.129833e+09                    76.1   \n",
       "2                   India        7.303371e+08                    26.7   \n",
       "3                      EU        5.469671e+08                    61.6   \n",
       "4                    U.S.        3.785697e+08                    59.2   \n",
       "..                    ...                 ...                     ...   \n",
       "202                 Nauru        1.479000e+04                    56.9   \n",
       "203            St. Helena        7.892000e+03                    65.8   \n",
       "204      Falkland Islands        4.407000e+03                    73.5   \n",
       "205            Montserrat        2.837000e+03                    28.4   \n",
       "206               Eritrea                 NaN                     NaN   \n",
       "\n",
       "     Percentage of population with 1+ dose  \\\n",
       "0                                      NaN   \n",
       "1                                      NaN   \n",
       "2                                     40.3   \n",
       "3                                     66.0   \n",
       "4                                     62.9   \n",
       "..                                     ...   \n",
       "202                                   58.6   \n",
       "203                                   72.7   \n",
       "204                                   87.7   \n",
       "205                                   29.3   \n",
       "206                                    NaN   \n",
       "\n",
       "     Percentage of population fully vaccinated  \\\n",
       "0                                          NaN   \n",
       "1                                         69.3   \n",
       "2                                         12.4   \n",
       "3                                         61.5   \n",
       "4                                         53.6   \n",
       "..                                         ...   \n",
       "202                                       55.2   \n",
       "203                                       58.9   \n",
       "204                                       59.2   \n",
       "205                                       27.4   \n",
       "206                                        NaN   \n",
       "\n",
       "     Daily rate of doses administered  \n",
       "0                          33380378.0  \n",
       "1                           6454714.0  \n",
       "2                           7616167.0  \n",
       "3                           1394444.0  \n",
       "4                            721844.0  \n",
       "..                                ...  \n",
       "202                               NaN  \n",
       "203                               8.0  \n",
       "204                             202.0  \n",
       "205                               NaN  \n",
       "206                               NaN  \n",
       "\n",
       "[207 rows x 6 columns]"
      ]
     },
     "execution_count": 11,
     "metadata": {},
     "output_type": "execute_result"
    }
   ],
   "source": [
    "df = pd.read_csv('Global_COVID_Vaccination_Tracker.csv')\n",
    "df"
   ]
  },
  {
   "cell_type": "code",
   "execution_count": 12,
   "id": "431ad685",
   "metadata": {},
   "outputs": [
    {
     "name": "stdout",
     "output_type": "stream",
     "text": [
      "<class 'pandas.core.frame.DataFrame'>\n",
      "RangeIndex: 207 entries, 0 to 206\n",
      "Data columns (total 6 columns):\n",
      " #   Column                                     Non-Null Count  Dtype  \n",
      "---  ------                                     --------------  -----  \n",
      " 0   Countries and regions                      207 non-null    object \n",
      " 1   Doses administered                         206 non-null    float64\n",
      " 2   Enough for % of people                     202 non-null    float64\n",
      " 3   Percentage of population with 1+ dose      200 non-null    float64\n",
      " 4   Percentage of population fully vaccinated  197 non-null    float64\n",
      " 5   Daily rate of doses administered           203 non-null    float64\n",
      "dtypes: float64(5), object(1)\n",
      "memory usage: 9.8+ KB\n"
     ]
    }
   ],
   "source": [
    "df.info()"
   ]
  },
  {
   "cell_type": "code",
   "execution_count": 13,
   "id": "a26e5a62",
   "metadata": {},
   "outputs": [
    {
     "data": {
      "text/plain": [
       "Countries and regions                         0\n",
       "Doses administered                            1\n",
       "Enough for % of people                        5\n",
       "Percentage of population with 1+ dose         7\n",
       "Percentage of population fully vaccinated    10\n",
       "Daily rate of doses administered              4\n",
       "dtype: int64"
      ]
     },
     "execution_count": 13,
     "metadata": {},
     "output_type": "execute_result"
    }
   ],
   "source": [
    "df.isna().sum()"
   ]
  },
  {
   "cell_type": "code",
   "execution_count": 14,
   "id": "4426d7ce",
   "metadata": {},
   "outputs": [
    {
     "data": {
      "text/plain": [
       "Index(['Countries and regions', 'Doses administered', 'Enough for % of people',\n",
       "       'Percentage of population with 1+ dose',\n",
       "       'Percentage of population fully vaccinated',\n",
       "       'Daily rate of doses administered'],\n",
       "      dtype='object')"
      ]
     },
     "execution_count": 14,
     "metadata": {},
     "output_type": "execute_result"
    }
   ],
   "source": [
    "df.columns"
   ]
  },
  {
   "cell_type": "code",
   "execution_count": 15,
   "id": "57504d5f",
   "metadata": {},
   "outputs": [
    {
     "data": {
      "text/plain": [
       "Doses administered                           5.763783e+07\n",
       "Enough for % of people                       3.559505e+01\n",
       "Percentage of population with 1+ dose        3.966600e+01\n",
       "Percentage of population fully vaccinated    3.194061e+01\n",
       "Daily rate of doses administered             3.357373e+05\n",
       "dtype: float64"
      ]
     },
     "execution_count": 15,
     "metadata": {},
     "output_type": "execute_result"
    }
   ],
   "source": [
    "df.mean(axis = 0)"
   ]
  },
  {
   "cell_type": "code",
   "execution_count": 17,
   "id": "c121e2d6",
   "metadata": {},
   "outputs": [],
   "source": [
    "df['Doses administered'].fillna(value=df['Doses administered'].mean(), inplace=True)\n",
    "df['Enough for % of people'].fillna(value=df['Enough for % of people'].mean(), inplace=True)\n",
    "df['Percentage of population with 1+ dose'].fillna(value=df['Percentage of population with 1+ dose'].mean(), inplace=True)\n",
    "df['Percentage of population fully vaccinated'].fillna(value=df['Percentage of population fully vaccinated'].mean(), inplace=True)\n",
    "df['Daily rate of doses administered'].fillna(value=df['Daily rate of doses administered'].mean(), inplace=True)"
   ]
  },
  {
   "cell_type": "code",
   "execution_count": 18,
   "id": "9b6c8345",
   "metadata": {},
   "outputs": [
    {
     "data": {
      "text/html": [
       "<div>\n",
       "<style scoped>\n",
       "    .dataframe tbody tr th:only-of-type {\n",
       "        vertical-align: middle;\n",
       "    }\n",
       "\n",
       "    .dataframe tbody tr th {\n",
       "        vertical-align: top;\n",
       "    }\n",
       "\n",
       "    .dataframe thead th {\n",
       "        text-align: right;\n",
       "    }\n",
       "</style>\n",
       "<table border=\"1\" class=\"dataframe\">\n",
       "  <thead>\n",
       "    <tr style=\"text-align: right;\">\n",
       "      <th></th>\n",
       "      <th>Countries and regions</th>\n",
       "      <th>Doses administered</th>\n",
       "      <th>Enough for % of people</th>\n",
       "      <th>Percentage of population with 1+ dose</th>\n",
       "      <th>Percentage of population fully vaccinated</th>\n",
       "      <th>Daily rate of doses administered</th>\n",
       "    </tr>\n",
       "  </thead>\n",
       "  <tbody>\n",
       "    <tr>\n",
       "      <th>0</th>\n",
       "      <td>Global Total</td>\n",
       "      <td>5.663213e+09</td>\n",
       "      <td>35.59505</td>\n",
       "      <td>39.666</td>\n",
       "      <td>31.940609</td>\n",
       "      <td>33380378.0</td>\n",
       "    </tr>\n",
       "    <tr>\n",
       "      <th>1</th>\n",
       "      <td>Mainland China</td>\n",
       "      <td>2.129833e+09</td>\n",
       "      <td>76.10000</td>\n",
       "      <td>39.666</td>\n",
       "      <td>69.300000</td>\n",
       "      <td>6454714.0</td>\n",
       "    </tr>\n",
       "    <tr>\n",
       "      <th>2</th>\n",
       "      <td>India</td>\n",
       "      <td>7.303371e+08</td>\n",
       "      <td>26.70000</td>\n",
       "      <td>40.300</td>\n",
       "      <td>12.400000</td>\n",
       "      <td>7616167.0</td>\n",
       "    </tr>\n",
       "    <tr>\n",
       "      <th>3</th>\n",
       "      <td>EU</td>\n",
       "      <td>5.469671e+08</td>\n",
       "      <td>61.60000</td>\n",
       "      <td>66.000</td>\n",
       "      <td>61.500000</td>\n",
       "      <td>1394444.0</td>\n",
       "    </tr>\n",
       "    <tr>\n",
       "      <th>4</th>\n",
       "      <td>U.S.</td>\n",
       "      <td>3.785697e+08</td>\n",
       "      <td>59.20000</td>\n",
       "      <td>62.900</td>\n",
       "      <td>53.600000</td>\n",
       "      <td>721844.0</td>\n",
       "    </tr>\n",
       "  </tbody>\n",
       "</table>\n",
       "</div>"
      ],
      "text/plain": [
       "  Countries and regions  Doses administered  Enough for % of people  \\\n",
       "0          Global Total        5.663213e+09                35.59505   \n",
       "1        Mainland China        2.129833e+09                76.10000   \n",
       "2                 India        7.303371e+08                26.70000   \n",
       "3                    EU        5.469671e+08                61.60000   \n",
       "4                  U.S.        3.785697e+08                59.20000   \n",
       "\n",
       "   Percentage of population with 1+ dose  \\\n",
       "0                                 39.666   \n",
       "1                                 39.666   \n",
       "2                                 40.300   \n",
       "3                                 66.000   \n",
       "4                                 62.900   \n",
       "\n",
       "   Percentage of population fully vaccinated  Daily rate of doses administered  \n",
       "0                                  31.940609                        33380378.0  \n",
       "1                                  69.300000                         6454714.0  \n",
       "2                                  12.400000                         7616167.0  \n",
       "3                                  61.500000                         1394444.0  \n",
       "4                                  53.600000                          721844.0  "
      ]
     },
     "execution_count": 18,
     "metadata": {},
     "output_type": "execute_result"
    }
   ],
   "source": [
    "df.head(5)"
   ]
  },
  {
   "cell_type": "code",
   "execution_count": 19,
   "id": "410c0012",
   "metadata": {},
   "outputs": [
    {
     "data": {
      "text/plain": [
       "<AxesSubplot:>"
      ]
     },
     "execution_count": 19,
     "metadata": {},
     "output_type": "execute_result"
    },
    {
     "data": {
      "image/png": "[encoded data removed]",
      "text/plain": [
       "<Figure size 432x288 with 1 Axes>"
      ]
     },
     "metadata": {
      "needs_background": "light"
     },
     "output_type": "display_data"
    }
   ],
   "source": [
    "df.plot.area(stacked=False)"
   ]
  },
  {
   "cell_type": "code",
   "execution_count": 24,
   "id": "734122e9",
   "metadata": {},
   "outputs": [
    {
     "data": {
      "text/plain": [
       "array([[<AxesSubplot:>, <AxesSubplot:>, <AxesSubplot:>],\n",
       "       [<AxesSubplot:>, <AxesSubplot:>, <AxesSubplot:>]], dtype=object)"
      ]
     },
     "execution_count": 24,
     "metadata": {},
     "output_type": "execute_result"
    },
    {
     "data": {
      "image/png": "[encoded data removed]",
      "text/plain": [
       "<Figure size 432x432 with 6 Axes>"
      ]
     },
     "metadata": {
      "needs_background": "light"
     },
     "output_type": "display_data"
    }
   ],
   "source": [
    "df.plot(subplots=True, layout=(2, 3), figsize=(6, 6), sharex=False)"
   ]
  },
  {
   "cell_type": "code",
   "execution_count": 27,
   "id": "a5fa729c",
   "metadata": {},
   "outputs": [
    {
     "data": {
      "text/html": [
       "<div>\n",
       "<style scoped>\n",
       "    .dataframe tbody tr th:only-of-type {\n",
       "        vertical-align: middle;\n",
       "    }\n",
       "\n",
       "    .dataframe tbody tr th {\n",
       "        vertical-align: top;\n",
       "    }\n",
       "\n",
       "    .dataframe thead th {\n",
       "        text-align: right;\n",
       "    }\n",
       "</style>\n",
       "<table border=\"1\" class=\"dataframe\">\n",
       "  <thead>\n",
       "    <tr style=\"text-align: right;\">\n",
       "      <th></th>\n",
       "      <th>Countries and regions</th>\n",
       "      <th>Doses administered</th>\n",
       "      <th>Enough for % of people</th>\n",
       "      <th>Percentage of population with 1+ dose</th>\n",
       "      <th>Percentage of population fully vaccinated</th>\n",
       "      <th>Daily rate of doses administered</th>\n",
       "    </tr>\n",
       "  </thead>\n",
       "  <tbody>\n",
       "    <tr>\n",
       "      <th>2</th>\n",
       "      <td>India</td>\n",
       "      <td>730337116.0</td>\n",
       "      <td>26.7</td>\n",
       "      <td>40.3</td>\n",
       "      <td>12.4</td>\n",
       "      <td>7616167.0</td>\n",
       "    </tr>\n",
       "  </tbody>\n",
       "</table>\n",
       "</div>"
      ],
      "text/plain": [
       "  Countries and regions  Doses administered  Enough for % of people  \\\n",
       "2                 India         730337116.0                    26.7   \n",
       "\n",
       "   Percentage of population with 1+ dose  \\\n",
       "2                                   40.3   \n",
       "\n",
       "   Percentage of population fully vaccinated  Daily rate of doses administered  \n",
       "2                                       12.4                         7616167.0  "
      ]
     },
     "execution_count": 27,
     "metadata": {},
     "output_type": "execute_result"
    }
   ],
   "source": [
    "india = df[df['Countries and regions']=='India']\n",
    "india"
   ]
  },
  {
   "cell_type": "code",
   "execution_count": 30,
   "id": "beaa0f03",
   "metadata": {},
   "outputs": [
    {
     "data": {
      "image/png": "[encoded data removed]",
      "text/plain": [
       "<Figure size 432x288 with 1 Axes>"
      ]
     },
     "metadata": {
      "needs_background": "light"
     },
     "output_type": "display_data"
    }
   ],
   "source": [
    "plt.figure()\n",
    "\n",
    "with pd.plotting.plot_params.use(\"x_compat\", True):\n",
    "    df[\"Doses administered\"].plot(color=\"r\")\n",
    "    df[\"Enough for % of people\"].plot(color=\"g\")\n",
    "    df[\"Percentage of population with 1+ dose\"].plot(color=\"b\")\n",
    "    df[\"Percentage of population fully vaccinated\"].plot(color=\"g\")\n",
    "    df[\"Daily rate of doses administered\"].plot(color=\"b\")"
   ]
  },
  {
   "cell_type": "code",
   "execution_count": 31,
   "id": "dd26ecdc",
   "metadata": {},
   "outputs": [
    {
     "data": {
      "text/plain": [
       "<AxesSubplot:>"
      ]
     },
     "execution_count": 31,
     "metadata": {},
     "output_type": "execute_result"
    },
    {
     "data": {
      "image/png": "[encoded data removed]",
      "text/plain": [
       "<Figure size 432x288 with 1 Axes>"
      ]
     },
     "metadata": {
      "needs_background": "light"
     },
     "output_type": "display_data"
    }
   ],
   "source": [
    "india.plot.area()"
   ]
  },
  {
   "cell_type": "code",
   "execution_count": 40,
   "id": "f344f272",
   "metadata": {},
   "outputs": [
    {
     "data": {
      "text/html": [
       "<div>\n",
       "<style scoped>\n",
       "    .dataframe tbody tr th:only-of-type {\n",
       "        vertical-align: middle;\n",
       "    }\n",
       "\n",
       "    .dataframe tbody tr th {\n",
       "        vertical-align: top;\n",
       "    }\n",
       "\n",
       "    .dataframe thead th {\n",
       "        text-align: right;\n",
       "    }\n",
       "</style>\n",
       "<table border=\"1\" class=\"dataframe\">\n",
       "  <thead>\n",
       "    <tr style=\"text-align: right;\">\n",
       "      <th></th>\n",
       "      <th>location</th>\n",
       "      <th>Doses administered</th>\n",
       "      <th>Enough for % of people</th>\n",
       "      <th>Percentage of population with 1+ dose</th>\n",
       "      <th>%_population_fully_vaccinated</th>\n",
       "      <th>Daily rate of doses administered</th>\n",
       "    </tr>\n",
       "  </thead>\n",
       "  <tbody>\n",
       "    <tr>\n",
       "      <th>0</th>\n",
       "      <td>Global Total</td>\n",
       "      <td>5.663213e+09</td>\n",
       "      <td>35.59505</td>\n",
       "      <td>39.666</td>\n",
       "      <td>31.940609</td>\n",
       "      <td>3.338038e+07</td>\n",
       "    </tr>\n",
       "    <tr>\n",
       "      <th>1</th>\n",
       "      <td>Mainland China</td>\n",
       "      <td>2.129833e+09</td>\n",
       "      <td>76.10000</td>\n",
       "      <td>39.666</td>\n",
       "      <td>69.300000</td>\n",
       "      <td>6.454714e+06</td>\n",
       "    </tr>\n",
       "    <tr>\n",
       "      <th>2</th>\n",
       "      <td>India</td>\n",
       "      <td>7.303371e+08</td>\n",
       "      <td>26.70000</td>\n",
       "      <td>40.300</td>\n",
       "      <td>12.400000</td>\n",
       "      <td>7.616167e+06</td>\n",
       "    </tr>\n",
       "    <tr>\n",
       "      <th>3</th>\n",
       "      <td>EU</td>\n",
       "      <td>5.469671e+08</td>\n",
       "      <td>61.60000</td>\n",
       "      <td>66.000</td>\n",
       "      <td>61.500000</td>\n",
       "      <td>1.394444e+06</td>\n",
       "    </tr>\n",
       "    <tr>\n",
       "      <th>4</th>\n",
       "      <td>U.S.</td>\n",
       "      <td>3.785697e+08</td>\n",
       "      <td>59.20000</td>\n",
       "      <td>62.900</td>\n",
       "      <td>53.600000</td>\n",
       "      <td>7.218440e+05</td>\n",
       "    </tr>\n",
       "    <tr>\n",
       "      <th>...</th>\n",
       "      <td>...</td>\n",
       "      <td>...</td>\n",
       "      <td>...</td>\n",
       "      <td>...</td>\n",
       "      <td>...</td>\n",
       "      <td>...</td>\n",
       "    </tr>\n",
       "    <tr>\n",
       "      <th>202</th>\n",
       "      <td>Nauru</td>\n",
       "      <td>1.479000e+04</td>\n",
       "      <td>56.90000</td>\n",
       "      <td>58.600</td>\n",
       "      <td>55.200000</td>\n",
       "      <td>3.357373e+05</td>\n",
       "    </tr>\n",
       "    <tr>\n",
       "      <th>203</th>\n",
       "      <td>St. Helena</td>\n",
       "      <td>7.892000e+03</td>\n",
       "      <td>65.80000</td>\n",
       "      <td>72.700</td>\n",
       "      <td>58.900000</td>\n",
       "      <td>8.000000e+00</td>\n",
       "    </tr>\n",
       "    <tr>\n",
       "      <th>204</th>\n",
       "      <td>Falkland Islands</td>\n",
       "      <td>4.407000e+03</td>\n",
       "      <td>73.50000</td>\n",
       "      <td>87.700</td>\n",
       "      <td>59.200000</td>\n",
       "      <td>2.020000e+02</td>\n",
       "    </tr>\n",
       "    <tr>\n",
       "      <th>205</th>\n",
       "      <td>Montserrat</td>\n",
       "      <td>2.837000e+03</td>\n",
       "      <td>28.40000</td>\n",
       "      <td>29.300</td>\n",
       "      <td>27.400000</td>\n",
       "      <td>3.357373e+05</td>\n",
       "    </tr>\n",
       "    <tr>\n",
       "      <th>206</th>\n",
       "      <td>Eritrea</td>\n",
       "      <td>5.763783e+07</td>\n",
       "      <td>35.59505</td>\n",
       "      <td>39.666</td>\n",
       "      <td>31.940609</td>\n",
       "      <td>3.357373e+05</td>\n",
       "    </tr>\n",
       "  </tbody>\n",
       "</table>\n",
       "<p>207 rows × 6 columns</p>\n",
       "</div>"
      ],
      "text/plain": [
       "             location  Doses administered  Enough for % of people  \\\n",
       "0        Global Total        5.663213e+09                35.59505   \n",
       "1      Mainland China        2.129833e+09                76.10000   \n",
       "2               India        7.303371e+08                26.70000   \n",
       "3                  EU        5.469671e+08                61.60000   \n",
       "4                U.S.        3.785697e+08                59.20000   \n",
       "..                ...                 ...                     ...   \n",
       "202             Nauru        1.479000e+04                56.90000   \n",
       "203        St. Helena        7.892000e+03                65.80000   \n",
       "204  Falkland Islands        4.407000e+03                73.50000   \n",
       "205        Montserrat        2.837000e+03                28.40000   \n",
       "206           Eritrea        5.763783e+07                35.59505   \n",
       "\n",
       "     Percentage of population with 1+ dose  %_population_fully_vaccinated  \\\n",
       "0                                   39.666                      31.940609   \n",
       "1                                   39.666                      69.300000   \n",
       "2                                   40.300                      12.400000   \n",
       "3                                   66.000                      61.500000   \n",
       "4                                   62.900                      53.600000   \n",
       "..                                     ...                            ...   \n",
       "202                                 58.600                      55.200000   \n",
       "203                                 72.700                      58.900000   \n",
       "204                                 87.700                      59.200000   \n",
       "205                                 29.300                      27.400000   \n",
       "206                                 39.666                      31.940609   \n",
       "\n",
       "     Daily rate of doses administered  \n",
       "0                        3.338038e+07  \n",
       "1                        6.454714e+06  \n",
       "2                        7.616167e+06  \n",
       "3                        1.394444e+06  \n",
       "4                        7.218440e+05  \n",
       "..                                ...  \n",
       "202                      3.357373e+05  \n",
       "203                      8.000000e+00  \n",
       "204                      2.020000e+02  \n",
       "205                      3.357373e+05  \n",
       "206                      3.357373e+05  \n",
       "\n",
       "[207 rows x 6 columns]"
      ]
     },
     "execution_count": 40,
     "metadata": {},
     "output_type": "execute_result"
    }
   ],
   "source": [
    "df.rename({'Countries and regions': 'location', 'Percentage of population fully vaccinated': '%_population_fully_vaccinated'}, axis=1, inplace=True)\n",
    "df"
   ]
  },
  {
   "cell_type": "code",
   "execution_count": 61,
   "id": "9a82fbd6",
   "metadata": {},
   "outputs": [],
   "source": [
    "def plot_net_conv(scope,title):\n",
    " fig = px.choropleth(\n",
    " df,\n",
    " locations =\"location\",\n",
    " color =\"Percentage of population with 1+ dose\",\n",
    " hover_name =\"%_population_fully_vaccinated\",\n",
    " scope=scope,\n",
    " color_continuous_scale='RdYlGn',\n",
    " animation_frame =\"Enough for % of people\")\n",
    " \n",
    " fig.update_layout(title_text=title,\n",
    " font_family=\"Rockwell\",\n",
    " title_font_size=20,\n",
    " coloraxis_colorbar=dict(\n",
    " title='Percentage of population fully vaccinated'))\n",
    " \n",
    " fig.show()"
   ]
  },
  {
   "cell_type": "code",
   "execution_count": 62,
   "id": "4d28a675",
   "metadata": {},
   "outputs": [
    {
     "data": {
      "application/vnd.plotly.v1+json": {
       "config": {
        "plotlyServerURL": "https://plot.ly"
       },
       "data": [
        {
         "coloraxis": "coloraxis",
         "geo": "geo",
         "hovertemplate": "<b>%{hovertext}</b><br><br>Enough for % of people=35.595049504950495<br>location=%{location}<br>Percentage of population with 1+ dose=%{z}<extra></extra>",
         "hovertext": [
          31.940609137055848,
          31.940609137055848,
          31.940609137055848,
          31.940609137055848,
          31.940609137055848
         ],
         "locations": [
          "Global Total",
          "Syria",
          "Jersey",
          "Guernsey",
          "Eritrea"
         ],
         "name": "",
         "type": "choropleth",
         "z": [
          39.666000000000004,
          39.666000000000004,
          39.666000000000004,
          39.666000000000004,
          39.666000000000004
         ]
        }
       ],
       "frames": [
        {
         "data": [
          {
           "coloraxis": "coloraxis",
           "geo": "geo",
           "hovertemplate": "<b>%{hovertext}</b><br><br>Enough for % of people=35.595049504950495<br>location=%{location}<br>Percentage of population with 1+ dose=%{z}<extra></extra>",
           "hovertext": [
            31.940609137055848,
            31.940609137055848,
            31.940609137055848,
            31.940609137055848,
            31.940609137055848
           ],
           "locations": [
            "Global Total",
            "Syria",
            "Jersey",
            "Guernsey",
            "Eritrea"
           ],
           "name": "",
           "type": "choropleth",
           "z": [
            39.666000000000004,
            39.666000000000004,
            39.666000000000004,
            39.666000000000004,
            39.666000000000004
           ]
          }
         ],
         "name": "35.595049504950495"
        },
        {
         "data": [
          {
           "coloraxis": "coloraxis",
           "geo": "geo",
           "hovertemplate": "<b>%{hovertext}</b><br><br>Enough for % of people=76.1<br>location=%{location}<br>Percentage of population with 1+ dose=%{z}<extra></extra>",
           "hovertext": [
            69.3
           ],
           "locations": [
            "Mainland China"
           ],
           "name": "",
           "type": "choropleth",
           "z": [
            39.666000000000004
           ]
          }
         ],
         "name": "76.1"
        },
        {
         "data": [
          {
           "coloraxis": "coloraxis",
           "geo": "geo",
           "hovertemplate": "<b>%{hovertext}</b><br><br>Enough for % of people=26.7<br>location=%{location}<br>Percentage of population with 1+ dose=%{z}<extra></extra>",
           "hovertext": [
            12.4,
            21.7
           ],
           "locations": [
            "India",
            "Tunisia"
           ],
           "name": "",
           "type": "choropleth",
           "z": [
            40.3,
            37.5
           ]
          }
         ],
         "name": "26.7"
        },
        {
         "data": [
          {
           "coloraxis": "coloraxis",
           "geo": "geo",
           "hovertemplate": "<b>%{hovertext}</b><br><br>Enough for % of people=61.6<br>location=%{location}<br>Percentage of population with 1+ dose=%{z}<extra></extra>",
           "hovertext": [
            61.5,
            55.6,
            59.9
           ],
           "locations": [
            "EU",
            "Cambodia",
            "Anguilla"
           ],
           "name": "",
           "type": "choropleth",
           "z": [
            66,
            68.9,
            63.3
           ]
          }
         ],
         "name": "61.6"
        },
        {
         "data": [
          {
           "coloraxis": "coloraxis",
           "geo": "geo",
           "hovertemplate": "<b>%{hovertext}</b><br><br>Enough for % of people=59.2<br>location=%{location}<br>Percentage of population with 1+ dose=%{z}<extra></extra>",
           "hovertext": [
            53.6
           ],
           "locations": [
            "U.S."
           ],
           "name": "",
           "type": "choropleth",
           "z": [
            62.9
           ]
          }
         ],
         "name": "59.2"
        },
        {
         "data": [
          {
           "coloraxis": "coloraxis",
           "geo": "geo",
           "hovertemplate": "<b>%{hovertext}</b><br><br>Enough for % of people=50.0<br>location=%{location}<br>Percentage of population with 1+ dose=%{z}<extra></extra>",
           "hovertext": [
            33.2
           ],
           "locations": [
            "Brazil"
           ],
           "name": "",
           "type": "choropleth",
           "z": [
            66.9
           ]
          }
         ],
         "name": "50.0"
        },
        {
         "data": [
          {
           "coloraxis": "coloraxis",
           "geo": "geo",
           "hovertemplate": "<b>%{hovertext}</b><br><br>Enough for % of people=56.0<br>location=%{location}<br>Percentage of population with 1+ dose=%{z}<extra></extra>",
           "hovertext": [
            50
           ],
           "locations": [
            "Japan"
           ],
           "name": "",
           "type": "choropleth",
           "z": [
            62.1
           ]
          }
         ],
         "name": "56.0"
        },
        {
         "data": [
          {
           "coloraxis": "coloraxis",
           "geo": "geo",
           "hovertemplate": "<b>%{hovertext}</b><br><br>Enough for % of people=20.9<br>location=%{location}<br>Percentage of population with 1+ dose=%{z}<extra></extra>",
           "hovertext": [
            15.1,
            17.8
           ],
           "locations": [
            "Indonesia",
            "Grenada"
           ],
           "name": "",
           "type": "choropleth",
           "z": [
            26.3,
            23.9
           ]
          }
         ],
         "name": "20.9"
        },
        {
         "data": [
          {
           "coloraxis": "coloraxis",
           "geo": "geo",
           "hovertemplate": "<b>%{hovertext}</b><br><br>Enough for % of people=62.5<br>location=%{location}<br>Percentage of population with 1+ dose=%{z}<extra></extra>",
           "hovertext": [
            61.9
           ],
           "locations": [
            "Germany"
           ],
           "name": "",
           "type": "choropleth",
           "z": [
            66.4
           ]
          }
         ],
         "name": "62.5"
        },
        {
         "data": [
          {
           "coloraxis": "coloraxis",
           "geo": "geo",
           "hovertemplate": "<b>%{hovertext}</b><br><br>Enough for % of people=60.8<br>location=%{location}<br>Percentage of population with 1+ dose=%{z}<extra></extra>",
           "hovertext": [
            48.1
           ],
           "locations": [
            "Turkey"
           ],
           "name": "",
           "type": "choropleth",
           "z": [
            61.6
           ]
          }
         ],
         "name": "60.8"
        },
        {
         "data": [
          {
           "coloraxis": "coloraxis",
           "geo": "geo",
           "hovertemplate": "<b>%{hovertext}</b><br><br>Enough for % of people=69.0<br>location=%{location}<br>Percentage of population with 1+ dose=%{z}<extra></extra>",
           "hovertext": [
            65.6,
            64
           ],
           "locations": [
            "U.K.",
            "Norway"
           ],
           "name": "",
           "type": "choropleth",
           "z": [
            72.4,
            73.9
           ]
          }
         ],
         "name": "69.0"
        },
        {
         "data": [
          {
           "coloraxis": "coloraxis",
           "geo": "geo",
           "hovertemplate": "<b>%{hovertext}</b><br><br>Enough for % of people=69.9<br>location=%{location}<br>Percentage of population with 1+ dose=%{z}<extra></extra>",
           "hovertext": [
            71.3
           ],
           "locations": [
            "France"
           ],
           "name": "",
           "type": "choropleth",
           "z": [
            76.1
           ]
          }
         ],
         "name": "69.9"
        },
        {
         "data": [
          {
           "coloraxis": "coloraxis",
           "geo": "geo",
           "hovertemplate": "<b>%{hovertext}</b><br><br>Enough for % of people=35.1<br>location=%{location}<br>Percentage of population with 1+ dose=%{z}<extra></extra>",
           "hovertext": [
            28.9
           ],
           "locations": [
            "Mexico"
           ],
           "name": "",
           "type": "choropleth",
           "z": [
            46.7
           ]
          }
         ],
         "name": "35.1"
        },
        {
         "data": [
          {
           "coloraxis": "coloraxis",
           "geo": "geo",
           "hovertemplate": "<b>%{hovertext}</b><br><br>Enough for % of people=29.0<br>location=%{location}<br>Percentage of population with 1+ dose=%{z}<extra></extra>",
           "hovertext": [
            26.7
           ],
           "locations": [
            "Russia"
           ],
           "name": "",
           "type": "choropleth",
           "z": [
            30.7
           ]
          }
         ],
         "name": "29.0"
        },
        {
         "data": [
          {
           "coloraxis": "coloraxis",
           "geo": "geo",
           "hovertemplate": "<b>%{hovertext}</b><br><br>Enough for % of people=66.6<br>location=%{location}<br>Percentage of population with 1+ dose=%{z}<extra></extra>",
           "hovertext": [
            65.6
           ],
           "locations": [
            "Italy"
           ],
           "name": "",
           "type": "choropleth",
           "z": [
            72.2
           ]
          }
         ],
         "name": "66.6"
        },
        {
         "data": [
          {
           "coloraxis": "coloraxis",
           "geo": "geo",
           "hovertemplate": "<b>%{hovertext}</b><br><br>Enough for % of people=73.4<br>location=%{location}<br>Percentage of population with 1+ dose=%{z}<extra></extra>",
           "hovertext": [
            75.4
           ],
           "locations": [
            "Spain"
           ],
           "name": "",
           "type": "choropleth",
           "z": [
            79.9
           ]
          }
         ],
         "name": "73.4"
        },
        {
         "data": [
          {
           "coloraxis": "coloraxis",
           "geo": "geo",
           "hovertemplate": "<b>%{hovertext}</b><br><br>Enough for % of people=16.2<br>location=%{location}<br>Percentage of population with 1+ dose=%{z}<extra></extra>",
           "hovertext": [
            10.4
           ],
           "locations": [
            "Pakistan"
           ],
           "name": "",
           "type": "choropleth",
           "z": [
            24.5
           ]
          }
         ],
         "name": "16.2"
        },
        {
         "data": [
          {
           "coloraxis": "coloraxis",
           "geo": "geo",
           "hovertemplate": "<b>%{hovertext}</b><br><br>Enough for % of people=72.3<br>location=%{location}<br>Percentage of population with 1+ dose=%{z}<extra></extra>",
           "hovertext": [
            68.7
           ],
           "locations": [
            "Canada"
           ],
           "name": "",
           "type": "choropleth",
           "z": [
            74.7
           ]
          }
         ],
         "name": "72.3"
        },
        {
         "data": [
          {
           "coloraxis": "coloraxis",
           "geo": "geo",
           "hovertemplate": "<b>%{hovertext}</b><br><br>Enough for % of people=49.9<br>location=%{location}<br>Percentage of population with 1+ dose=%{z}<extra></extra>",
           "hovertext": [
            37.5
           ],
           "locations": [
            "South Korea"
           ],
           "name": "",
           "type": "choropleth",
           "z": [
            62.2
           ]
          }
         ],
         "name": "49.9"
        },
        {
         "data": [
          {
           "coloraxis": "coloraxis",
           "geo": "geo",
           "hovertemplate": "<b>%{hovertext}</b><br><br>Enough for % of people=51.6<br>location=%{location}<br>Percentage of population with 1+ dose=%{z}<extra></extra>",
           "hovertext": [
            39.5
           ],
           "locations": [
            "Argentina"
           ],
           "name": "",
           "type": "choropleth",
           "z": [
            63.7
           ]
          }
         ],
         "name": "51.6"
        },
        {
         "data": [
          {
           "coloraxis": "coloraxis",
           "geo": "geo",
           "hovertemplate": "<b>%{hovertext}</b><br><br>Enough for % of people=57.4<br>location=%{location}<br>Percentage of population with 1+ dose=%{z}<extra></extra>",
           "hovertext": [
            48.2,
            47.2
           ],
           "locations": [
            "Saudi Arabia",
            "Panama"
           ],
           "name": "",
           "type": "choropleth",
           "z": [
            66.6,
            67.5
           ]
          }
         ],
         "name": "57.4"
        },
        {
         "data": [
          {
           "coloraxis": "coloraxis",
           "geo": "geo",
           "hovertemplate": "<b>%{hovertext}</b><br><br>Enough for % of people=27.9<br>location=%{location}<br>Percentage of population with 1+ dose=%{z}<extra></extra>",
           "hovertext": [
            16.2
           ],
           "locations": [
            "Thailand"
           ],
           "name": "",
           "type": "choropleth",
           "z": [
            37.8
           ]
          }
         ],
         "name": "27.9"
        },
        {
         "data": [
          {
           "coloraxis": "coloraxis",
           "geo": "geo",
           "hovertemplate": "<b>%{hovertext}</b><br><br>Enough for % of people=58.3<br>location=%{location}<br>Percentage of population with 1+ dose=%{z}<extra></extra>",
           "hovertext": [
            51.2
           ],
           "locations": [
            "Malaysia"
           ],
           "name": "",
           "type": "choropleth",
           "z": [
            64.7
           ]
          }
         ],
         "name": "58.3"
        },
        {
         "data": [
          {
           "coloraxis": "coloraxis",
           "geo": "geo",
           "hovertemplate": "<b>%{hovertext}</b><br><br>Enough for % of people=17.6<br>location=%{location}<br>Percentage of population with 1+ dose=%{z}<extra></extra>",
           "hovertext": [
            15
           ],
           "locations": [
            "Philippines"
           ],
           "name": "",
           "type": "choropleth",
           "z": [
            20.5
           ]
          }
         ],
         "name": "17.6"
        },
        {
         "data": [
          {
           "coloraxis": "coloraxis",
           "geo": "geo",
           "hovertemplate": "<b>%{hovertext}</b><br><br>Enough for % of people=36.4<br>location=%{location}<br>Percentage of population with 1+ dose=%{z}<extra></extra>",
           "hovertext": [
            29.9
           ],
           "locations": [
            "Colombia"
           ],
           "name": "",
           "type": "choropleth",
           "z": [
            48.4
           ]
          }
         ],
         "name": "36.4"
        },
        {
         "data": [
          {
           "coloraxis": "coloraxis",
           "geo": "geo",
           "hovertemplate": "<b>%{hovertext}</b><br><br>Enough for % of people=48.2<br>location=%{location}<br>Percentage of population with 1+ dose=%{z}<extra></extra>",
           "hovertext": [
            50.1
           ],
           "locations": [
            "Poland"
           ],
           "name": "",
           "type": "choropleth",
           "z": [
            51.3
           ]
          }
         ],
         "name": "48.2"
        },
        {
         "data": [
          {
           "coloraxis": "coloraxis",
           "geo": "geo",
           "hovertemplate": "<b>%{hovertext}</b><br><br>Enough for % of people=50.6<br>location=%{location}<br>Percentage of population with 1+ dose=%{z}<extra></extra>",
           "hovertext": [
            45.7
           ],
           "locations": [
            "Morocco"
           ],
           "name": "",
           "type": "choropleth",
           "z": [
            55.5
           ]
          }
         ],
         "name": "50.6"
        },
        {
         "data": [
          {
           "coloraxis": "coloraxis",
           "geo": "geo",
           "hovertemplate": "<b>%{hovertext}</b><br><br>Enough for % of people=9.8<br>location=%{location}<br>Percentage of population with 1+ dose=%{z}<extra></extra>",
           "hovertext": [
            7.6,
            8
           ],
           "locations": [
            "Bangladesh",
            "Kyrgyzstan"
           ],
           "name": "",
           "type": "choropleth",
           "z": [
            12.1,
            11.4
           ]
          }
         ],
         "name": "9.8"
        },
        {
         "data": [
          {
           "coloraxis": "coloraxis",
           "geo": "geo",
           "hovertemplate": "<b>%{hovertext}</b><br><br>Enough for % of people=78.3<br>location=%{location}<br>Percentage of population with 1+ dose=%{z}<extra></extra>",
           "hovertext": [
            72.6
           ],
           "locations": [
            "Chile"
           ],
           "name": "",
           "type": "choropleth",
           "z": [
            75.7
           ]
          }
         ],
         "name": "78.3"
        },
        {
         "data": [
          {
           "coloraxis": "coloraxis",
           "geo": "geo",
           "hovertemplate": "<b>%{hovertext}</b><br><br>Enough for % of people=17.5<br>location=%{location}<br>Percentage of population with 1+ dose=%{z}<extra></extra>",
           "hovertext": [
            11.6
           ],
           "locations": [
            "Iran"
           ],
           "name": "",
           "type": "choropleth",
           "z": [
            23.4
           ]
          }
         ],
         "name": "17.5"
        },
        {
         "data": [
          {
           "coloraxis": "coloraxis",
           "geo": "geo",
           "hovertemplate": "<b>%{hovertext}</b><br><br>Enough for % of people=12.2<br>location=%{location}<br>Percentage of population with 1+ dose=%{z}<extra></extra>",
           "hovertext": [
            3.9
           ],
           "locations": [
            "Vietnam"
           ],
           "name": "",
           "type": "choropleth",
           "z": [
            20.5
           ]
          }
         ],
         "name": "12.2"
        },
        {
         "data": [
          {
           "coloraxis": "coloraxis",
           "geo": "geo",
           "hovertemplate": "<b>%{hovertext}</b><br><br>Enough for % of people=53.8<br>location=%{location}<br>Percentage of population with 1+ dose=%{z}<extra></extra>",
           "hovertext": [
            45.8
           ],
           "locations": [
            "Sri Lanka"
           ],
           "name": "",
           "type": "choropleth",
           "z": [
            60.2
           ]
          }
         ],
         "name": "53.8"
        },
        {
         "data": [
          {
           "coloraxis": "coloraxis",
           "geo": "geo",
           "hovertemplate": "<b>%{hovertext}</b><br><br>Enough for % of people=67.3<br>location=%{location}<br>Percentage of population with 1+ dose=%{z}<extra></extra>",
           "hovertext": [
            62.9
           ],
           "locations": [
            "Netherlands"
           ],
           "name": "",
           "type": "choropleth",
           "z": [
            69.8
           ]
          }
         ],
         "name": "67.3"
        },
        {
         "data": [
          {
           "coloraxis": "coloraxis",
           "geo": "geo",
           "hovertemplate": "<b>%{hovertext}</b><br><br>Enough for % of people=43.4<br>location=%{location}<br>Percentage of population with 1+ dose=%{z}<extra></extra>",
           "hovertext": [
            32.4
           ],
           "locations": [
            "Australia"
           ],
           "name": "",
           "type": "choropleth",
           "z": [
            53.2
           ]
          }
         ],
         "name": "43.4"
        },
        {
         "data": [
          {
           "coloraxis": "coloraxis",
           "geo": "geo",
           "hovertemplate": "<b>%{hovertext}</b><br><br>Enough for % of people=31.2<br>location=%{location}<br>Percentage of population with 1+ dose=%{z}<extra></extra>",
           "hovertext": [
            26.3
           ],
           "locations": [
            "Peru"
           ],
           "name": "",
           "type": "choropleth",
           "z": [
            35.5
           ]
          }
         ],
         "name": "31.2"
        },
        {
         "data": [
          {
           "coloraxis": "coloraxis",
           "geo": "geo",
           "hovertemplate": "<b>%{hovertext}</b><br><br>Enough for % of people=58.4<br>location=%{location}<br>Percentage of population with 1+ dose=%{z}<extra></extra>",
           "hovertext": [
            54.9
           ],
           "locations": [
            "Ecuador"
           ],
           "name": "",
           "type": "choropleth",
           "z": [
            63.1
           ]
          }
         ],
         "name": "58.4"
        },
        {
         "data": [
          {
           "coloraxis": "coloraxis",
           "geo": "geo",
           "hovertemplate": "<b>%{hovertext}</b><br><br>Enough for % of people=87.5<br>location=%{location}<br>Percentage of population with 1+ dose=%{z}<extra></extra>",
           "hovertext": [
            72.1
           ],
           "locations": [
            "UAE"
           ],
           "name": "",
           "type": "choropleth",
           "z": [
            82.4
           ]
          }
         ],
         "name": "87.5"
        },
        {
         "data": [
          {
           "coloraxis": "coloraxis",
           "geo": "geo",
           "hovertemplate": "<b>%{hovertext}</b><br><br>Enough for % of people=71.4<br>location=%{location}<br>Percentage of population with 1+ dose=%{z}<extra></extra>",
           "hovertext": [
            71.9
           ],
           "locations": [
            "Belgium"
           ],
           "name": "",
           "type": "choropleth",
           "z": [
            74
           ]
          }
         ],
         "name": "71.4"
        },
        {
         "data": [
          {
           "coloraxis": "coloraxis",
           "geo": "geo",
           "hovertemplate": "<b>%{hovertext}</b><br><br>Enough for % of people=24.0<br>location=%{location}<br>Percentage of population with 1+ dose=%{z}<extra></extra>",
           "hovertext": [
            8.7
           ],
           "locations": [
            "Uzbekistan"
           ],
           "name": "",
           "type": "choropleth",
           "z": [
            29.4
           ]
          }
         ],
         "name": "24.0"
        },
        {
         "data": [
          {
           "coloraxis": "coloraxis",
           "geo": "geo",
           "hovertemplate": "<b>%{hovertext}</b><br><br>Enough for % of people=68.5<br>location=%{location}<br>Percentage of population with 1+ dose=%{z}<extra></extra>",
           "hovertext": [
            36.8,
            70.6
           ],
           "locations": [
            "Cuba",
            "San Marino"
           ],
           "name": "",
           "type": "choropleth",
           "z": [
            55.6,
            70.5
           ]
          }
         ],
         "name": "68.5"
        },
        {
         "data": [
          {
           "coloraxis": "coloraxis",
           "geo": "geo",
           "hovertemplate": "<b>%{hovertext}</b><br><br>Enough for % of people=74.1<br>location=%{location}<br>Percentage of population with 1+ dose=%{z}<extra></extra>",
           "hovertext": [
            78.2,
            72.1
           ],
           "locations": [
            "Portugal",
            "Faroe Islands"
           ],
           "name": "",
           "type": "choropleth",
           "z": [
            85.6,
            76.1
           ]
          }
         ],
         "name": "74.1"
        },
        {
         "data": [
          {
           "coloraxis": "coloraxis",
           "geo": "geo",
           "hovertemplate": "<b>%{hovertext}</b><br><br>Enough for % of people=18.0<br>location=%{location}<br>Percentage of population with 1+ dose=%{z}<extra></extra>",
           "hovertext": [
            11.1
           ],
           "locations": [
            "Ukraine"
           ],
           "name": "",
           "type": "choropleth",
           "z": [
            24.9
           ]
          }
         ],
         "name": "18.0"
        },
        {
         "data": [
          {
           "coloraxis": "coloraxis",
           "geo": "geo",
           "hovertemplate": "<b>%{hovertext}</b><br><br>Enough for % of people=14.0<br>location=%{location}<br>Percentage of population with 1+ dose=%{z}<extra></extra>",
           "hovertext": [
            11.7
           ],
           "locations": [
            "South Africa"
           ],
           "name": "",
           "type": "choropleth",
           "z": [
            17.6
           ]
          }
         ],
         "name": "14.0"
        },
        {
         "data": [
          {
           "coloraxis": "coloraxis",
           "geo": "geo",
           "hovertemplate": "<b>%{hovertext}</b><br><br>Enough for % of people=79.4<br>location=%{location}<br>Percentage of population with 1+ dose=%{z}<extra></extra>",
           "hovertext": [
            61.2
           ],
           "locations": [
            "Israel"
           ],
           "name": "",
           "type": "choropleth",
           "z": [
            66.7
           ]
          }
         ],
         "name": "79.4"
        },
        {
         "data": [
          {
           "coloraxis": "coloraxis",
           "geo": "geo",
           "hovertemplate": "<b>%{hovertext}</b><br><br>Enough for % of people=63.6<br>location=%{location}<br>Percentage of population with 1+ dose=%{z}<extra></extra>",
           "hovertext": [
            59.4
           ],
           "locations": [
            "Sweden"
           ],
           "name": "",
           "type": "choropleth",
           "z": [
            67.8
           ]
          }
         ],
         "name": "63.6"
        },
        {
         "data": [
          {
           "coloraxis": "coloraxis",
           "geo": "geo",
           "hovertemplate": "<b>%{hovertext}</b><br><br>Enough for % of people=34.5<br>location=%{location}<br>Percentage of population with 1+ dose=%{z}<extra></extra>",
           "hovertext": [
            31.1,
            30.5
           ],
           "locations": [
            "Kazakhstan",
            "Trinidad and Tobago"
           ],
           "name": "",
           "type": "choropleth",
           "z": [
            37.4,
            38.5
           ]
          }
         ],
         "name": "34.5"
        },
        {
         "data": [
          {
           "coloraxis": "coloraxis",
           "geo": "geo",
           "hovertemplate": "<b>%{hovertext}</b><br><br>Enough for % of people=25.3<br>location=%{location}<br>Percentage of population with 1+ dose=%{z}<extra></extra>",
           "hovertext": [
            4.3
           ],
           "locations": [
            "Taiwan"
           ],
           "name": "",
           "type": "choropleth",
           "z": [
            46.4
           ]
          }
         ],
         "name": "25.3"
        },
        {
         "data": [
          {
           "coloraxis": "coloraxis",
           "geo": "geo",
           "hovertemplate": "<b>%{hovertext}</b><br><br>Enough for % of people=59.8<br>location=%{location}<br>Percentage of population with 1+ dose=%{z}<extra></extra>",
           "hovertext": [
            56.7,
            59.6
           ],
           "locations": [
            "Hungary",
            "Austria"
           ],
           "name": "",
           "type": "choropleth",
           "z": [
            59.7,
            63
           ]
          }
         ],
         "name": "59.8"
        },
        {
         "data": [
          {
           "coloraxis": "coloraxis",
           "geo": "geo",
           "hovertemplate": "<b>%{hovertext}</b><br><br>Enough for % of people=54.2<br>location=%{location}<br>Percentage of population with 1+ dose=%{z}<extra></extra>",
           "hovertext": [
            54.3
           ],
           "locations": [
            "Greece"
           ],
           "name": "",
           "type": "choropleth",
           "z": [
            58
           ]
          }
         ],
         "name": "54.2"
        },
        {
         "data": [
          {
           "coloraxis": "coloraxis",
           "geo": "geo",
           "hovertemplate": "<b>%{hovertext}</b><br><br>Enough for % of people=54.5<br>location=%{location}<br>Percentage of population with 1+ dose=%{z}<extra></extra>",
           "hovertext": [
            54.7
           ],
           "locations": [
            "Czech Republic"
           ],
           "name": "",
           "type": "choropleth",
           "z": [
            56.3
           ]
          }
         ],
         "name": "54.5"
        },
        {
         "data": [
          {
           "coloraxis": "coloraxis",
           "geo": "geo",
           "hovertemplate": "<b>%{hovertext}</b><br><br>Enough for % of people=55.1<br>location=%{location}<br>Percentage of population with 1+ dose=%{z}<extra></extra>",
           "hovertext": [
            52
           ],
           "locations": [
            "Dominican Republic"
           ],
           "name": "",
           "type": "choropleth",
           "z": [
            56.9
           ]
          }
         ],
         "name": "55.1"
        },
        {
         "data": [
          {
           "coloraxis": "coloraxis",
           "geo": "geo",
           "hovertemplate": "<b>%{hovertext}</b><br><br>Enough for % of people=19.0<br>location=%{location}<br>Percentage of population with 1+ dose=%{z}<extra></extra>",
           "hovertext": [
            17.9
           ],
           "locations": [
            "Nepal"
           ],
           "name": "",
           "type": "choropleth",
           "z": [
            20.1
           ]
          }
         ],
         "name": "19.0"
        },
        {
         "data": [
          {
           "coloraxis": "coloraxis",
           "geo": "geo",
           "hovertemplate": "<b>%{hovertext}</b><br><br>Enough for % of people=5.4<br>location=%{location}<br>Percentage of population with 1+ dose=%{z}<extra></extra>",
           "hovertext": [
            3.7
           ],
           "locations": [
            "Egypt"
           ],
           "name": "",
           "type": "choropleth",
           "z": [
            7.1
           ]
          }
         ],
         "name": "5.4"
        },
        {
         "data": [
          {
           "coloraxis": "coloraxis",
           "geo": "geo",
           "hovertemplate": "<b>%{hovertext}</b><br><br>Enough for % of people=25.4<br>location=%{location}<br>Percentage of population with 1+ dose=%{z}<extra></extra>",
           "hovertext": [
            26.7
           ],
           "locations": [
            "Romania"
           ],
           "name": "",
           "type": "choropleth",
           "z": [
            27.3
           ]
          }
         ],
         "name": "25.4"
        },
        {
         "data": [
          {
           "coloraxis": "coloraxis",
           "geo": "geo",
           "hovertemplate": "<b>%{hovertext}</b><br><br>Enough for % of people=57.5<br>location=%{location}<br>Percentage of population with 1+ dose=%{z}<extra></extra>",
           "hovertext": [
            52.9
           ],
           "locations": [
            "Switzerland"
           ],
           "name": "",
           "type": "choropleth",
           "z": [
            59.9
           ]
          }
         ],
         "name": "57.5"
        },
        {
         "data": [
          {
           "coloraxis": "coloraxis",
           "geo": "geo",
           "hovertemplate": "<b>%{hovertext}</b><br><br>Enough for % of people=16.8<br>location=%{location}<br>Percentage of population with 1+ dose=%{z}<extra></extra>",
           "hovertext": [
            12
           ],
           "locations": [
            "Venezuela"
           ],
           "name": "",
           "type": "choropleth",
           "z": [
            21.6
           ]
          }
         ],
         "name": "16.8"
        },
        {
         "data": [
          {
           "coloraxis": "coloraxis",
           "geo": "geo",
           "hovertemplate": "<b>%{hovertext}</b><br><br>Enough for % of people=78.7<br>location=%{location}<br>Percentage of population with 1+ dose=%{z}<extra></extra>",
           "hovertext": [
            79.1
           ],
           "locations": [
            "Singapore"
           ],
           "name": "",
           "type": "choropleth",
           "z": [
            81.1
           ]
          }
         ],
         "name": "78.7"
        },
        {
         "data": [
          {
           "coloraxis": "coloraxis",
           "geo": "geo",
           "hovertemplate": "<b>%{hovertext}</b><br><br>Enough for % of people=75.0<br>location=%{location}<br>Percentage of population with 1+ dose=%{z}<extra></extra>",
           "hovertext": [
            73.8,
            74.5
           ],
           "locations": [
            "Denmark",
            "Iceland"
           ],
           "name": "",
           "type": "choropleth",
           "z": [
            76.3,
            78.6
           ]
          }
         ],
         "name": "75.0"
        },
        {
         "data": [
          {
           "coloraxis": "coloraxis",
           "geo": "geo",
           "hovertemplate": "<b>%{hovertext}</b><br><br>Enough for % of people=53.6<br>location=%{location}<br>Percentage of population with 1+ dose=%{z}<extra></extra>",
           "hovertext": [
            49.8
           ],
           "locations": [
            "Hong Kong"
           ],
           "name": "",
           "type": "choropleth",
           "z": [
            57.4
           ]
          }
         ],
         "name": "53.6"
        },
        {
         "data": [
          {
           "coloraxis": "coloraxis",
           "geo": "geo",
           "hovertemplate": "<b>%{hovertext}</b><br><br>Enough for % of people=9.2<br>location=%{location}<br>Percentage of population with 1+ dose=%{z}<extra></extra>",
           "hovertext": [
            6.9
           ],
           "locations": [
            "Algeria"
           ],
           "name": "",
           "type": "choropleth",
           "z": [
            11.5
           ]
          }
         ],
         "name": "9.2"
        },
        {
         "data": [
          {
           "coloraxis": "coloraxis",
           "geo": "geo",
           "hovertemplate": "<b>%{hovertext}</b><br><br>Enough for % of people=37.2<br>location=%{location}<br>Percentage of population with 1+ dose=%{z}<extra></extra>",
           "hovertext": [
            29.9
           ],
           "locations": [
            "Azerbaijan"
           ],
           "name": "",
           "type": "choropleth",
           "z": [
            44.5
           ]
          }
         ],
         "name": "37.2"
        },
        {
         "data": [
          {
           "coloraxis": "coloraxis",
           "geo": "geo",
           "hovertemplate": "<b>%{hovertext}</b><br><br>Enough for % of people=64.8<br>location=%{location}<br>Percentage of population with 1+ dose=%{z}<extra></extra>",
           "hovertext": [
            55.9
           ],
           "locations": [
            "Finland"
           ],
           "name": "",
           "type": "choropleth",
           "z": [
            73.8
           ]
          }
         ],
         "name": "64.8"
        },
        {
         "data": [
          {
           "coloraxis": "coloraxis",
           "geo": "geo",
           "hovertemplate": "<b>%{hovertext}</b><br><br>Enough for % of people=70.6<br>location=%{location}<br>Percentage of population with 1+ dose=%{z}<extra></extra>",
           "hovertext": [
            70.6
           ],
           "locations": [
            "Ireland"
           ],
           "name": "",
           "type": "choropleth",
           "z": [
            75.3
           ]
          }
         ],
         "name": "70.6"
        },
        {
         "data": [
          {
           "coloraxis": "coloraxis",
           "geo": "geo",
           "hovertemplate": "<b>%{hovertext}</b><br><br>Enough for % of people=52.9<br>location=%{location}<br>Percentage of population with 1+ dose=%{z}<extra></extra>",
           "hovertext": [
            47
           ],
           "locations": [
            "El Salvador"
           ],
           "name": "",
           "type": "choropleth",
           "z": [
            58.7
           ]
          }
         ],
         "name": "52.9"
        },
        {
         "data": [
          {
           "coloraxis": "coloraxis",
           "geo": "geo",
           "hovertemplate": "<b>%{hovertext}</b><br><br>Enough for % of people=32.9<br>location=%{location}<br>Percentage of population with 1+ dose=%{z}<extra></extra>",
           "hovertext": [
            30.4
           ],
           "locations": [
            "Jordan"
           ],
           "name": "",
           "type": "choropleth",
           "z": [
            35.3
           ]
          }
         ],
         "name": "32.9"
        },
        {
         "data": [
          {
           "coloraxis": "coloraxis",
           "geo": "geo",
           "hovertemplate": "<b>%{hovertext}</b><br><br>Enough for % of people=5.9<br>location=%{location}<br>Percentage of population with 1+ dose=%{z}<extra></extra>",
           "hovertext": [
            3.4
           ],
           "locations": [
            "Myanmar"
           ],
           "name": "",
           "type": "choropleth",
           "z": [
            8.4
           ]
          }
         ],
         "name": "5.9"
        },
        {
         "data": [
          {
           "coloraxis": "coloraxis",
           "geo": "geo",
           "hovertemplate": "<b>%{hovertext}</b><br><br>Enough for % of people=27.0<br>location=%{location}<br>Percentage of population with 1+ dose=%{z}<extra></extra>",
           "hovertext": [
            25.3
           ],
           "locations": [
            "Bolivia"
           ],
           "name": "",
           "type": "choropleth",
           "z": [
            35.6
           ]
          }
         ],
         "name": "27.0"
        },
        {
         "data": [
          {
           "coloraxis": "coloraxis",
           "geo": "geo",
           "hovertemplate": "<b>%{hovertext}</b><br><br>Enough for % of people=43.7<br>location=%{location}<br>Percentage of population with 1+ dose=%{z}<extra></extra>",
           "hovertext": [
            40.7
           ],
           "locations": [
            "Serbia"
           ],
           "name": "",
           "type": "choropleth",
           "z": [
            42.5
           ]
          }
         ],
         "name": "43.7"
        },
        {
         "data": [
          {
           "coloraxis": "coloraxis",
           "geo": "geo",
           "hovertemplate": "<b>%{hovertext}</b><br><br>Enough for % of people=83.9<br>location=%{location}<br>Percentage of population with 1+ dose=%{z}<extra></extra>",
           "hovertext": [
            72.1
           ],
           "locations": [
            "Uruguay"
           ],
           "name": "",
           "type": "choropleth",
           "z": [
            76.8
           ]
          }
         ],
         "name": "83.9"
        },
        {
         "data": [
          {
           "coloraxis": "coloraxis",
           "geo": "geo",
           "hovertemplate": "<b>%{hovertext}</b><br><br>Enough for % of people=14.9<br>location=%{location}<br>Percentage of population with 1+ dose=%{z}<extra></extra>",
           "hovertext": [
            8.9
           ],
           "locations": [
            "Guatemala"
           ],
           "name": "",
           "type": "choropleth",
           "z": [
            20.9
           ]
          }
         ],
         "name": "14.9"
        },
        {
         "data": [
          {
           "coloraxis": "coloraxis",
           "geo": "geo",
           "hovertemplate": "<b>%{hovertext}</b><br><br>Enough for % of people=1.3<br>location=%{location}<br>Percentage of population with 1+ dose=%{z}<extra></extra>",
           "hovertext": [
            0.8,
            0.6
           ],
           "locations": [
            "Nigeria",
            "Sudan"
           ],
           "name": "",
           "type": "choropleth",
           "z": [
            1.8,
            1.5
           ]
          }
         ],
         "name": "1.3"
        },
        {
         "data": [
          {
           "coloraxis": "coloraxis",
           "geo": "geo",
           "hovertemplate": "<b>%{hovertext}</b><br><br>Enough for % of people=42.8<br>location=%{location}<br>Percentage of population with 1+ dose=%{z}<extra></extra>",
           "hovertext": [
            40.4
           ],
           "locations": [
            "Slovakia"
           ],
           "name": "",
           "type": "choropleth",
           "z": [
            44
           ]
          }
         ],
         "name": "42.8"
        },
        {
         "data": [
          {
           "coloraxis": "coloraxis",
           "geo": "geo",
           "hovertemplate": "<b>%{hovertext}</b><br><br>Enough for % of people=15.4<br>location=%{location}<br>Percentage of population with 1+ dose=%{z}<extra></extra>",
           "hovertext": [
            12.1
           ],
           "locations": [
            "Zimbabwe"
           ],
           "name": "",
           "type": "choropleth",
           "z": [
            18.8
           ]
          }
         ],
         "name": "15.4"
        },
        {
         "data": [
          {
           "coloraxis": "coloraxis",
           "geo": "geo",
           "hovertemplate": "<b>%{hovertext}</b><br><br>Enough for % of people=45.1<br>location=%{location}<br>Percentage of population with 1+ dose=%{z}<extra></extra>",
           "hovertext": [
            29.7
           ],
           "locations": [
            "Costa Rica"
           ],
           "name": "",
           "type": "choropleth",
           "z": [
            60.5
           ]
          }
         ],
         "name": "45.1"
        },
        {
         "data": [
          {
           "coloraxis": "coloraxis",
           "geo": "geo",
           "hovertemplate": "<b>%{hovertext}</b><br><br>Enough for % of people=81.9<br>location=%{location}<br>Percentage of population with 1+ dose=%{z}<extra></extra>",
           "hovertext": [
            79.1
           ],
           "locations": [
            "Qatar"
           ],
           "name": "",
           "type": "choropleth",
           "z": [
            84.1
           ]
          }
         ],
         "name": "81.9"
        },
        {
         "data": [
          {
           "coloraxis": "coloraxis",
           "geo": "geo",
           "hovertemplate": "<b>%{hovertext}</b><br><br>Enough for % of people=23.2<br>location=%{location}<br>Percentage of population with 1+ dose=%{z}<extra></extra>",
           "hovertext": [
            16.7
           ],
           "locations": [
            "Honduras"
           ],
           "name": "",
           "type": "choropleth",
           "z": [
            29.6
           ]
          }
         ],
         "name": "23.2"
        },
        {
         "data": [
          {
           "coloraxis": "coloraxis",
           "geo": "geo",
           "hovertemplate": "<b>%{hovertext}</b><br><br>Enough for % of people=30.7<br>location=%{location}<br>Percentage of population with 1+ dose=%{z}<extra></extra>",
           "hovertext": [
            25.7
           ],
           "locations": [
            "Laos"
           ],
           "name": "",
           "type": "choropleth",
           "z": [
            35.7
           ]
          }
         ],
         "name": "30.7"
        },
        {
         "data": [
          {
           "coloraxis": "coloraxis",
           "geo": "geo",
           "hovertemplate": "<b>%{hovertext}</b><br><br>Enough for % of people=66.1<br>location=%{location}<br>Percentage of population with 1+ dose=%{z}<extra></extra>",
           "hovertext": [
            64
           ],
           "locations": [
            "Mongolia"
           ],
           "name": "",
           "type": "choropleth",
           "z": [
            68.1
           ]
          }
         ],
         "name": "66.1"
        },
        {
         "data": [
          {
           "coloraxis": "coloraxis",
           "geo": "geo",
           "hovertemplate": "<b>%{hovertext}</b><br><br>Enough for % of people=42.3<br>location=%{location}<br>Percentage of population with 1+ dose=%{z}<extra></extra>",
           "hovertext": [
            28.5
           ],
           "locations": [
            "New Zealand"
           ],
           "name": "",
           "type": "choropleth",
           "z": [
            56
           ]
          }
         ],
         "name": "42.3"
        },
        {
         "data": [
          {
           "coloraxis": "coloraxis",
           "geo": "geo",
           "hovertemplate": "<b>%{hovertext}</b><br><br>Enough for % of people=28.6<br>location=%{location}<br>Percentage of population with 1+ dose=%{z}<extra></extra>",
           "hovertext": [
            25.3
           ],
           "locations": [
            "Paraguay"
           ],
           "name": "",
           "type": "choropleth",
           "z": [
            32
           ]
          }
         ],
         "name": "28.6"
        },
        {
         "data": [
          {
           "coloraxis": "coloraxis",
           "geo": "geo",
           "hovertemplate": "<b>%{hovertext}</b><br><br>Enough for % of people=48.1<br>location=%{location}<br>Percentage of population with 1+ dose=%{z}<extra></extra>",
           "hovertext": [
            34.4
           ],
           "locations": [
            "Oman"
           ],
           "name": "",
           "type": "choropleth",
           "z": [
            61.8
           ]
          }
         ],
         "name": "48.1"
        },
        {
         "data": [
          {
           "coloraxis": "coloraxis",
           "geo": "geo",
           "hovertemplate": "<b>%{hovertext}</b><br><br>Enough for % of people=4.8<br>location=%{location}<br>Percentage of population with 1+ dose=%{z}<extra></extra>",
           "hovertext": [
            1.3
           ],
           "locations": [
            "Iraq"
           ],
           "name": "",
           "type": "choropleth",
           "z": [
            2.1
           ]
          }
         ],
         "name": "4.8"
        },
        {
         "data": [
          {
           "coloraxis": "coloraxis",
           "geo": "geo",
           "hovertemplate": "<b>%{hovertext}</b><br><br>Enough for % of people=40.7<br>location=%{location}<br>Percentage of population with 1+ dose=%{z}<extra></extra>",
           "hovertext": [
            40.3,
            38.4
           ],
           "locations": [
            "Croatia",
            "Saint Kitts and Nevis"
           ],
           "name": "",
           "type": "choropleth",
           "z": [
            43,
            42.9
           ]
          }
         ],
         "name": "40.7"
        },
        {
         "data": [
          {
           "coloraxis": "coloraxis",
           "geo": "geo",
           "hovertemplate": "<b>%{hovertext}</b><br><br>Enough for % of people=58.5<br>location=%{location}<br>Percentage of population with 1+ dose=%{z}<extra></extra>",
           "hovertext": [
            56.1
           ],
           "locations": [
            "Lithuania"
           ],
           "name": "",
           "type": "choropleth",
           "z": [
            60.8
           ]
          }
         ],
         "name": "58.5"
        },
        {
         "data": [
          {
           "coloraxis": "coloraxis",
           "geo": "geo",
           "hovertemplate": "<b>%{hovertext}</b><br><br>Enough for % of people=17.1<br>location=%{location}<br>Percentage of population with 1+ dose=%{z}<extra></extra>",
           "hovertext": [
            11.6
           ],
           "locations": [
            "Tajikistan"
           ],
           "name": "",
           "type": "choropleth",
           "z": [
            22.6
           ]
          }
         ],
         "name": "17.1"
        },
        {
         "data": [
          {
           "coloraxis": "coloraxis",
           "geo": "geo",
           "hovertemplate": "<b>%{hovertext}</b><br><br>Enough for % of people=16.3<br>location=%{location}<br>Percentage of population with 1+ dose=%{z}<extra></extra>",
           "hovertext": [
            14.7
           ],
           "locations": [
            "Belarus"
           ],
           "name": "",
           "type": "choropleth",
           "z": [
            17.9
           ]
          }
         ],
         "name": "16.3"
        },
        {
         "data": [
          {
           "coloraxis": "coloraxis",
           "geo": "geo",
           "hovertemplate": "<b>%{hovertext}</b><br><br>Enough for % of people=3.1<br>location=%{location}<br>Percentage of population with 1+ dose=%{z}<extra></extra>",
           "hovertext": [
            1.7
           ],
           "locations": [
            "Kenya"
           ],
           "name": "",
           "type": "choropleth",
           "z": [
            4.4
           ]
          }
         ],
         "name": "3.1"
        },
        {
         "data": [
          {
           "coloraxis": "coloraxis",
           "geo": "geo",
           "hovertemplate": "<b>%{hovertext}</b><br><br>Enough for % of people=19.8<br>location=%{location}<br>Percentage of population with 1+ dose=%{z}<extra></extra>",
           "hovertext": [
            17.8
           ],
           "locations": [
            "Lebanon"
           ],
           "name": "",
           "type": "choropleth",
           "z": [
            21.8
           ]
          }
         ],
         "name": "19.8"
        },
        {
         "data": [
          {
           "coloraxis": "coloraxis",
           "geo": "geo",
           "hovertemplate": "<b>%{hovertext}</b><br><br>Enough for % of people=1.4<br>location=%{location}<br>Percentage of population with 1+ dose=%{z}<extra></extra>",
           "hovertext": [
            31.940609137055848
           ],
           "locations": [
            "Ethiopia"
           ],
           "name": "",
           "type": "choropleth",
           "z": [
            2.7
           ]
          }
         ],
         "name": "1.4"
        },
        {
         "data": [
          {
           "coloraxis": "coloraxis",
           "geo": "geo",
           "hovertemplate": "<b>%{hovertext}</b><br><br>Enough for % of people=10.4<br>location=%{location}<br>Percentage of population with 1+ dose=%{z}<extra></extra>",
           "hovertext": [
            7.3
           ],
           "locations": [
            "Rwanda"
           ],
           "name": "",
           "type": "choropleth",
           "z": [
            13.4
           ]
          }
         ],
         "name": "10.4"
        },
        {
         "data": [
          {
           "coloraxis": "coloraxis",
           "geo": "geo",
           "hovertemplate": "<b>%{hovertext}</b><br><br>Enough for % of people=84.8<br>location=%{location}<br>Percentage of population with 1+ dose=%{z}<extra></extra>",
           "hovertext": [
            73.8
           ],
           "locations": [
            "Bahrain"
           ],
           "name": "",
           "type": "choropleth",
           "z": [
            77.8
           ]
          }
         ],
         "name": "84.8"
        },
        {
         "data": [
          {
           "coloraxis": "coloraxis",
           "geo": "geo",
           "hovertemplate": "<b>%{hovertext}</b><br><br>Enough for % of people=17.2<br>location=%{location}<br>Percentage of population with 1+ dose=%{z}<extra></extra>",
           "hovertext": [
            17.6
           ],
           "locations": [
            "Bulgaria"
           ],
           "name": "",
           "type": "choropleth",
           "z": [
            16.8
           ]
          }
         ],
         "name": "17.2"
        },
        {
         "data": [
          {
           "coloraxis": "coloraxis",
           "geo": "geo",
           "hovertemplate": "<b>%{hovertext}</b><br><br>Enough for % of people=25.1<br>location=%{location}<br>Percentage of population with 1+ dose=%{z}<extra></extra>",
           "hovertext": [
            19.4
           ],
           "locations": [
            "Kuwait"
           ],
           "name": "",
           "type": "choropleth",
           "z": [
            56.2
           ]
          }
         ],
         "name": "25.1"
        },
        {
         "data": [
          {
           "coloraxis": "coloraxis",
           "geo": "geo",
           "hovertemplate": "<b>%{hovertext}</b><br><br>Enough for % of people=3.7<br>location=%{location}<br>Percentage of population with 1+ dose=%{z}<extra></extra>",
           "hovertext": [
            2.1
           ],
           "locations": [
            "Mozambique"
           ],
           "name": "",
           "type": "choropleth",
           "z": [
            5.3
           ]
          }
         ],
         "name": "3.7"
        },
        {
         "data": [
          {
           "coloraxis": "coloraxis",
           "geo": "geo",
           "hovertemplate": "<b>%{hovertext}</b><br><br>Enough for % of people=3.5<br>location=%{location}<br>Percentage of population with 1+ dose=%{z}<extra></extra>",
           "hovertext": [
            3.1,
            3
           ],
           "locations": [
            "Angola",
            "Gabon"
           ],
           "name": "",
           "type": "choropleth",
           "z": [
            3.9,
            4
           ]
          }
         ],
         "name": "3.5"
        },
        {
         "data": [
          {
           "coloraxis": "coloraxis",
           "geo": "geo",
           "hovertemplate": "<b>%{hovertext}</b><br><br>Enough for % of people=2.7<br>location=%{location}<br>Percentage of population with 1+ dose=%{z}<extra></extra>",
           "hovertext": [
            1.2
           ],
           "locations": [
            "Afghanistan"
           ],
           "name": "",
           "type": "choropleth",
           "z": [
            2.1
           ]
          }
         ],
         "name": "2.7"
        },
        {
         "data": [
          {
           "coloraxis": "coloraxis",
           "geo": "geo",
           "hovertemplate": "<b>%{hovertext}</b><br><br>Enough for % of people=48.3<br>location=%{location}<br>Percentage of population with 1+ dose=%{z}<extra></extra>",
           "hovertext": [
            45.2
           ],
           "locations": [
            "Slovenia"
           ],
           "name": "",
           "type": "choropleth",
           "z": [
            49.4
           ]
          }
         ],
         "name": "48.3"
        },
        {
         "data": [
          {
           "coloraxis": "coloraxis",
           "geo": "geo",
           "hovertemplate": "<b>%{hovertext}</b><br><br>Enough for % of people=5.3<br>location=%{location}<br>Percentage of population with 1+ dose=%{z}<extra></extra>",
           "hovertext": [
            3.5
           ],
           "locations": [
            "Senegal"
           ],
           "name": "",
           "type": "choropleth",
           "z": [
            7.2
           ]
          }
         ],
         "name": "5.3"
        },
        {
         "data": [
          {
           "coloraxis": "coloraxis",
           "geo": "geo",
           "hovertemplate": "<b>%{hovertext}</b><br><br>Enough for % of people=62.8<br>location=%{location}<br>Percentage of population with 1+ dose=%{z}<extra></extra>",
           "hovertext": [
            60.2,
            58.6
           ],
           "locations": [
            "Mauritius",
            "Luxembourg"
           ],
           "name": "",
           "type": "choropleth",
           "z": [
            65.4,
            66.9
           ]
          }
         ],
         "name": "62.8"
        },
        {
         "data": [
          {
           "coloraxis": "coloraxis",
           "geo": "geo",
           "hovertemplate": "<b>%{hovertext}</b><br><br>Enough for % of people=27.5<br>location=%{location}<br>Percentage of population with 1+ dose=%{z}<extra></extra>",
           "hovertext": [
            24.2
           ],
           "locations": [
            "Albania"
           ],
           "name": "",
           "type": "choropleth",
           "z": [
            30.9
           ]
          }
         ],
         "name": "27.5"
        },
        {
         "data": [
          {
           "coloraxis": "coloraxis",
           "geo": "geo",
           "hovertemplate": "<b>%{hovertext}</b><br><br>Enough for % of people=40.3<br>location=%{location}<br>Percentage of population with 1+ dose=%{z}<extra></extra>",
           "hovertext": [
            40.8
           ],
           "locations": [
            "Latvia"
           ],
           "name": "",
           "type": "choropleth",
           "z": [
            45.6
           ]
          }
         ],
         "name": "40.3"
        },
        {
         "data": [
          {
           "coloraxis": "coloraxis",
           "geo": "geo",
           "hovertemplate": "<b>%{hovertext}</b><br><br>Enough for % of people=1.9<br>location=%{location}<br>Percentage of population with 1+ dose=%{z}<extra></extra>",
           "hovertext": [
            0.6
           ],
           "locations": [
            "Uganda"
           ],
           "name": "",
           "type": "choropleth",
           "z": [
            2.6
           ]
          }
         ],
         "name": "1.9"
        },
        {
         "data": [
          {
           "coloraxis": "coloraxis",
           "geo": "geo",
           "hovertemplate": "<b>%{hovertext}</b><br><br>Enough for % of people=2.8<br>location=%{location}<br>Percentage of population with 1+ dose=%{z}<extra></extra>",
           "hovertext": [
            0.9
           ],
           "locations": [
            "Ivory Coast"
           ],
           "name": "",
           "type": "choropleth",
           "z": [
            5.6
           ]
          }
         ],
         "name": "2.8"
        },
        {
         "data": [
          {
           "coloraxis": "coloraxis",
           "geo": "geo",
           "hovertemplate": "<b>%{hovertext}</b><br><br>Enough for % of people=18.3<br>location=%{location}<br>Percentage of population with 1+ dose=%{z}<extra></extra>",
           "hovertext": [
            13.7
           ],
           "locations": [
            "Georgia"
           ],
           "name": "",
           "type": "choropleth",
           "z": [
            23
           ]
          }
         ],
         "name": "18.3"
        },
        {
         "data": [
          {
           "coloraxis": "coloraxis",
           "geo": "geo",
           "hovertemplate": "<b>%{hovertext}</b><br><br>Enough for % of people=24.8<br>location=%{location}<br>Percentage of population with 1+ dose=%{z}<extra></extra>",
           "hovertext": [
            27.1
           ],
           "locations": [
            "Moldova"
           ],
           "name": "",
           "type": "choropleth",
           "z": [
            22.4
           ]
          }
         ],
         "name": "24.8"
        },
        {
         "data": [
          {
           "coloraxis": "coloraxis",
           "geo": "geo",
           "hovertemplate": "<b>%{hovertext}</b><br><br>Enough for % of people=31.9<br>location=%{location}<br>Percentage of population with 1+ dose=%{z}<extra></extra>",
           "hovertext": [
            28.4
           ],
           "locations": [
            "North Macedonia"
           ],
           "name": "",
           "type": "choropleth",
           "z": [
            35.5
           ]
          }
         ],
         "name": "31.9"
        },
        {
         "data": [
          {
           "coloraxis": "coloraxis",
           "geo": "geo",
           "hovertemplate": "<b>%{hovertext}</b><br><br>Enough for % of people=49.1<br>location=%{location}<br>Percentage of population with 1+ dose=%{z}<extra></extra>",
           "hovertext": [
            43.6
           ],
           "locations": [
            "Estonia"
           ],
           "name": "",
           "type": "choropleth",
           "z": [
            55.6
           ]
          }
         ],
         "name": "49.1"
        },
        {
         "data": [
          {
           "coloraxis": "coloraxis",
           "geo": "geo",
           "hovertemplate": "<b>%{hovertext}</b><br><br>Enough for % of people=4.7<br>location=%{location}<br>Percentage of population with 1+ dose=%{z}<extra></extra>",
           "hovertext": [
            2.9
           ],
           "locations": [
            "Guinea"
           ],
           "name": "",
           "type": "choropleth",
           "z": [
            6.5
           ]
          }
         ],
         "name": "4.7"
        },
        {
         "data": [
          {
           "coloraxis": "coloraxis",
           "geo": "geo",
           "hovertemplate": "<b>%{hovertext}</b><br><br>Enough for % of people=9.7<br>location=%{location}<br>Percentage of population with 1+ dose=%{z}<extra></extra>",
           "hovertext": [
            1.7
           ],
           "locations": [
            "Libya"
           ],
           "name": "",
           "type": "choropleth",
           "z": [
            17.7
           ]
          }
         ],
         "name": "9.7"
        },
        {
         "data": [
          {
           "coloraxis": "coloraxis",
           "geo": "geo",
           "hovertemplate": "<b>%{hovertext}</b><br><br>Enough for % of people=2.1<br>location=%{location}<br>Percentage of population with 1+ dose=%{z}<extra></extra>",
           "hovertext": [
            1.3
           ],
           "locations": [
            "Ghana"
           ],
           "name": "",
           "type": "choropleth",
           "z": [
            2.9
           ]
          }
         ],
         "name": "2.1"
        },
        {
         "data": [
          {
           "coloraxis": "coloraxis",
           "geo": "geo",
           "hovertemplate": "<b>%{hovertext}</b><br><br>Enough for % of people=63.8<br>location=%{location}<br>Percentage of population with 1+ dose=%{z}<extra></extra>",
           "hovertext": [
            60.9
           ],
           "locations": [
            "Cyprus"
           ],
           "name": "",
           "type": "choropleth",
           "z": [
            66.7
           ]
          }
         ],
         "name": "63.8"
        },
        {
         "data": [
          {
           "coloraxis": "coloraxis",
           "geo": "geo",
           "hovertemplate": "<b>%{hovertext}</b><br><br>Enough for % of people=16.1<br>location=%{location}<br>Percentage of population with 1+ dose=%{z}<extra></extra>",
           "hovertext": [
            12.9
           ],
           "locations": [
            "Bosnia and Herzegovina"
           ],
           "name": "",
           "type": "choropleth",
           "z": [
            19.2
           ]
          }
         ],
         "name": "16.1"
        },
        {
         "data": [
          {
           "coloraxis": "coloraxis",
           "geo": "geo",
           "hovertemplate": "<b>%{hovertext}</b><br><br>Enough for % of people=70.1<br>location=%{location}<br>Percentage of population with 1+ dose=%{z}<extra></extra>",
           "hovertext": [
            64.2
           ],
           "locations": [
            "Bhutan"
           ],
           "name": "",
           "type": "choropleth",
           "z": [
            76.1
           ]
          }
         ],
         "name": "70.1"
        },
        {
         "data": [
          {
           "coloraxis": "coloraxis",
           "geo": "geo",
           "hovertemplate": "<b>%{hovertext}</b><br><br>Enough for % of people=27.1<br>location=%{location}<br>Percentage of population with 1+ dose=%{z}<extra></extra>",
           "hovertext": [
            18.8
           ],
           "locations": [
            "Kosovo"
           ],
           "name": "",
           "type": "choropleth",
           "z": [
            35.4
           ]
          }
         ],
         "name": "27.1"
        },
        {
         "data": [
          {
           "coloraxis": "coloraxis",
           "geo": "geo",
           "hovertemplate": "<b>%{hovertext}</b><br><br>Enough for % of people=2.4<br>location=%{location}<br>Percentage of population with 1+ dose=%{z}<extra></extra>",
           "hovertext": [
            2.1
           ],
           "locations": [
            "Malawi"
           ],
           "name": "",
           "type": "choropleth",
           "z": [
            3.5
           ]
          }
         ],
         "name": "2.4"
        },
        {
         "data": [
          {
           "coloraxis": "coloraxis",
           "geo": "geo",
           "hovertemplate": "<b>%{hovertext}</b><br><br>Enough for % of people=48.4<br>location=%{location}<br>Percentage of population with 1+ dose=%{z}<extra></extra>",
           "hovertext": [
            33.5
           ],
           "locations": [
            "Fiji"
           ],
           "name": "",
           "type": "choropleth",
           "z": [
            63.3
           ]
          }
         ],
         "name": "48.4"
        },
        {
         "data": [
          {
           "coloraxis": "coloraxis",
           "geo": "geo",
           "hovertemplate": "<b>%{hovertext}</b><br><br>Enough for % of people=81.4<br>location=%{location}<br>Percentage of population with 1+ dose=%{z}<extra></extra>",
           "hovertext": [
            84.1
           ],
           "locations": [
            "Malta"
           ],
           "name": "",
           "type": "choropleth",
           "z": [
            84.3
           ]
          }
         ],
         "name": "81.4"
        },
        {
         "data": [
          {
           "coloraxis": "coloraxis",
           "geo": "geo",
           "hovertemplate": "<b>%{hovertext}</b><br><br>Enough for % of people=93.4<br>location=%{location}<br>Percentage of population with 1+ dose=%{z}<extra></extra>",
           "hovertext": [
            82.8
           ],
           "locations": [
            "Maldives"
           ],
           "name": "",
           "type": "choropleth",
           "z": [
            104
           ]
          }
         ],
         "name": "93.4"
        },
        {
         "data": [
          {
           "coloraxis": "coloraxis",
           "geo": "geo",
           "hovertemplate": "<b>%{hovertext}</b><br><br>Enough for % of people=5.1<br>location=%{location}<br>Percentage of population with 1+ dose=%{z}<extra></extra>",
           "hovertext": [
            3.2,
            3.6
           ],
           "locations": [
            "Nicaragua",
            "Armenia"
           ],
           "name": "",
           "type": "choropleth",
           "z": [
            7.1,
            6.6
           ]
          }
         ],
         "name": "5.1"
        },
        {
         "data": [
          {
           "coloraxis": "coloraxis",
           "geo": "geo",
           "hovertemplate": "<b>%{hovertext}</b><br><br>Enough for % of people=4.0<br>location=%{location}<br>Percentage of population with 1+ dose=%{z}<extra></extra>",
           "hovertext": [
            2.9
           ],
           "locations": [
            "Togo"
           ],
           "name": "",
           "type": "choropleth",
           "z": [
            5.1
           ]
          }
         ],
         "name": "4.0"
        },
        {
         "data": [
          {
           "coloraxis": "coloraxis",
           "geo": "geo",
           "hovertemplate": "<b>%{hovertext}</b><br><br>Enough for % of people=1.8<br>location=%{location}<br>Percentage of population with 1+ dose=%{z}<extra></extra>",
           "hovertext": [
            1.6
           ],
           "locations": [
            "Zambia"
           ],
           "name": "",
           "type": "choropleth",
           "z": [
            1.9
           ]
          }
         ],
         "name": "1.8"
        },
        {
         "data": [
          {
           "coloraxis": "coloraxis",
           "geo": "geo",
           "hovertemplate": "<b>%{hovertext}</b><br><br>Enough for % of people=44.8<br>location=%{location}<br>Percentage of population with 1+ dose=%{z}<extra></extra>",
           "hovertext": [
            41.4
           ],
           "locations": [
            "Macau"
           ],
           "name": "",
           "type": "choropleth",
           "z": [
            48.5
           ]
          }
         ],
         "name": "44.8"
        },
        {
         "data": [
          {
           "coloraxis": "coloraxis",
           "geo": "geo",
           "hovertemplate": "<b>%{hovertext}</b><br><br>Enough for % of people=11.1<br>location=%{location}<br>Percentage of population with 1+ dose=%{z}<extra></extra>",
           "hovertext": [
            5.6
           ],
           "locations": [
            "Jamaica"
           ],
           "name": "",
           "type": "choropleth",
           "z": [
            17.1
           ]
          }
         ],
         "name": "11.1"
        },
        {
         "data": [
          {
           "coloraxis": "coloraxis",
           "geo": "geo",
           "hovertemplate": "<b>%{hovertext}</b><br><br>Enough for % of people=22.7<br>location=%{location}<br>Percentage of population with 1+ dose=%{z}<extra></extra>",
           "hovertext": [
            15.3
           ],
           "locations": [
            "Timor-Leste"
           ],
           "name": "",
           "type": "choropleth",
           "z": [
            30.2
           ]
          }
         ],
         "name": "22.7"
        },
        {
         "data": [
          {
           "coloraxis": "coloraxis",
           "geo": "geo",
           "hovertemplate": "<b>%{hovertext}</b><br><br>Enough for % of people=12.1<br>location=%{location}<br>Percentage of population with 1+ dose=%{z}<extra></extra>",
           "hovertext": [
            9.2
           ],
           "locations": [
            "Botswana"
           ],
           "name": "",
           "type": "choropleth",
           "z": [
            16
           ]
          }
         ],
         "name": "12.1"
        },
        {
         "data": [
          {
           "coloraxis": "coloraxis",
           "geo": "geo",
           "hovertemplate": "<b>%{hovertext}</b><br><br>Enough for % of people=7.0<br>location=%{location}<br>Percentage of population with 1+ dose=%{z}<extra></extra>",
           "hovertext": [
            0.5
           ],
           "locations": [
            "Mauritania"
           ],
           "name": "",
           "type": "choropleth",
           "z": [
            7
           ]
          }
         ],
         "name": "7.0"
        },
        {
         "data": [
          {
           "coloraxis": "coloraxis",
           "geo": "geo",
           "hovertemplate": "<b>%{hovertext}</b><br><br>Enough for % of people=31.5<br>location=%{location}<br>Percentage of population with 1+ dose=%{z}<extra></extra>",
           "hovertext": [
            21.7
           ],
           "locations": [
            "Guyana"
           ],
           "name": "",
           "type": "choropleth",
           "z": [
            41.4
           ]
          }
         ],
         "name": "31.5"
        },
        {
         "data": [
          {
           "coloraxis": "coloraxis",
           "geo": "geo",
           "hovertemplate": "<b>%{hovertext}</b><br><br>Enough for % of people=1.1<br>location=%{location}<br>Percentage of population with 1+ dose=%{z}<extra></extra>",
           "hovertext": [
            0.4
           ],
           "locations": [
            "Niger"
           ],
           "name": "",
           "type": "choropleth",
           "z": [
            1.7
           ]
          }
         ],
         "name": "1.1"
        },
        {
         "data": [
          {
           "coloraxis": "coloraxis",
           "geo": "geo",
           "hovertemplate": "<b>%{hovertext}</b><br><br>Enough for % of people=0.9<br>location=%{location}<br>Percentage of population with 1+ dose=%{z}<extra></extra>",
           "hovertext": [
            0.3,
            0.5,
            0.2
           ],
           "locations": [
            "Cameroon",
            "Mali",
            "Guinea-Bissau"
           ],
           "name": "",
           "type": "choropleth",
           "z": [
            1.4,
            1.3,
            1.6
           ]
          }
         ],
         "name": "0.9"
        },
        {
         "data": [
          {
           "coloraxis": "coloraxis",
           "geo": "geo",
           "hovertemplate": "<b>%{hovertext}</b><br><br>Enough for % of people=33.1<br>location=%{location}<br>Percentage of population with 1+ dose=%{z}<extra></extra>",
           "hovertext": [
            31.2
           ],
           "locations": [
            "Montenegro"
           ],
           "name": "",
           "type": "choropleth",
           "z": [
            35.1
           ]
          }
         ],
         "name": "33.1"
        },
        {
         "data": [
          {
           "coloraxis": "coloraxis",
           "geo": "geo",
           "hovertemplate": "<b>%{hovertext}</b><br><br>Enough for % of people=13.4<br>location=%{location}<br>Percentage of population with 1+ dose=%{z}<extra></extra>",
           "hovertext": [
            11.6
           ],
           "locations": [
            "Equatorial Guinea"
           ],
           "name": "",
           "type": "choropleth",
           "z": [
            15.1
           ]
          }
         ],
         "name": "13.4"
        },
        {
         "data": [
          {
           "coloraxis": "coloraxis",
           "geo": "geo",
           "hovertemplate": "<b>%{hovertext}</b><br><br>Enough for % of people=30.3<br>location=%{location}<br>Percentage of population with 1+ dose=%{z}<extra></extra>",
           "hovertext": [
            25.4
           ],
           "locations": [
            "Suriname"
           ],
           "name": "",
           "type": "choropleth",
           "z": [
            35.2
           ]
          }
         ],
         "name": "30.3"
        },
        {
         "data": [
          {
           "coloraxis": "coloraxis",
           "geo": "geo",
           "hovertemplate": "<b>%{hovertext}</b><br><br>Enough for % of people=38.4<br>location=%{location}<br>Percentage of population with 1+ dose=%{z}<extra></extra>",
           "hovertext": [
            25.8
           ],
           "locations": [
            "Brunei"
           ],
           "name": "",
           "type": "choropleth",
           "z": [
            51.1
           ]
          }
         ],
         "name": "38.4"
        },
        {
         "data": [
          {
           "coloraxis": "coloraxis",
           "geo": "geo",
           "hovertemplate": "<b>%{hovertext}</b><br><br>Enough for % of people=7.2<br>location=%{location}<br>Percentage of population with 1+ dose=%{z}<extra></extra>",
           "hovertext": [
            5.3
           ],
           "locations": [
            "Namibia"
           ],
           "name": "",
           "type": "choropleth",
           "z": [
            9.1
           ]
          }
         ],
         "name": "7.2"
        },
        {
         "data": [
          {
           "coloraxis": "coloraxis",
           "geo": "geo",
           "hovertemplate": "<b>%{hovertext}</b><br><br>Enough for % of people=7.5<br>location=%{location}<br>Percentage of population with 1+ dose=%{z}<extra></extra>",
           "hovertext": [
            6.7
           ],
           "locations": [
            "Gambia"
           ],
           "name": "",
           "type": "choropleth",
           "z": [
            8.4
           ]
          }
         ],
         "name": "7.5"
        },
        {
         "data": [
          {
           "coloraxis": "coloraxis",
           "geo": "geo",
           "hovertemplate": "<b>%{hovertext}</b><br><br>Enough for % of people=0.5<br>location=%{location}<br>Percentage of population with 1+ dose=%{z}<extra></extra>",
           "hovertext": [
            0.1,
            0.3
           ],
           "locations": [
            "Yemen",
            "Madagascar"
           ],
           "name": "",
           "type": "choropleth",
           "z": [
            0.9,
            0.8
           ]
          }
         ],
         "name": "0.5"
        },
        {
         "data": [
          {
           "coloraxis": "coloraxis",
           "geo": "geo",
           "hovertemplate": "<b>%{hovertext}</b><br><br>Enough for % of people=0.3<br>location=%{location}<br>Percentage of population with 1+ dose=%{z}<extra></extra>",
           "hovertext": [
            31.940609137055848,
            0.1
           ],
           "locations": [
            "Tanzania",
            "Burkina Faso"
           ],
           "name": "",
           "type": "choropleth",
           "z": [
            39.666000000000004,
            0.5
           ]
          }
         ],
         "name": "0.3"
        },
        {
         "data": [
          {
           "coloraxis": "coloraxis",
           "geo": "geo",
           "hovertemplate": "<b>%{hovertext}</b><br><br>Enough for % of people=1.0<br>location=%{location}<br>Percentage of population with 1+ dose=%{z}<extra></extra>",
           "hovertext": [
            0.7
           ],
           "locations": [
            "Somalia"
           ],
           "name": "",
           "type": "choropleth",
           "z": [
            1.4
           ]
          }
         ],
         "name": "1.0"
        },
        {
         "data": [
          {
           "coloraxis": "coloraxis",
           "geo": "geo",
           "hovertemplate": "<b>%{hovertext}</b><br><br>Enough for % of people=3.4<br>location=%{location}<br>Percentage of population with 1+ dose=%{z}<extra></extra>",
           "hovertext": [
            2.4
           ],
           "locations": [
            "Republic of the Congo"
           ],
           "name": "",
           "type": "choropleth",
           "z": [
            4.4
           ]
          }
         ],
         "name": "3.4"
        },
        {
         "data": [
          {
           "coloraxis": "coloraxis",
           "geo": "geo",
           "hovertemplate": "<b>%{hovertext}</b><br><br>Enough for % of people=28.1<br>location=%{location}<br>Percentage of population with 1+ dose=%{z}<extra></extra>",
           "hovertext": [
            13.2
           ],
           "locations": [
            "Cape Verde"
           ],
           "name": "",
           "type": "choropleth",
           "z": [
            42.9
           ]
          }
         ],
         "name": "28.1"
        },
        {
         "data": [
          {
           "coloraxis": "coloraxis",
           "geo": "geo",
           "hovertemplate": "<b>%{hovertext}</b><br><br>Enough for % of people=15.9<br>location=%{location}<br>Percentage of population with 1+ dose=%{z}<extra></extra>",
           "hovertext": [
            11.7
           ],
           "locations": [
            "Comoros"
           ],
           "name": "",
           "type": "choropleth",
           "z": [
            20
           ]
          }
         ],
         "name": "15.9"
        },
        {
         "data": [
          {
           "coloraxis": "coloraxis",
           "geo": "geo",
           "hovertemplate": "<b>%{hovertext}</b><br><br>Enough for % of people=30.8<br>location=%{location}<br>Percentage of population with 1+ dose=%{z}<extra></extra>",
           "hovertext": [
            19
           ],
           "locations": [
            "Belize"
           ],
           "name": "",
           "type": "choropleth",
           "z": [
            42.6
           ]
          }
         ],
         "name": "30.8"
        },
        {
         "data": [
          {
           "coloraxis": "coloraxis",
           "geo": "geo",
           "hovertemplate": "<b>%{hovertext}</b><br><br>Enough for % of people=37.1<br>location=%{location}<br>Percentage of population with 1+ dose=%{z}<extra></extra>",
           "hovertext": [
            33.4
           ],
           "locations": [
            "Barbados"
           ],
           "name": "",
           "type": "choropleth",
           "z": [
            40.9
           ]
          }
         ],
         "name": "37.1"
        },
        {
         "data": [
          {
           "coloraxis": "coloraxis",
           "geo": "geo",
           "hovertemplate": "<b>%{hovertext}</b><br><br>Enough for % of people=9.4<br>location=%{location}<br>Percentage of population with 1+ dose=%{z}<extra></extra>",
           "hovertext": [
            15.4
           ],
           "locations": [
            "Eswatini"
           ],
           "name": "",
           "type": "choropleth",
           "z": [
            16.1
           ]
          }
         ],
         "name": "9.4"
        },
        {
         "data": [
          {
           "coloraxis": "coloraxis",
           "geo": "geo",
           "hovertemplate": "<b>%{hovertext}</b><br><br>Enough for % of people=4.9<br>location=%{location}<br>Percentage of population with 1+ dose=%{z}<extra></extra>",
           "hovertext": [
            31.940609137055848
           ],
           "locations": [
            "Lesotho"
           ],
           "name": "",
           "type": "choropleth",
           "z": [
            2
           ]
          }
         ],
         "name": "4.9"
        },
        {
         "data": [
          {
           "coloraxis": "coloraxis",
           "geo": "geo",
           "hovertemplate": "<b>%{hovertext}</b><br><br>Enough for % of people=1.2<br>location=%{location}<br>Percentage of population with 1+ dose=%{z}<extra></extra>",
           "hovertext": [
            0.4,
            0.6,
            0.6
           ],
           "locations": [
            "Sierra Leone",
            "Liberia",
            "Central African Republic"
           ],
           "name": "",
           "type": "choropleth",
           "z": [
            2,
            2.5,
            2.2
           ]
          }
         ],
         "name": "1.2"
        },
        {
         "data": [
          {
           "coloraxis": "coloraxis",
           "geo": "geo",
           "hovertemplate": "<b>%{hovertext}</b><br><br>Enough for % of people=56.5<br>location=%{location}<br>Percentage of population with 1+ dose=%{z}<extra></extra>",
           "hovertext": [
            53.6
           ],
           "locations": [
            "Cura�ao"
           ],
           "name": "",
           "type": "choropleth",
           "z": [
            59.3
           ]
          }
         ],
         "name": "56.5"
        },
        {
         "data": [
          {
           "coloraxis": "coloraxis",
           "geo": "geo",
           "hovertemplate": "<b>%{hovertext}</b><br><br>Enough for % of people=0.7<br>location=%{location}<br>Percentage of population with 1+ dose=%{z}<extra></extra>",
           "hovertext": [
            31.940609137055848
           ],
           "locations": [
            "Benin"
           ],
           "name": "",
           "type": "choropleth",
           "z": [
            1.3
           ]
          }
         ],
         "name": "0.7"
        },
        {
         "data": [
          {
           "coloraxis": "coloraxis",
           "geo": "geo",
           "hovertemplate": "<b>%{hovertext}</b><br><br>Enough for % of people=21.2<br>location=%{location}<br>Percentage of population with 1+ dose=%{z}<extra></extra>",
           "hovertext": [
            15.5
           ],
           "locations": [
            "Bahamas"
           ],
           "name": "",
           "type": "choropleth",
           "z": [
            27.8
           ]
          }
         ],
         "name": "21.2"
        },
        {
         "data": [
          {
           "coloraxis": "coloraxis",
           "geo": "geo",
           "hovertemplate": "<b>%{hovertext}</b><br><br>Enough for % of people=67.1<br>location=%{location}<br>Percentage of population with 1+ dose=%{z}<extra></extra>",
           "hovertext": [
            63.2
           ],
           "locations": [
            "Aruba"
           ],
           "name": "",
           "type": "choropleth",
           "z": [
            70.9
           ]
          }
         ],
         "name": "67.1"
        },
        {
         "data": [
          {
           "coloraxis": "coloraxis",
           "geo": "geo",
           "hovertemplate": "<b>%{hovertext}</b><br><br>Enough for % of people=74.7<br>location=%{location}<br>Percentage of population with 1+ dose=%{z}<extra></extra>",
           "hovertext": [
            72.6
           ],
           "locations": [
            "Seychelles"
           ],
           "name": "",
           "type": "choropleth",
           "z": [
            77.4
           ]
          }
         ],
         "name": "74.7"
        },
        {
         "data": [
          {
           "coloraxis": "coloraxis",
           "geo": "geo",
           "hovertemplate": "<b>%{hovertext}</b><br><br>Enough for % of people=34.3<br>location=%{location}<br>Percentage of population with 1+ dose=%{z}<extra></extra>",
           "hovertext": [
            21.7
           ],
           "locations": [
            "Samoa"
           ],
           "name": "",
           "type": "choropleth",
           "z": [
            47
           ]
          }
         ],
         "name": "34.3"
        },
        {
         "data": [
          {
           "coloraxis": "coloraxis",
           "geo": "geo",
           "hovertemplate": "<b>%{hovertext}</b><br><br>Enough for % of people=0.8<br>location=%{location}<br>Percentage of population with 1+ dose=%{z}<extra></extra>",
           "hovertext": [
            0.4
           ],
           "locations": [
            "Papua New Guinea"
           ],
           "name": "",
           "type": "choropleth",
           "z": [
            1.2
           ]
          }
         ],
         "name": "0.8"
        },
        {
         "data": [
          {
           "coloraxis": "coloraxis",
           "geo": "geo",
           "hovertemplate": "<b>%{hovertext}</b><br><br>Enough for % of people=75.6<br>location=%{location}<br>Percentage of population with 1+ dose=%{z}<extra></extra>",
           "hovertext": [
            74.4
           ],
           "locations": [
            "Isle of Man"
           ],
           "name": "",
           "type": "choropleth",
           "z": [
            76.9
           ]
          }
         ],
         "name": "75.6"
        },
        {
         "data": [
          {
           "coloraxis": "coloraxis",
           "geo": "geo",
           "hovertemplate": "<b>%{hovertext}</b><br><br>Enough for % of people=0.1<br>location=%{location}<br>Percentage of population with 1+ dose=%{z}<extra></extra>",
           "hovertext": [
            0.1
           ],
           "locations": [
            "DR Congo"
           ],
           "name": "",
           "type": "choropleth",
           "z": [
            0.1
           ]
          }
         ],
         "name": "0.1"
        },
        {
         "data": [
          {
           "coloraxis": "coloraxis",
           "geo": "geo",
           "hovertemplate": "<b>%{hovertext}</b><br><br>Enough for % of people=78.8<br>location=%{location}<br>Percentage of population with 1+ dose=%{z}<extra></extra>",
           "hovertext": [
            76.9
           ],
           "locations": [
            "Cayman Islands"
           ],
           "name": "",
           "type": "choropleth",
           "z": [
            80.7
           ]
          }
         ],
         "name": "78.8"
        },
        {
         "data": [
          {
           "coloraxis": "coloraxis",
           "geo": "geo",
           "hovertemplate": "<b>%{hovertext}</b><br><br>Enough for % of people=89.8<br>location=%{location}<br>Percentage of population with 1+ dose=%{z}<extra></extra>",
           "hovertext": [
            58.7
           ],
           "locations": [
            "Greenland"
           ],
           "name": "",
           "type": "choropleth",
           "z": [
            124.5
           ]
          }
         ],
         "name": "89.8"
        },
        {
         "data": [
          {
           "coloraxis": "coloraxis",
           "geo": "geo",
           "hovertemplate": "<b>%{hovertext}</b><br><br>Enough for % of people=60.7<br>location=%{location}<br>Percentage of population with 1+ dose=%{z}<extra></extra>",
           "hovertext": [
            54.3
           ],
           "locations": [
            "Andorra"
           ],
           "name": "",
           "type": "choropleth",
           "z": [
            67
           ]
          }
         ],
         "name": "60.7"
        },
        {
         "data": [
          {
           "coloraxis": "coloraxis",
           "geo": "geo",
           "hovertemplate": "<b>%{hovertext}</b><br><br>Enough for % of people=67.8<br>location=%{location}<br>Percentage of population with 1+ dose=%{z}<extra></extra>",
           "hovertext": [
            67.1
           ],
           "locations": [
            "Bermuda"
           ],
           "name": "",
           "type": "choropleth",
           "z": [
            68.5
           ]
          }
         ],
         "name": "67.8"
        },
        {
         "data": [
          {
           "coloraxis": "coloraxis",
           "geo": "geo",
           "hovertemplate": "<b>%{hovertext}</b><br><br>Enough for % of people=6.5<br>location=%{location}<br>Percentage of population with 1+ dose=%{z}<extra></extra>",
           "hovertext": [
            3.2
           ],
           "locations": [
            "Solomon Islands"
           ],
           "name": "",
           "type": "choropleth",
           "z": [
            9.8
           ]
          }
         ],
         "name": "6.5"
        },
        {
         "data": [
          {
           "coloraxis": "coloraxis",
           "geo": "geo",
           "hovertemplate": "<b>%{hovertext}</b><br><br>Enough for % of people=116.2<br>location=%{location}<br>Percentage of population with 1+ dose=%{z}<extra></extra>",
           "hovertext": [
            115.5
           ],
           "locations": [
            "Gibraltar"
           ],
           "name": "",
           "type": "choropleth",
           "z": [
            116.9
           ]
          }
         ],
         "name": "116.2"
        },
        {
         "data": [
          {
           "coloraxis": "coloraxis",
           "geo": "geo",
           "hovertemplate": "<b>%{hovertext}</b><br><br>Enough for % of people=40.2<br>location=%{location}<br>Percentage of population with 1+ dose=%{z}<extra></extra>",
           "hovertext": [
            36.1
           ],
           "locations": [
            "Antigua and Barbuda"
           ],
           "name": "",
           "type": "choropleth",
           "z": [
            44.3
           ]
          }
         ],
         "name": "40.2"
        },
        {
         "data": [
          {
           "coloraxis": "coloraxis",
           "geo": "geo",
           "hovertemplate": "<b>%{hovertext}</b><br><br>Enough for % of people=0.2<br>location=%{location}<br>Percentage of population with 1+ dose=%{z}<extra></extra>",
           "hovertext": [
            0.1,
            0.1,
            0.1
           ],
           "locations": [
            "Chad",
            "South Sudan",
            "Haiti"
           ],
           "name": "",
           "type": "choropleth",
           "z": [
            0.4,
            0.4,
            0.3
           ]
          }
         ],
         "name": "0.2"
        },
        {
         "data": [
          {
           "coloraxis": "coloraxis",
           "geo": "geo",
           "hovertemplate": "<b>%{hovertext}</b><br><br>Enough for % of people=34.2<br>location=%{location}<br>Percentage of population with 1+ dose=%{z}<extra></extra>",
           "hovertext": [
            27.3
           ],
           "locations": [
            "Tonga"
           ],
           "name": "",
           "type": "choropleth",
           "z": [
            41.1
           ]
          }
         ],
         "name": "34.2"
        },
        {
         "data": [
          {
           "coloraxis": "coloraxis",
           "geo": "geo",
           "hovertemplate": "<b>%{hovertext}</b><br><br>Enough for % of people=32.6<br>location=%{location}<br>Percentage of population with 1+ dose=%{z}<extra></extra>",
           "hovertext": [
            31.940609137055848
           ],
           "locations": [
            "Micronesia"
           ],
           "name": "",
           "type": "choropleth",
           "z": [
            37.7
           ]
          }
         ],
         "name": "32.6"
        },
        {
         "data": [
          {
           "coloraxis": "coloraxis",
           "geo": "geo",
           "hovertemplate": "<b>%{hovertext}</b><br><br>Enough for % of people=18.4<br>location=%{location}<br>Percentage of population with 1+ dose=%{z}<extra></extra>",
           "hovertext": [
            15.6
           ],
           "locations": [
            "St. Lucia"
           ],
           "name": "",
           "type": "choropleth",
           "z": [
            21.2
           ]
          }
         ],
         "name": "18.4"
        },
        {
         "data": [
          {
           "coloraxis": "coloraxis",
           "geo": "geo",
           "hovertemplate": "<b>%{hovertext}</b><br><br>Enough for % of people=3.0<br>location=%{location}<br>Percentage of population with 1+ dose=%{z}<extra></extra>",
           "hovertext": [
            2.4
           ],
           "locations": [
            "Djibouti"
           ],
           "name": "",
           "type": "choropleth",
           "z": [
            3.6
           ]
          }
         ],
         "name": "3.0"
        },
        {
         "data": [
          {
           "coloraxis": "coloraxis",
           "geo": "geo",
           "hovertemplate": "<b>%{hovertext}</b><br><br>Enough for % of people=11.9<br>location=%{location}<br>Percentage of population with 1+ dose=%{z}<extra></extra>",
           "hovertext": [
            5.6
           ],
           "locations": [
            "Sao Tome and Principe"
           ],
           "name": "",
           "type": "choropleth",
           "z": [
            18.3
           ]
          }
         ],
         "name": "11.9"
        },
        {
         "data": [
          {
           "coloraxis": "coloraxis",
           "geo": "geo",
           "hovertemplate": "<b>%{hovertext}</b><br><br>Enough for % of people=66.9<br>location=%{location}<br>Percentage of population with 1+ dose=%{z}<extra></extra>",
           "hovertext": [
            63.9
           ],
           "locations": [
            "Turks & Caicos"
           ],
           "name": "",
           "type": "choropleth",
           "z": [
            70
           ]
          }
         ],
         "name": "66.9"
        },
        {
         "data": [
          {
           "coloraxis": "coloraxis",
           "geo": "geo",
           "hovertemplate": "<b>%{hovertext}</b><br><br>Enough for % of people=62.4<br>location=%{location}<br>Percentage of population with 1+ dose=%{z}<extra></extra>",
           "hovertext": [
            57.8
           ],
           "locations": [
            "Monaco"
           ],
           "name": "",
           "type": "choropleth",
           "z": [
            67
           ]
          }
         ],
         "name": "62.4"
        },
        {
         "data": [
          {
           "coloraxis": "coloraxis",
           "geo": "geo",
           "hovertemplate": "<b>%{hovertext}</b><br><br>Enough for % of people=57.8<br>location=%{location}<br>Percentage of population with 1+ dose=%{z}<extra></extra>",
           "hovertext": [
            55.1
           ],
           "locations": [
            "Sint Maarten"
           ],
           "name": "",
           "type": "choropleth",
           "z": [
            60.4
           ]
          }
         ],
         "name": "57.8"
        },
        {
         "data": [
          {
           "coloraxis": "coloraxis",
           "geo": "geo",
           "hovertemplate": "<b>%{hovertext}</b><br><br>Enough for % of people=30.2<br>location=%{location}<br>Percentage of population with 1+ dose=%{z}<extra></extra>",
           "hovertext": [
            28.6
           ],
           "locations": [
            "Dominica"
           ],
           "name": "",
           "type": "choropleth",
           "z": [
            31.8
           ]
          }
         ],
         "name": "30.2"
        },
        {
         "data": [
          {
           "coloraxis": "coloraxis",
           "geo": "geo",
           "hovertemplate": "<b>%{hovertext}</b><br><br>Enough for % of people=0.4<br>location=%{location}<br>Percentage of population with 1+ dose=%{z}<extra></extra>",
           "hovertext": [
            0.2
           ],
           "locations": [
            "Turkmenistan"
           ],
           "name": "",
           "type": "choropleth",
           "z": [
            0.6
           ]
          }
         ],
         "name": "0.4"
        },
        {
         "data": [
          {
           "coloraxis": "coloraxis",
           "geo": "geo",
           "hovertemplate": "<b>%{hovertext}</b><br><br>Enough for % of people=14.1<br>location=%{location}<br>Percentage of population with 1+ dose=%{z}<extra></extra>",
           "hovertext": [
            10.8
           ],
           "locations": [
            "St. Vincent and the Grenadines"
           ],
           "name": "",
           "type": "choropleth",
           "z": [
            17.3
           ]
          }
         ],
         "name": "14.1"
        },
        {
         "data": [
          {
           "coloraxis": "coloraxis",
           "geo": "geo",
           "hovertemplate": "<b>%{hovertext}</b><br><br>Enough for % of people=56.9<br>location=%{location}<br>Percentage of population with 1+ dose=%{z}<extra></extra>",
           "hovertext": [
            55.2
           ],
           "locations": [
            "Nauru"
           ],
           "name": "",
           "type": "choropleth",
           "z": [
            58.6
           ]
          }
         ],
         "name": "56.9"
        },
        {
         "data": [
          {
           "coloraxis": "coloraxis",
           "geo": "geo",
           "hovertemplate": "<b>%{hovertext}</b><br><br>Enough for % of people=65.8<br>location=%{location}<br>Percentage of population with 1+ dose=%{z}<extra></extra>",
           "hovertext": [
            58.9
           ],
           "locations": [
            "St. Helena"
           ],
           "name": "",
           "type": "choropleth",
           "z": [
            72.7
           ]
          }
         ],
         "name": "65.8"
        },
        {
         "data": [
          {
           "coloraxis": "coloraxis",
           "geo": "geo",
           "hovertemplate": "<b>%{hovertext}</b><br><br>Enough for % of people=73.5<br>location=%{location}<br>Percentage of population with 1+ dose=%{z}<extra></extra>",
           "hovertext": [
            59.2
           ],
           "locations": [
            "Falkland Islands"
           ],
           "name": "",
           "type": "choropleth",
           "z": [
            87.7
           ]
          }
         ],
         "name": "73.5"
        },
        {
         "data": [
          {
           "coloraxis": "coloraxis",
           "geo": "geo",
           "hovertemplate": "<b>%{hovertext}</b><br><br>Enough for % of people=28.4<br>location=%{location}<br>Percentage of population with 1+ dose=%{z}<extra></extra>",
           "hovertext": [
            27.4
           ],
           "locations": [
            "Montserrat"
           ],
           "name": "",
           "type": "choropleth",
           "z": [
            29.3
           ]
          }
         ],
         "name": "28.4"
        }
       ],
       "layout": {
        "coloraxis": {
         "colorbar": {
          "title": {
           "text": "Percentage of population fully vaccinated"
          }
         },
         "colorscale": [
          [
           0,
           "rgb(165,0,38)"
          ],
          [
           0.1,
           "rgb(215,48,39)"
          ],
          [
           0.2,
           "rgb(244,109,67)"
          ],
          [
           0.3,
           "rgb(253,174,97)"
          ],
          [
           0.4,
           "rgb(254,224,139)"
          ],
          [
           0.5,
           "rgb(255,255,191)"
          ],
          [
           0.6,
           "rgb(217,239,139)"
          ],
          [
           0.7,
           "rgb(166,217,106)"
          ],
          [
           0.8,
           "rgb(102,189,99)"
          ],
          [
           0.9,
           "rgb(26,152,80)"
          ],
          [
           1,
           "rgb(0,104,55)"
          ]
         ]
        },
        "font": {
         "family": "Rockwell"
        },
        "geo": {
         "center": {},
         "domain": {
          "x": [
           0,
           1
          ],
          "y": [
           0,
           1
          ]
         },
         "scope": "world"
        },
        "legend": {
         "tracegroupgap": 0
        },
        "margin": {
         "t": 60
        },
        "sliders": [
         {
          "active": 0,
          "currentvalue": {
           "prefix": "Enough for % of people="
          },
          "len": 0.9,
          "pad": {
           "b": 10,
           "t": 60
          },
          "steps": [
           {
            "args": [
             [
              "35.595049504950495"
             ],
             {
              "frame": {
               "duration": 0,
               "redraw": true
              },
              "fromcurrent": true,
              "mode": "immediate",
              "transition": {
               "duration": 0,
               "easing": "linear"
              }
             }
            ],
            "label": "35.595049504950495",
            "method": "animate"
           },
           {
            "args": [
             [
              "76.1"
             ],
             {
              "frame": {
               "duration": 0,
               "redraw": true
              },
              "fromcurrent": true,
              "mode": "immediate",
              "transition": {
               "duration": 0,
               "easing": "linear"
              }
             }
            ],
            "label": "76.1",
            "method": "animate"
           },
           {
            "args": [
             [
              "26.7"
             ],
             {
              "frame": {
               "duration": 0,
               "redraw": true
              },
              "fromcurrent": true,
              "mode": "immediate",
              "transition": {
               "duration": 0,
               "easing": "linear"
              }
             }
            ],
            "label": "26.7",
            "method": "animate"
           },
           {
            "args": [
             [
              "61.6"
             ],
             {
              "frame": {
               "duration": 0,
               "redraw": true
              },
              "fromcurrent": true,
              "mode": "immediate",
              "transition": {
               "duration": 0,
               "easing": "linear"
              }
             }
            ],
            "label": "61.6",
            "method": "animate"
           },
           {
            "args": [
             [
              "59.2"
             ],
             {
              "frame": {
               "duration": 0,
               "redraw": true
              },
              "fromcurrent": true,
              "mode": "immediate",
              "transition": {
               "duration": 0,
               "easing": "linear"
              }
             }
            ],
            "label": "59.2",
            "method": "animate"
           },
           {
            "args": [
             [
              "50.0"
             ],
             {
              "frame": {
               "duration": 0,
               "redraw": true
              },
              "fromcurrent": true,
              "mode": "immediate",
              "transition": {
               "duration": 0,
               "easing": "linear"
              }
             }
            ],
            "label": "50.0",
            "method": "animate"
           },
           {
            "args": [
             [
              "56.0"
             ],
             {
              "frame": {
               "duration": 0,
               "redraw": true
              },
              "fromcurrent": true,
              "mode": "immediate",
              "transition": {
               "duration": 0,
               "easing": "linear"
              }
             }
            ],
            "label": "56.0",
            "method": "animate"
           },
           {
            "args": [
             [
              "20.9"
             ],
             {
              "frame": {
               "duration": 0,
               "redraw": true
              },
              "fromcurrent": true,
              "mode": "immediate",
              "transition": {
               "duration": 0,
               "easing": "linear"
              }
             }
            ],
            "label": "20.9",
            "method": "animate"
           },
           {
            "args": [
             [
              "62.5"
             ],
             {
              "frame": {
               "duration": 0,
               "redraw": true
              },
              "fromcurrent": true,
              "mode": "immediate",
              "transition": {
               "duration": 0,
               "easing": "linear"
              }
             }
            ],
            "label": "62.5",
            "method": "animate"
           },
           {
            "args": [
             [
              "60.8"
             ],
             {
              "frame": {
               "duration": 0,
               "redraw": true
              },
              "fromcurrent": true,
              "mode": "immediate",
              "transition": {
               "duration": 0,
               "easing": "linear"
              }
             }
            ],
            "label": "60.8",
            "method": "animate"
           },
           {
            "args": [
             [
              "69.0"
             ],
             {
              "frame": {
               "duration": 0,
               "redraw": true
              },
              "fromcurrent": true,
              "mode": "immediate",
              "transition": {
               "duration": 0,
               "easing": "linear"
              }
             }
            ],
            "label": "69.0",
            "method": "animate"
           },
           {
            "args": [
             [
              "69.9"
             ],
             {
              "frame": {
               "duration": 0,
               "redraw": true
              },
              "fromcurrent": true,
              "mode": "immediate",
              "transition": {
               "duration": 0,
               "easing": "linear"
              }
             }
            ],
            "label": "69.9",
            "method": "animate"
           },
           {
            "args": [
             [
              "35.1"
             ],
             {
              "frame": {
               "duration": 0,
               "redraw": true
              },
              "fromcurrent": true,
              "mode": "immediate",
              "transition": {
               "duration": 0,
               "easing": "linear"
              }
             }
            ],
            "label": "35.1",
            "method": "animate"
           },
           {
            "args": [
             [
              "29.0"
             ],
             {
              "frame": {
               "duration": 0,
               "redraw": true
              },
              "fromcurrent": true,
              "mode": "immediate",
              "transition": {
               "duration": 0,
               "easing": "linear"
              }
             }
            ],
            "label": "29.0",
            "method": "animate"
           },
           {
            "args": [
             [
              "66.6"
             ],
             {
              "frame": {
               "duration": 0,
               "redraw": true
              },
              "fromcurrent": true,
              "mode": "immediate",
              "transition": {
               "duration": 0,
               "easing": "linear"
              }
             }
            ],
            "label": "66.6",
            "method": "animate"
           },
           {
            "args": [
             [
              "73.4"
             ],
             {
              "frame": {
               "duration": 0,
               "redraw": true
              },
              "fromcurrent": true,
              "mode": "immediate",
              "transition": {
               "duration": 0,
               "easing": "linear"
              }
             }
            ],
            "label": "73.4",
            "method": "animate"
           },
           {
            "args": [
             [
              "16.2"
             ],
             {
              "frame": {
               "duration": 0,
               "redraw": true
              },
              "fromcurrent": true,
              "mode": "immediate",
              "transition": {
               "duration": 0,
               "easing": "linear"
              }
             }
            ],
            "label": "16.2",
            "method": "animate"
           },
           {
            "args": [
             [
              "72.3"
             ],
             {
              "frame": {
               "duration": 0,
               "redraw": true
              },
              "fromcurrent": true,
              "mode": "immediate",
              "transition": {
               "duration": 0,
               "easing": "linear"
              }
             }
            ],
            "label": "72.3",
            "method": "animate"
           },
           {
            "args": [
             [
              "49.9"
             ],
             {
              "frame": {
               "duration": 0,
               "redraw": true
              },
              "fromcurrent": true,
              "mode": "immediate",
              "transition": {
               "duration": 0,
               "easing": "linear"
              }
             }
            ],
            "label": "49.9",
            "method": "animate"
           },
           {
            "args": [
             [
              "51.6"
             ],
             {
              "frame": {
               "duration": 0,
               "redraw": true
              },
              "fromcurrent": true,
              "mode": "immediate",
              "transition": {
               "duration": 0,
               "easing": "linear"
              }
             }
            ],
            "label": "51.6",
            "method": "animate"
           },
           {
            "args": [
             [
              "57.4"
             ],
             {
              "frame": {
               "duration": 0,
               "redraw": true
              },
              "fromcurrent": true,
              "mode": "immediate",
              "transition": {
               "duration": 0,
               "easing": "linear"
              }
             }
            ],
            "label": "57.4",
            "method": "animate"
           },
           {
            "args": [
             [
              "27.9"
             ],
             {
              "frame": {
               "duration": 0,
               "redraw": true
              },
              "fromcurrent": true,
              "mode": "immediate",
              "transition": {
               "duration": 0,
               "easing": "linear"
              }
             }
            ],
            "label": "27.9",
            "method": "animate"
           },
           {
            "args": [
             [
              "58.3"
             ],
             {
              "frame": {
               "duration": 0,
               "redraw": true
              },
              "fromcurrent": true,
              "mode": "immediate",
              "transition": {
               "duration": 0,
               "easing": "linear"
              }
             }
            ],
            "label": "58.3",
            "method": "animate"
           },
           {
            "args": [
             [
              "17.6"
             ],
             {
              "frame": {
               "duration": 0,
               "redraw": true
              },
              "fromcurrent": true,
              "mode": "immediate",
              "transition": {
               "duration": 0,
               "easing": "linear"
              }
             }
            ],
            "label": "17.6",
            "method": "animate"
           },
           {
            "args": [
             [
              "36.4"
             ],
             {
              "frame": {
               "duration": 0,
               "redraw": true
              },
              "fromcurrent": true,
              "mode": "immediate",
              "transition": {
               "duration": 0,
               "easing": "linear"
              }
             }
            ],
            "label": "36.4",
            "method": "animate"
           },
           {
            "args": [
             [
              "48.2"
             ],
             {
              "frame": {
               "duration": 0,
               "redraw": true
              },
              "fromcurrent": true,
              "mode": "immediate",
              "transition": {
               "duration": 0,
               "easing": "linear"
              }
             }
            ],
            "label": "48.2",
            "method": "animate"
           },
           {
            "args": [
             [
              "50.6"
             ],
             {
              "frame": {
               "duration": 0,
               "redraw": true
              },
              "fromcurrent": true,
              "mode": "immediate",
              "transition": {
               "duration": 0,
               "easing": "linear"
              }
             }
            ],
            "label": "50.6",
            "method": "animate"
           },
           {
            "args": [
             [
              "9.8"
             ],
             {
              "frame": {
               "duration": 0,
               "redraw": true
              },
              "fromcurrent": true,
              "mode": "immediate",
              "transition": {
               "duration": 0,
               "easing": "linear"
              }
             }
            ],
            "label": "9.8",
            "method": "animate"
           },
           {
            "args": [
             [
              "78.3"
             ],
             {
              "frame": {
               "duration": 0,
               "redraw": true
              },
              "fromcurrent": true,
              "mode": "immediate",
              "transition": {
               "duration": 0,
               "easing": "linear"
              }
             }
            ],
            "label": "78.3",
            "method": "animate"
           },
           {
            "args": [
             [
              "17.5"
             ],
             {
              "frame": {
               "duration": 0,
               "redraw": true
              },
              "fromcurrent": true,
              "mode": "immediate",
              "transition": {
               "duration": 0,
               "easing": "linear"
              }
             }
            ],
            "label": "17.5",
            "method": "animate"
           },
           {
            "args": [
             [
              "12.2"
             ],
             {
              "frame": {
               "duration": 0,
               "redraw": true
              },
              "fromcurrent": true,
              "mode": "immediate",
              "transition": {
               "duration": 0,
               "easing": "linear"
              }
             }
            ],
            "label": "12.2",
            "method": "animate"
           },
           {
            "args": [
             [
              "53.8"
             ],
             {
              "frame": {
               "duration": 0,
               "redraw": true
              },
              "fromcurrent": true,
              "mode": "immediate",
              "transition": {
               "duration": 0,
               "easing": "linear"
              }
             }
            ],
            "label": "53.8",
            "method": "animate"
           },
           {
            "args": [
             [
              "67.3"
             ],
             {
              "frame": {
               "duration": 0,
               "redraw": true
              },
              "fromcurrent": true,
              "mode": "immediate",
              "transition": {
               "duration": 0,
               "easing": "linear"
              }
             }
            ],
            "label": "67.3",
            "method": "animate"
           },
           {
            "args": [
             [
              "43.4"
             ],
             {
              "frame": {
               "duration": 0,
               "redraw": true
              },
              "fromcurrent": true,
              "mode": "immediate",
              "transition": {
               "duration": 0,
               "easing": "linear"
              }
             }
            ],
            "label": "43.4",
            "method": "animate"
           },
           {
            "args": [
             [
              "31.2"
             ],
             {
              "frame": {
               "duration": 0,
               "redraw": true
              },
              "fromcurrent": true,
              "mode": "immediate",
              "transition": {
               "duration": 0,
               "easing": "linear"
              }
             }
            ],
            "label": "31.2",
            "method": "animate"
           },
           {
            "args": [
             [
              "58.4"
             ],
             {
              "frame": {
               "duration": 0,
               "redraw": true
              },
              "fromcurrent": true,
              "mode": "immediate",
              "transition": {
               "duration": 0,
               "easing": "linear"
              }
             }
            ],
            "label": "58.4",
            "method": "animate"
           },
           {
            "args": [
             [
              "87.5"
             ],
             {
              "frame": {
               "duration": 0,
               "redraw": true
              },
              "fromcurrent": true,
              "mode": "immediate",
              "transition": {
               "duration": 0,
               "easing": "linear"
              }
             }
            ],
            "label": "87.5",
            "method": "animate"
           },
           {
            "args": [
             [
              "71.4"
             ],
             {
              "frame": {
               "duration": 0,
               "redraw": true
              },
              "fromcurrent": true,
              "mode": "immediate",
              "transition": {
               "duration": 0,
               "easing": "linear"
              }
             }
            ],
            "label": "71.4",
            "method": "animate"
           },
           {
            "args": [
             [
              "24.0"
             ],
             {
              "frame": {
               "duration": 0,
               "redraw": true
              },
              "fromcurrent": true,
              "mode": "immediate",
              "transition": {
               "duration": 0,
               "easing": "linear"
              }
             }
            ],
            "label": "24.0",
            "method": "animate"
           },
           {
            "args": [
             [
              "68.5"
             ],
             {
              "frame": {
               "duration": 0,
               "redraw": true
              },
              "fromcurrent": true,
              "mode": "immediate",
              "transition": {
               "duration": 0,
               "easing": "linear"
              }
             }
            ],
            "label": "68.5",
            "method": "animate"
           },
           {
            "args": [
             [
              "74.1"
             ],
             {
              "frame": {
               "duration": 0,
               "redraw": true
              },
              "fromcurrent": true,
              "mode": "immediate",
              "transition": {
               "duration": 0,
               "easing": "linear"
              }
             }
            ],
            "label": "74.1",
            "method": "animate"
           },
           {
            "args": [
             [
              "18.0"
             ],
             {
              "frame": {
               "duration": 0,
               "redraw": true
              },
              "fromcurrent": true,
              "mode": "immediate",
              "transition": {
               "duration": 0,
               "easing": "linear"
              }
             }
            ],
            "label": "18.0",
            "method": "animate"
           },
           {
            "args": [
             [
              "14.0"
             ],
             {
              "frame": {
               "duration": 0,
               "redraw": true
              },
              "fromcurrent": true,
              "mode": "immediate",
              "transition": {
               "duration": 0,
               "easing": "linear"
              }
             }
            ],
            "label": "14.0",
            "method": "animate"
           },
           {
            "args": [
             [
              "79.4"
             ],
             {
              "frame": {
               "duration": 0,
               "redraw": true
              },
              "fromcurrent": true,
              "mode": "immediate",
              "transition": {
               "duration": 0,
               "easing": "linear"
              }
             }
            ],
            "label": "79.4",
            "method": "animate"
           },
           {
            "args": [
             [
              "63.6"
             ],
             {
              "frame": {
               "duration": 0,
               "redraw": true
              },
              "fromcurrent": true,
              "mode": "immediate",
              "transition": {
               "duration": 0,
               "easing": "linear"
              }
             }
            ],
            "label": "63.6",
            "method": "animate"
           },
           {
            "args": [
             [
              "34.5"
             ],
             {
              "frame": {
               "duration": 0,
               "redraw": true
              },
              "fromcurrent": true,
              "mode": "immediate",
              "transition": {
               "duration": 0,
               "easing": "linear"
              }
             }
            ],
            "label": "34.5",
            "method": "animate"
           },
           {
            "args": [
             [
              "25.3"
             ],
             {
              "frame": {
               "duration": 0,
               "redraw": true
              },
              "fromcurrent": true,
              "mode": "immediate",
              "transition": {
               "duration": 0,
               "easing": "linear"
              }
             }
            ],
            "label": "25.3",
            "method": "animate"
           },
           {
            "args": [
             [
              "59.8"
             ],
             {
              "frame": {
               "duration": 0,
               "redraw": true
              },
              "fromcurrent": true,
              "mode": "immediate",
              "transition": {
               "duration": 0,
               "easing": "linear"
              }
             }
            ],
            "label": "59.8",
            "method": "animate"
           },
           {
            "args": [
             [
              "54.2"
             ],
             {
              "frame": {
               "duration": 0,
               "redraw": true
              },
              "fromcurrent": true,
              "mode": "immediate",
              "transition": {
               "duration": 0,
               "easing": "linear"
              }
             }
            ],
            "label": "54.2",
            "method": "animate"
           },
           {
            "args": [
             [
              "54.5"
             ],
             {
              "frame": {
               "duration": 0,
               "redraw": true
              },
              "fromcurrent": true,
              "mode": "immediate",
              "transition": {
               "duration": 0,
               "easing": "linear"
              }
             }
            ],
            "label": "54.5",
            "method": "animate"
           },
           {
            "args": [
             [
              "55.1"
             ],
             {
              "frame": {
               "duration": 0,
               "redraw": true
              },
              "fromcurrent": true,
              "mode": "immediate",
              "transition": {
               "duration": 0,
               "easing": "linear"
              }
             }
            ],
            "label": "55.1",
            "method": "animate"
           },
           {
            "args": [
             [
              "19.0"
             ],
             {
              "frame": {
               "duration": 0,
               "redraw": true
              },
              "fromcurrent": true,
              "mode": "immediate",
              "transition": {
               "duration": 0,
               "easing": "linear"
              }
             }
            ],
            "label": "19.0",
            "method": "animate"
           },
           {
            "args": [
             [
              "5.4"
             ],
             {
              "frame": {
               "duration": 0,
               "redraw": true
              },
              "fromcurrent": true,
              "mode": "immediate",
              "transition": {
               "duration": 0,
               "easing": "linear"
              }
             }
            ],
            "label": "5.4",
            "method": "animate"
           },
           {
            "args": [
             [
              "25.4"
             ],
             {
              "frame": {
               "duration": 0,
               "redraw": true
              },
              "fromcurrent": true,
              "mode": "immediate",
              "transition": {
               "duration": 0,
               "easing": "linear"
              }
             }
            ],
            "label": "25.4",
            "method": "animate"
           },
           {
            "args": [
             [
              "57.5"
             ],
             {
              "frame": {
               "duration": 0,
               "redraw": true
              },
              "fromcurrent": true,
              "mode": "immediate",
              "transition": {
               "duration": 0,
               "easing": "linear"
              }
             }
            ],
            "label": "57.5",
            "method": "animate"
           },
           {
            "args": [
             [
              "16.8"
             ],
             {
              "frame": {
               "duration": 0,
               "redraw": true
              },
              "fromcurrent": true,
              "mode": "immediate",
              "transition": {
               "duration": 0,
               "easing": "linear"
              }
             }
            ],
            "label": "16.8",
            "method": "animate"
           },
           {
            "args": [
             [
              "78.7"
             ],
             {
              "frame": {
               "duration": 0,
               "redraw": true
              },
              "fromcurrent": true,
              "mode": "immediate",
              "transition": {
               "duration": 0,
               "easing": "linear"
              }
             }
            ],
            "label": "78.7",
            "method": "animate"
           },
           {
            "args": [
             [
              "75.0"
             ],
             {
              "frame": {
               "duration": 0,
               "redraw": true
              },
              "fromcurrent": true,
              "mode": "immediate",
              "transition": {
               "duration": 0,
               "easing": "linear"
              }
             }
            ],
            "label": "75.0",
            "method": "animate"
           },
           {
            "args": [
             [
              "53.6"
             ],
             {
              "frame": {
               "duration": 0,
               "redraw": true
              },
              "fromcurrent": true,
              "mode": "immediate",
              "transition": {
               "duration": 0,
               "easing": "linear"
              }
             }
            ],
            "label": "53.6",
            "method": "animate"
           },
           {
            "args": [
             [
              "9.2"
             ],
             {
              "frame": {
               "duration": 0,
               "redraw": true
              },
              "fromcurrent": true,
              "mode": "immediate",
              "transition": {
               "duration": 0,
               "easing": "linear"
              }
             }
            ],
            "label": "9.2",
            "method": "animate"
           },
           {
            "args": [
             [
              "37.2"
             ],
             {
              "frame": {
               "duration": 0,
               "redraw": true
              },
              "fromcurrent": true,
              "mode": "immediate",
              "transition": {
               "duration": 0,
               "easing": "linear"
              }
             }
            ],
            "label": "37.2",
            "method": "animate"
           },
           {
            "args": [
             [
              "64.8"
             ],
             {
              "frame": {
               "duration": 0,
               "redraw": true
              },
              "fromcurrent": true,
              "mode": "immediate",
              "transition": {
               "duration": 0,
               "easing": "linear"
              }
             }
            ],
            "label": "64.8",
            "method": "animate"
           },
           {
            "args": [
             [
              "70.6"
             ],
             {
              "frame": {
               "duration": 0,
               "redraw": true
              },
              "fromcurrent": true,
              "mode": "immediate",
              "transition": {
               "duration": 0,
               "easing": "linear"
              }
             }
            ],
            "label": "70.6",
            "method": "animate"
           },
           {
            "args": [
             [
              "52.9"
             ],
             {
              "frame": {
               "duration": 0,
               "redraw": true
              },
              "fromcurrent": true,
              "mode": "immediate",
              "transition": {
               "duration": 0,
               "easing": "linear"
              }
             }
            ],
            "label": "52.9",
            "method": "animate"
           },
           {
            "args": [
             [
              "32.9"
             ],
             {
              "frame": {
               "duration": 0,
               "redraw": true
              },
              "fromcurrent": true,
              "mode": "immediate",
              "transition": {
               "duration": 0,
               "easing": "linear"
              }
             }
            ],
            "label": "32.9",
            "method": "animate"
           },
           {
            "args": [
             [
              "5.9"
             ],
             {
              "frame": {
               "duration": 0,
               "redraw": true
              },
              "fromcurrent": true,
              "mode": "immediate",
              "transition": {
               "duration": 0,
               "easing": "linear"
              }
             }
            ],
            "label": "5.9",
            "method": "animate"
           },
           {
            "args": [
             [
              "27.0"
             ],
             {
              "frame": {
               "duration": 0,
               "redraw": true
              },
              "fromcurrent": true,
              "mode": "immediate",
              "transition": {
               "duration": 0,
               "easing": "linear"
              }
             }
            ],
            "label": "27.0",
            "method": "animate"
           },
           {
            "args": [
             [
              "43.7"
             ],
             {
              "frame": {
               "duration": 0,
               "redraw": true
              },
              "fromcurrent": true,
              "mode": "immediate",
              "transition": {
               "duration": 0,
               "easing": "linear"
              }
             }
            ],
            "label": "43.7",
            "method": "animate"
           },
           {
            "args": [
             [
              "83.9"
             ],
             {
              "frame": {
               "duration": 0,
               "redraw": true
              },
              "fromcurrent": true,
              "mode": "immediate",
              "transition": {
               "duration": 0,
               "easing": "linear"
              }
             }
            ],
            "label": "83.9",
            "method": "animate"
           },
           {
            "args": [
             [
              "14.9"
             ],
             {
              "frame": {
               "duration": 0,
               "redraw": true
              },
              "fromcurrent": true,
              "mode": "immediate",
              "transition": {
               "duration": 0,
               "easing": "linear"
              }
             }
            ],
            "label": "14.9",
            "method": "animate"
           },
           {
            "args": [
             [
              "1.3"
             ],
             {
              "frame": {
               "duration": 0,
               "redraw": true
              },
              "fromcurrent": true,
              "mode": "immediate",
              "transition": {
               "duration": 0,
               "easing": "linear"
              }
             }
            ],
            "label": "1.3",
            "method": "animate"
           },
           {
            "args": [
             [
              "42.8"
             ],
             {
              "frame": {
               "duration": 0,
               "redraw": true
              },
              "fromcurrent": true,
              "mode": "immediate",
              "transition": {
               "duration": 0,
               "easing": "linear"
              }
             }
            ],
            "label": "42.8",
            "method": "animate"
           },
           {
            "args": [
             [
              "15.4"
             ],
             {
              "frame": {
               "duration": 0,
               "redraw": true
              },
              "fromcurrent": true,
              "mode": "immediate",
              "transition": {
               "duration": 0,
               "easing": "linear"
              }
             }
            ],
            "label": "15.4",
            "method": "animate"
           },
           {
            "args": [
             [
              "45.1"
             ],
             {
              "frame": {
               "duration": 0,
               "redraw": true
              },
              "fromcurrent": true,
              "mode": "immediate",
              "transition": {
               "duration": 0,
               "easing": "linear"
              }
             }
            ],
            "label": "45.1",
            "method": "animate"
           },
           {
            "args": [
             [
              "81.9"
             ],
             {
              "frame": {
               "duration": 0,
               "redraw": true
              },
              "fromcurrent": true,
              "mode": "immediate",
              "transition": {
               "duration": 0,
               "easing": "linear"
              }
             }
            ],
            "label": "81.9",
            "method": "animate"
           },
           {
            "args": [
             [
              "23.2"
             ],
             {
              "frame": {
               "duration": 0,
               "redraw": true
              },
              "fromcurrent": true,
              "mode": "immediate",
              "transition": {
               "duration": 0,
               "easing": "linear"
              }
             }
            ],
            "label": "23.2",
            "method": "animate"
           },
           {
            "args": [
             [
              "30.7"
             ],
             {
              "frame": {
               "duration": 0,
               "redraw": true
              },
              "fromcurrent": true,
              "mode": "immediate",
              "transition": {
               "duration": 0,
               "easing": "linear"
              }
             }
            ],
            "label": "30.7",
            "method": "animate"
           },
           {
            "args": [
             [
              "66.1"
             ],
             {
              "frame": {
               "duration": 0,
               "redraw": true
              },
              "fromcurrent": true,
              "mode": "immediate",
              "transition": {
               "duration": 0,
               "easing": "linear"
              }
             }
            ],
            "label": "66.1",
            "method": "animate"
           },
           {
            "args": [
             [
              "42.3"
             ],
             {
              "frame": {
               "duration": 0,
               "redraw": true
              },
              "fromcurrent": true,
              "mode": "immediate",
              "transition": {
               "duration": 0,
               "easing": "linear"
              }
             }
            ],
            "label": "42.3",
            "method": "animate"
           },
           {
            "args": [
             [
              "28.6"
             ],
             {
              "frame": {
               "duration": 0,
               "redraw": true
              },
              "fromcurrent": true,
              "mode": "immediate",
              "transition": {
               "duration": 0,
               "easing": "linear"
              }
             }
            ],
            "label": "28.6",
            "method": "animate"
           },
           {
            "args": [
             [
              "48.1"
             ],
             {
              "frame": {
               "duration": 0,
               "redraw": true
              },
              "fromcurrent": true,
              "mode": "immediate",
              "transition": {
               "duration": 0,
               "easing": "linear"
              }
             }
            ],
            "label": "48.1",
            "method": "animate"
           },
           {
            "args": [
             [
              "4.8"
             ],
             {
              "frame": {
               "duration": 0,
               "redraw": true
              },
              "fromcurrent": true,
              "mode": "immediate",
              "transition": {
               "duration": 0,
               "easing": "linear"
              }
             }
            ],
            "label": "4.8",
            "method": "animate"
           },
           {
            "args": [
             [
              "40.7"
             ],
             {
              "frame": {
               "duration": 0,
               "redraw": true
              },
              "fromcurrent": true,
              "mode": "immediate",
              "transition": {
               "duration": 0,
               "easing": "linear"
              }
             }
            ],
            "label": "40.7",
            "method": "animate"
           },
           {
            "args": [
             [
              "58.5"
             ],
             {
              "frame": {
               "duration": 0,
               "redraw": true
              },
              "fromcurrent": true,
              "mode": "immediate",
              "transition": {
               "duration": 0,
               "easing": "linear"
              }
             }
            ],
            "label": "58.5",
            "method": "animate"
           },
           {
            "args": [
             [
              "17.1"
             ],
             {
              "frame": {
               "duration": 0,
               "redraw": true
              },
              "fromcurrent": true,
              "mode": "immediate",
              "transition": {
               "duration": 0,
               "easing": "linear"
              }
             }
            ],
            "label": "17.1",
            "method": "animate"
           },
           {
            "args": [
             [
              "16.3"
             ],
             {
              "frame": {
               "duration": 0,
               "redraw": true
              },
              "fromcurrent": true,
              "mode": "immediate",
              "transition": {
               "duration": 0,
               "easing": "linear"
              }
             }
            ],
            "label": "16.3",
            "method": "animate"
           },
           {
            "args": [
             [
              "3.1"
             ],
             {
              "frame": {
               "duration": 0,
               "redraw": true
              },
              "fromcurrent": true,
              "mode": "immediate",
              "transition": {
               "duration": 0,
               "easing": "linear"
              }
             }
            ],
            "label": "3.1",
            "method": "animate"
           },
           {
            "args": [
             [
              "19.8"
             ],
             {
              "frame": {
               "duration": 0,
               "redraw": true
              },
              "fromcurrent": true,
              "mode": "immediate",
              "transition": {
               "duration": 0,
               "easing": "linear"
              }
             }
            ],
            "label": "19.8",
            "method": "animate"
           },
           {
            "args": [
             [
              "1.4"
             ],
             {
              "frame": {
               "duration": 0,
               "redraw": true
              },
              "fromcurrent": true,
              "mode": "immediate",
              "transition": {
               "duration": 0,
               "easing": "linear"
              }
             }
            ],
            "label": "1.4",
            "method": "animate"
           },
           {
            "args": [
             [
              "10.4"
             ],
             {
              "frame": {
               "duration": 0,
               "redraw": true
              },
              "fromcurrent": true,
              "mode": "immediate",
              "transition": {
               "duration": 0,
               "easing": "linear"
              }
             }
            ],
            "label": "10.4",
            "method": "animate"
           },
           {
            "args": [
             [
              "84.8"
             ],
             {
              "frame": {
               "duration": 0,
               "redraw": true
              },
              "fromcurrent": true,
              "mode": "immediate",
              "transition": {
               "duration": 0,
               "easing": "linear"
              }
             }
            ],
            "label": "84.8",
            "method": "animate"
           },
           {
            "args": [
             [
              "17.2"
             ],
             {
              "frame": {
               "duration": 0,
               "redraw": true
              },
              "fromcurrent": true,
              "mode": "immediate",
              "transition": {
               "duration": 0,
               "easing": "linear"
              }
             }
            ],
            "label": "17.2",
            "method": "animate"
           },
           {
            "args": [
             [
              "25.1"
             ],
             {
              "frame": {
               "duration": 0,
               "redraw": true
              },
              "fromcurrent": true,
              "mode": "immediate",
              "transition": {
               "duration": 0,
               "easing": "linear"
              }
             }
            ],
            "label": "25.1",
            "method": "animate"
           },
           {
            "args": [
             [
              "3.7"
             ],
             {
              "frame": {
               "duration": 0,
               "redraw": true
              },
              "fromcurrent": true,
              "mode": "immediate",
              "transition": {
               "duration": 0,
               "easing": "linear"
              }
             }
            ],
            "label": "3.7",
            "method": "animate"
           },
           {
            "args": [
             [
              "3.5"
             ],
             {
              "frame": {
               "duration": 0,
               "redraw": true
              },
              "fromcurrent": true,
              "mode": "immediate",
              "transition": {
               "duration": 0,
               "easing": "linear"
              }
             }
            ],
            "label": "3.5",
            "method": "animate"
           },
           {
            "args": [
             [
              "2.7"
             ],
             {
              "frame": {
               "duration": 0,
               "redraw": true
              },
              "fromcurrent": true,
              "mode": "immediate",
              "transition": {
               "duration": 0,
               "easing": "linear"
              }
             }
            ],
            "label": "2.7",
            "method": "animate"
           },
           {
            "args": [
             [
              "48.3"
             ],
             {
              "frame": {
               "duration": 0,
               "redraw": true
              },
              "fromcurrent": true,
              "mode": "immediate",
              "transition": {
               "duration": 0,
               "easing": "linear"
              }
             }
            ],
            "label": "48.3",
            "method": "animate"
           },
           {
            "args": [
             [
              "5.3"
             ],
             {
              "frame": {
               "duration": 0,
               "redraw": true
              },
              "fromcurrent": true,
              "mode": "immediate",
              "transition": {
               "duration": 0,
               "easing": "linear"
              }
             }
            ],
            "label": "5.3",
            "method": "animate"
           },
           {
            "args": [
             [
              "62.8"
             ],
             {
              "frame": {
               "duration": 0,
               "redraw": true
              },
              "fromcurrent": true,
              "mode": "immediate",
              "transition": {
               "duration": 0,
               "easing": "linear"
              }
             }
            ],
            "label": "62.8",
            "method": "animate"
           },
           {
            "args": [
             [
              "27.5"
             ],
             {
              "frame": {
               "duration": 0,
               "redraw": true
              },
              "fromcurrent": true,
              "mode": "immediate",
              "transition": {
               "duration": 0,
               "easing": "linear"
              }
             }
            ],
            "label": "27.5",
            "method": "animate"
           },
           {
            "args": [
             [
              "40.3"
             ],
             {
              "frame": {
               "duration": 0,
               "redraw": true
              },
              "fromcurrent": true,
              "mode": "immediate",
              "transition": {
               "duration": 0,
               "easing": "linear"
              }
             }
            ],
            "label": "40.3",
            "method": "animate"
           },
           {
            "args": [
             [
              "1.9"
             ],
             {
              "frame": {
               "duration": 0,
               "redraw": true
              },
              "fromcurrent": true,
              "mode": "immediate",
              "transition": {
               "duration": 0,
               "easing": "linear"
              }
             }
            ],
            "label": "1.9",
            "method": "animate"
           },
           {
            "args": [
             [
              "2.8"
             ],
             {
              "frame": {
               "duration": 0,
               "redraw": true
              },
              "fromcurrent": true,
              "mode": "immediate",
              "transition": {
               "duration": 0,
               "easing": "linear"
              }
             }
            ],
            "label": "2.8",
            "method": "animate"
           },
           {
            "args": [
             [
              "18.3"
             ],
             {
              "frame": {
               "duration": 0,
               "redraw": true
              },
              "fromcurrent": true,
              "mode": "immediate",
              "transition": {
               "duration": 0,
               "easing": "linear"
              }
             }
            ],
            "label": "18.3",
            "method": "animate"
           },
           {
            "args": [
             [
              "24.8"
             ],
             {
              "frame": {
               "duration": 0,
               "redraw": true
              },
              "fromcurrent": true,
              "mode": "immediate",
              "transition": {
               "duration": 0,
               "easing": "linear"
              }
             }
            ],
            "label": "24.8",
            "method": "animate"
           },
           {
            "args": [
             [
              "31.9"
             ],
             {
              "frame": {
               "duration": 0,
               "redraw": true
              },
              "fromcurrent": true,
              "mode": "immediate",
              "transition": {
               "duration": 0,
               "easing": "linear"
              }
             }
            ],
            "label": "31.9",
            "method": "animate"
           },
           {
            "args": [
             [
              "49.1"
             ],
             {
              "frame": {
               "duration": 0,
               "redraw": true
              },
              "fromcurrent": true,
              "mode": "immediate",
              "transition": {
               "duration": 0,
               "easing": "linear"
              }
             }
            ],
            "label": "49.1",
            "method": "animate"
           },
           {
            "args": [
             [
              "4.7"
             ],
             {
              "frame": {
               "duration": 0,
               "redraw": true
              },
              "fromcurrent": true,
              "mode": "immediate",
              "transition": {
               "duration": 0,
               "easing": "linear"
              }
             }
            ],
            "label": "4.7",
            "method": "animate"
           },
           {
            "args": [
             [
              "9.7"
             ],
             {
              "frame": {
               "duration": 0,
               "redraw": true
              },
              "fromcurrent": true,
              "mode": "immediate",
              "transition": {
               "duration": 0,
               "easing": "linear"
              }
             }
            ],
            "label": "9.7",
            "method": "animate"
           },
           {
            "args": [
             [
              "2.1"
             ],
             {
              "frame": {
               "duration": 0,
               "redraw": true
              },
              "fromcurrent": true,
              "mode": "immediate",
              "transition": {
               "duration": 0,
               "easing": "linear"
              }
             }
            ],
            "label": "2.1",
            "method": "animate"
           },
           {
            "args": [
             [
              "63.8"
             ],
             {
              "frame": {
               "duration": 0,
               "redraw": true
              },
              "fromcurrent": true,
              "mode": "immediate",
              "transition": {
               "duration": 0,
               "easing": "linear"
              }
             }
            ],
            "label": "63.8",
            "method": "animate"
           },
           {
            "args": [
             [
              "16.1"
             ],
             {
              "frame": {
               "duration": 0,
               "redraw": true
              },
              "fromcurrent": true,
              "mode": "immediate",
              "transition": {
               "duration": 0,
               "easing": "linear"
              }
             }
            ],
            "label": "16.1",
            "method": "animate"
           },
           {
            "args": [
             [
              "70.1"
             ],
             {
              "frame": {
               "duration": 0,
               "redraw": true
              },
              "fromcurrent": true,
              "mode": "immediate",
              "transition": {
               "duration": 0,
               "easing": "linear"
              }
             }
            ],
            "label": "70.1",
            "method": "animate"
           },
           {
            "args": [
             [
              "27.1"
             ],
             {
              "frame": {
               "duration": 0,
               "redraw": true
              },
              "fromcurrent": true,
              "mode": "immediate",
              "transition": {
               "duration": 0,
               "easing": "linear"
              }
             }
            ],
            "label": "27.1",
            "method": "animate"
           },
           {
            "args": [
             [
              "2.4"
             ],
             {
              "frame": {
               "duration": 0,
               "redraw": true
              },
              "fromcurrent": true,
              "mode": "immediate",
              "transition": {
               "duration": 0,
               "easing": "linear"
              }
             }
            ],
            "label": "2.4",
            "method": "animate"
           },
           {
            "args": [
             [
              "48.4"
             ],
             {
              "frame": {
               "duration": 0,
               "redraw": true
              },
              "fromcurrent": true,
              "mode": "immediate",
              "transition": {
               "duration": 0,
               "easing": "linear"
              }
             }
            ],
            "label": "48.4",
            "method": "animate"
           },
           {
            "args": [
             [
              "81.4"
             ],
             {
              "frame": {
               "duration": 0,
               "redraw": true
              },
              "fromcurrent": true,
              "mode": "immediate",
              "transition": {
               "duration": 0,
               "easing": "linear"
              }
             }
            ],
            "label": "81.4",
            "method": "animate"
           },
           {
            "args": [
             [
              "93.4"
             ],
             {
              "frame": {
               "duration": 0,
               "redraw": true
              },
              "fromcurrent": true,
              "mode": "immediate",
              "transition": {
               "duration": 0,
               "easing": "linear"
              }
             }
            ],
            "label": "93.4",
            "method": "animate"
           },
           {
            "args": [
             [
              "5.1"
             ],
             {
              "frame": {
               "duration": 0,
               "redraw": true
              },
              "fromcurrent": true,
              "mode": "immediate",
              "transition": {
               "duration": 0,
               "easing": "linear"
              }
             }
            ],
            "label": "5.1",
            "method": "animate"
           },
           {
            "args": [
             [
              "4.0"
             ],
             {
              "frame": {
               "duration": 0,
               "redraw": true
              },
              "fromcurrent": true,
              "mode": "immediate",
              "transition": {
               "duration": 0,
               "easing": "linear"
              }
             }
            ],
            "label": "4.0",
            "method": "animate"
           },
           {
            "args": [
             [
              "1.8"
             ],
             {
              "frame": {
               "duration": 0,
               "redraw": true
              },
              "fromcurrent": true,
              "mode": "immediate",
              "transition": {
               "duration": 0,
               "easing": "linear"
              }
             }
            ],
            "label": "1.8",
            "method": "animate"
           },
           {
            "args": [
             [
              "44.8"
             ],
             {
              "frame": {
               "duration": 0,
               "redraw": true
              },
              "fromcurrent": true,
              "mode": "immediate",
              "transition": {
               "duration": 0,
               "easing": "linear"
              }
             }
            ],
            "label": "44.8",
            "method": "animate"
           },
           {
            "args": [
             [
              "11.1"
             ],
             {
              "frame": {
               "duration": 0,
               "redraw": true
              },
              "fromcurrent": true,
              "mode": "immediate",
              "transition": {
               "duration": 0,
               "easing": "linear"
              }
             }
            ],
            "label": "11.1",
            "method": "animate"
           },
           {
            "args": [
             [
              "22.7"
             ],
             {
              "frame": {
               "duration": 0,
               "redraw": true
              },
              "fromcurrent": true,
              "mode": "immediate",
              "transition": {
               "duration": 0,
               "easing": "linear"
              }
             }
            ],
            "label": "22.7",
            "method": "animate"
           },
           {
            "args": [
             [
              "12.1"
             ],
             {
              "frame": {
               "duration": 0,
               "redraw": true
              },
              "fromcurrent": true,
              "mode": "immediate",
              "transition": {
               "duration": 0,
               "easing": "linear"
              }
             }
            ],
            "label": "12.1",
            "method": "animate"
           },
           {
            "args": [
             [
              "7.0"
             ],
             {
              "frame": {
               "duration": 0,
               "redraw": true
              },
              "fromcurrent": true,
              "mode": "immediate",
              "transition": {
               "duration": 0,
               "easing": "linear"
              }
             }
            ],
            "label": "7.0",
            "method": "animate"
           },
           {
            "args": [
             [
              "31.5"
             ],
             {
              "frame": {
               "duration": 0,
               "redraw": true
              },
              "fromcurrent": true,
              "mode": "immediate",
              "transition": {
               "duration": 0,
               "easing": "linear"
              }
             }
            ],
            "label": "31.5",
            "method": "animate"
           },
           {
            "args": [
             [
              "1.1"
             ],
             {
              "frame": {
               "duration": 0,
               "redraw": true
              },
              "fromcurrent": true,
              "mode": "immediate",
              "transition": {
               "duration": 0,
               "easing": "linear"
              }
             }
            ],
            "label": "1.1",
            "method": "animate"
           },
           {
            "args": [
             [
              "0.9"
             ],
             {
              "frame": {
               "duration": 0,
               "redraw": true
              },
              "fromcurrent": true,
              "mode": "immediate",
              "transition": {
               "duration": 0,
               "easing": "linear"
              }
             }
            ],
            "label": "0.9",
            "method": "animate"
           },
           {
            "args": [
             [
              "33.1"
             ],
             {
              "frame": {
               "duration": 0,
               "redraw": true
              },
              "fromcurrent": true,
              "mode": "immediate",
              "transition": {
               "duration": 0,
               "easing": "linear"
              }
             }
            ],
            "label": "33.1",
            "method": "animate"
           },
           {
            "args": [
             [
              "13.4"
             ],
             {
              "frame": {
               "duration": 0,
               "redraw": true
              },
              "fromcurrent": true,
              "mode": "immediate",
              "transition": {
               "duration": 0,
               "easing": "linear"
              }
             }
            ],
            "label": "13.4",
            "method": "animate"
           },
           {
            "args": [
             [
              "30.3"
             ],
             {
              "frame": {
               "duration": 0,
               "redraw": true
              },
              "fromcurrent": true,
              "mode": "immediate",
              "transition": {
               "duration": 0,
               "easing": "linear"
              }
             }
            ],
            "label": "30.3",
            "method": "animate"
           },
           {
            "args": [
             [
              "38.4"
             ],
             {
              "frame": {
               "duration": 0,
               "redraw": true
              },
              "fromcurrent": true,
              "mode": "immediate",
              "transition": {
               "duration": 0,
               "easing": "linear"
              }
             }
            ],
            "label": "38.4",
            "method": "animate"
           },
           {
            "args": [
             [
              "7.2"
             ],
             {
              "frame": {
               "duration": 0,
               "redraw": true
              },
              "fromcurrent": true,
              "mode": "immediate",
              "transition": {
               "duration": 0,
               "easing": "linear"
              }
             }
            ],
            "label": "7.2",
            "method": "animate"
           },
           {
            "args": [
             [
              "7.5"
             ],
             {
              "frame": {
               "duration": 0,
               "redraw": true
              },
              "fromcurrent": true,
              "mode": "immediate",
              "transition": {
               "duration": 0,
               "easing": "linear"
              }
             }
            ],
            "label": "7.5",
            "method": "animate"
           },
           {
            "args": [
             [
              "0.5"
             ],
             {
              "frame": {
               "duration": 0,
               "redraw": true
              },
              "fromcurrent": true,
              "mode": "immediate",
              "transition": {
               "duration": 0,
               "easing": "linear"
              }
             }
            ],
            "label": "0.5",
            "method": "animate"
           },
           {
            "args": [
             [
              "0.3"
             ],
             {
              "frame": {
               "duration": 0,
               "redraw": true
              },
              "fromcurrent": true,
              "mode": "immediate",
              "transition": {
               "duration": 0,
               "easing": "linear"
              }
             }
            ],
            "label": "0.3",
            "method": "animate"
           },
           {
            "args": [
             [
              "1.0"
             ],
             {
              "frame": {
               "duration": 0,
               "redraw": true
              },
              "fromcurrent": true,
              "mode": "immediate",
              "transition": {
               "duration": 0,
               "easing": "linear"
              }
             }
            ],
            "label": "1.0",
            "method": "animate"
           },
           {
            "args": [
             [
              "3.4"
             ],
             {
              "frame": {
               "duration": 0,
               "redraw": true
              },
              "fromcurrent": true,
              "mode": "immediate",
              "transition": {
               "duration": 0,
               "easing": "linear"
              }
             }
            ],
            "label": "3.4",
            "method": "animate"
           },
           {
            "args": [
             [
              "28.1"
             ],
             {
              "frame": {
               "duration": 0,
               "redraw": true
              },
              "fromcurrent": true,
              "mode": "immediate",
              "transition": {
               "duration": 0,
               "easing": "linear"
              }
             }
            ],
            "label": "28.1",
            "method": "animate"
           },
           {
            "args": [
             [
              "15.9"
             ],
             {
              "frame": {
               "duration": 0,
               "redraw": true
              },
              "fromcurrent": true,
              "mode": "immediate",
              "transition": {
               "duration": 0,
               "easing": "linear"
              }
             }
            ],
            "label": "15.9",
            "method": "animate"
           },
           {
            "args": [
             [
              "30.8"
             ],
             {
              "frame": {
               "duration": 0,
               "redraw": true
              },
              "fromcurrent": true,
              "mode": "immediate",
              "transition": {
               "duration": 0,
               "easing": "linear"
              }
             }
            ],
            "label": "30.8",
            "method": "animate"
           },
           {
            "args": [
             [
              "37.1"
             ],
             {
              "frame": {
               "duration": 0,
               "redraw": true
              },
              "fromcurrent": true,
              "mode": "immediate",
              "transition": {
               "duration": 0,
               "easing": "linear"
              }
             }
            ],
            "label": "37.1",
            "method": "animate"
           },
           {
            "args": [
             [
              "9.4"
             ],
             {
              "frame": {
               "duration": 0,
               "redraw": true
              },
              "fromcurrent": true,
              "mode": "immediate",
              "transition": {
               "duration": 0,
               "easing": "linear"
              }
             }
            ],
            "label": "9.4",
            "method": "animate"
           },
           {
            "args": [
             [
              "4.9"
             ],
             {
              "frame": {
               "duration": 0,
               "redraw": true
              },
              "fromcurrent": true,
              "mode": "immediate",
              "transition": {
               "duration": 0,
               "easing": "linear"
              }
             }
            ],
            "label": "4.9",
            "method": "animate"
           },
           {
            "args": [
             [
              "1.2"
             ],
             {
              "frame": {
               "duration": 0,
               "redraw": true
              },
              "fromcurrent": true,
              "mode": "immediate",
              "transition": {
               "duration": 0,
               "easing": "linear"
              }
             }
            ],
            "label": "1.2",
            "method": "animate"
           },
           {
            "args": [
             [
              "56.5"
             ],
             {
              "frame": {
               "duration": 0,
               "redraw": true
              },
              "fromcurrent": true,
              "mode": "immediate",
              "transition": {
               "duration": 0,
               "easing": "linear"
              }
             }
            ],
            "label": "56.5",
            "method": "animate"
           },
           {
            "args": [
             [
              "0.7"
             ],
             {
              "frame": {
               "duration": 0,
               "redraw": true
              },
              "fromcurrent": true,
              "mode": "immediate",
              "transition": {
               "duration": 0,
               "easing": "linear"
              }
             }
            ],
            "label": "0.7",
            "method": "animate"
           },
           {
            "args": [
             [
              "21.2"
             ],
             {
              "frame": {
               "duration": 0,
               "redraw": true
              },
              "fromcurrent": true,
              "mode": "immediate",
              "transition": {
               "duration": 0,
               "easing": "linear"
              }
             }
            ],
            "label": "21.2",
            "method": "animate"
           },
           {
            "args": [
             [
              "67.1"
             ],
             {
              "frame": {
               "duration": 0,
               "redraw": true
              },
              "fromcurrent": true,
              "mode": "immediate",
              "transition": {
               "duration": 0,
               "easing": "linear"
              }
             }
            ],
            "label": "67.1",
            "method": "animate"
           },
           {
            "args": [
             [
              "74.7"
             ],
             {
              "frame": {
               "duration": 0,
               "redraw": true
              },
              "fromcurrent": true,
              "mode": "immediate",
              "transition": {
               "duration": 0,
               "easing": "linear"
              }
             }
            ],
            "label": "74.7",
            "method": "animate"
           },
           {
            "args": [
             [
              "34.3"
             ],
             {
              "frame": {
               "duration": 0,
               "redraw": true
              },
              "fromcurrent": true,
              "mode": "immediate",
              "transition": {
               "duration": 0,
               "easing": "linear"
              }
             }
            ],
            "label": "34.3",
            "method": "animate"
           },
           {
            "args": [
             [
              "0.8"
             ],
             {
              "frame": {
               "duration": 0,
               "redraw": true
              },
              "fromcurrent": true,
              "mode": "immediate",
              "transition": {
               "duration": 0,
               "easing": "linear"
              }
             }
            ],
            "label": "0.8",
            "method": "animate"
           },
           {
            "args": [
             [
              "75.6"
             ],
             {
              "frame": {
               "duration": 0,
               "redraw": true
              },
              "fromcurrent": true,
              "mode": "immediate",
              "transition": {
               "duration": 0,
               "easing": "linear"
              }
             }
            ],
            "label": "75.6",
            "method": "animate"
           },
           {
            "args": [
             [
              "0.1"
             ],
             {
              "frame": {
               "duration": 0,
               "redraw": true
              },
              "fromcurrent": true,
              "mode": "immediate",
              "transition": {
               "duration": 0,
               "easing": "linear"
              }
             }
            ],
            "label": "0.1",
            "method": "animate"
           },
           {
            "args": [
             [
              "78.8"
             ],
             {
              "frame": {
               "duration": 0,
               "redraw": true
              },
              "fromcurrent": true,
              "mode": "immediate",
              "transition": {
               "duration": 0,
               "easing": "linear"
              }
             }
            ],
            "label": "78.8",
            "method": "animate"
           },
           {
            "args": [
             [
              "89.8"
             ],
             {
              "frame": {
               "duration": 0,
               "redraw": true
              },
              "fromcurrent": true,
              "mode": "immediate",
              "transition": {
               "duration": 0,
               "easing": "linear"
              }
             }
            ],
            "label": "89.8",
            "method": "animate"
           },
           {
            "args": [
             [
              "60.7"
             ],
             {
              "frame": {
               "duration": 0,
               "redraw": true
              },
              "fromcurrent": true,
              "mode": "immediate",
              "transition": {
               "duration": 0,
               "easing": "linear"
              }
             }
            ],
            "label": "60.7",
            "method": "animate"
           },
           {
            "args": [
             [
              "67.8"
             ],
             {
              "frame": {
               "duration": 0,
               "redraw": true
              },
              "fromcurrent": true,
              "mode": "immediate",
              "transition": {
               "duration": 0,
               "easing": "linear"
              }
             }
            ],
            "label": "67.8",
            "method": "animate"
           },
           {
            "args": [
             [
              "6.5"
             ],
             {
              "frame": {
               "duration": 0,
               "redraw": true
              },
              "fromcurrent": true,
              "mode": "immediate",
              "transition": {
               "duration": 0,
               "easing": "linear"
              }
             }
            ],
            "label": "6.5",
            "method": "animate"
           },
           {
            "args": [
             [
              "116.2"
             ],
             {
              "frame": {
               "duration": 0,
               "redraw": true
              },
              "fromcurrent": true,
              "mode": "immediate",
              "transition": {
               "duration": 0,
               "easing": "linear"
              }
             }
            ],
            "label": "116.2",
            "method": "animate"
           },
           {
            "args": [
             [
              "40.2"
             ],
             {
              "frame": {
               "duration": 0,
               "redraw": true
              },
              "fromcurrent": true,
              "mode": "immediate",
              "transition": {
               "duration": 0,
               "easing": "linear"
              }
             }
            ],
            "label": "40.2",
            "method": "animate"
           },
           {
            "args": [
             [
              "0.2"
             ],
             {
              "frame": {
               "duration": 0,
               "redraw": true
              },
              "fromcurrent": true,
              "mode": "immediate",
              "transition": {
               "duration": 0,
               "easing": "linear"
              }
             }
            ],
            "label": "0.2",
            "method": "animate"
           },
           {
            "args": [
             [
              "34.2"
             ],
             {
              "frame": {
               "duration": 0,
               "redraw": true
              },
              "fromcurrent": true,
              "mode": "immediate",
              "transition": {
               "duration": 0,
               "easing": "linear"
              }
             }
            ],
            "label": "34.2",
            "method": "animate"
           },
           {
            "args": [
             [
              "32.6"
             ],
             {
              "frame": {
               "duration": 0,
               "redraw": true
              },
              "fromcurrent": true,
              "mode": "immediate",
              "transition": {
               "duration": 0,
               "easing": "linear"
              }
             }
            ],
            "label": "32.6",
            "method": "animate"
           },
           {
            "args": [
             [
              "18.4"
             ],
             {
              "frame": {
               "duration": 0,
               "redraw": true
              },
              "fromcurrent": true,
              "mode": "immediate",
              "transition": {
               "duration": 0,
               "easing": "linear"
              }
             }
            ],
            "label": "18.4",
            "method": "animate"
           },
           {
            "args": [
             [
              "3.0"
             ],
             {
              "frame": {
               "duration": 0,
               "redraw": true
              },
              "fromcurrent": true,
              "mode": "immediate",
              "transition": {
               "duration": 0,
               "easing": "linear"
              }
             }
            ],
            "label": "3.0",
            "method": "animate"
           },
           {
            "args": [
             [
              "11.9"
             ],
             {
              "frame": {
               "duration": 0,
               "redraw": true
              },
              "fromcurrent": true,
              "mode": "immediate",
              "transition": {
               "duration": 0,
               "easing": "linear"
              }
             }
            ],
            "label": "11.9",
            "method": "animate"
           },
           {
            "args": [
             [
              "66.9"
             ],
             {
              "frame": {
               "duration": 0,
               "redraw": true
              },
              "fromcurrent": true,
              "mode": "immediate",
              "transition": {
               "duration": 0,
               "easing": "linear"
              }
             }
            ],
            "label": "66.9",
            "method": "animate"
           },
           {
            "args": [
             [
              "62.4"
             ],
             {
              "frame": {
               "duration": 0,
               "redraw": true
              },
              "fromcurrent": true,
              "mode": "immediate",
              "transition": {
               "duration": 0,
               "easing": "linear"
              }
             }
            ],
            "label": "62.4",
            "method": "animate"
           },
           {
            "args": [
             [
              "57.8"
             ],
             {
              "frame": {
               "duration": 0,
               "redraw": true
              },
              "fromcurrent": true,
              "mode": "immediate",
              "transition": {
               "duration": 0,
               "easing": "linear"
              }
             }
            ],
            "label": "57.8",
            "method": "animate"
           },
           {
            "args": [
             [
              "30.2"
             ],
             {
              "frame": {
               "duration": 0,
               "redraw": true
              },
              "fromcurrent": true,
              "mode": "immediate",
              "transition": {
               "duration": 0,
               "easing": "linear"
              }
             }
            ],
            "label": "30.2",
            "method": "animate"
           },
           {
            "args": [
             [
              "0.4"
             ],
             {
              "frame": {
               "duration": 0,
               "redraw": true
              },
              "fromcurrent": true,
              "mode": "immediate",
              "transition": {
               "duration": 0,
               "easing": "linear"
              }
             }
            ],
            "label": "0.4",
            "method": "animate"
           },
           {
            "args": [
             [
              "14.1"
             ],
             {
              "frame": {
               "duration": 0,
               "redraw": true
              },
              "fromcurrent": true,
              "mode": "immediate",
              "transition": {
               "duration": 0,
               "easing": "linear"
              }
             }
            ],
            "label": "14.1",
            "method": "animate"
           },
           {
            "args": [
             [
              "56.9"
             ],
             {
              "frame": {
               "duration": 0,
               "redraw": true
              },
              "fromcurrent": true,
              "mode": "immediate",
              "transition": {
               "duration": 0,
               "easing": "linear"
              }
             }
            ],
            "label": "56.9",
            "method": "animate"
           },
           {
            "args": [
             [
              "65.8"
             ],
             {
              "frame": {
               "duration": 0,
               "redraw": true
              },
              "fromcurrent": true,
              "mode": "immediate",
              "transition": {
               "duration": 0,
               "easing": "linear"
              }
             }
            ],
            "label": "65.8",
            "method": "animate"
           },
           {
            "args": [
             [
              "73.5"
             ],
             {
              "frame": {
               "duration": 0,
               "redraw": true
              },
              "fromcurrent": true,
              "mode": "immediate",
              "transition": {
               "duration": 0,
               "easing": "linear"
              }
             }
            ],
            "label": "73.5",
            "method": "animate"
           },
           {
            "args": [
             [
              "28.4"
             ],
             {
              "frame": {
               "duration": 0,
               "redraw": true
              },
              "fromcurrent": true,
              "mode": "immediate",
              "transition": {
               "duration": 0,
               "easing": "linear"
              }
             }
            ],
            "label": "28.4",
            "method": "animate"
           }
          ],
          "x": 0.1,
          "xanchor": "left",
          "y": 0,
          "yanchor": "top"
         }
        ],
        "template": {
         "data": {
          "bar": [
           {
            "error_x": {
             "color": "#2a3f5f"
            },
            "error_y": {
             "color": "#2a3f5f"
            },
            "marker": {
             "line": {
              "color": "#E5ECF6",
              "width": 0.5
             },
             "pattern": {
              "fillmode": "overlay",
              "size": 10,
              "solidity": 0.2
             }
            },
            "type": "bar"
           }
          ],
          "barpolar": [
           {
            "marker": {
             "line": {
              "color": "#E5ECF6",
              "width": 0.5
             },
             "pattern": {
              "fillmode": "overlay",
              "size": 10,
              "solidity": 0.2
             }
            },
            "type": "barpolar"
           }
          ],
          "carpet": [
           {
            "aaxis": {
             "endlinecolor": "#2a3f5f",
             "gridcolor": "white",
             "linecolor": "white",
             "minorgridcolor": "white",
             "startlinecolor": "#2a3f5f"
            },
            "baxis": {
             "endlinecolor": "#2a3f5f",
             "gridcolor": "white",
             "linecolor": "white",
             "minorgridcolor": "white",
             "startlinecolor": "#2a3f5f"
            },
            "type": "carpet"
           }
          ],
          "choropleth": [
           {
            "colorbar": {
             "outlinewidth": 0,
             "ticks": ""
            },
            "type": "choropleth"
           }
          ],
          "contour": [
           {
            "colorbar": {
             "outlinewidth": 0,
             "ticks": ""
            },
            "colorscale": [
             [
              0,
              "#0d0887"
             ],
             [
              0.1111111111111111,
              "#46039f"
             ],
             [
              0.2222222222222222,
              "#7201a8"
             ],
             [
              0.3333333333333333,
              "#9c179e"
             ],
             [
              0.4444444444444444,
              "#bd3786"
             ],
             [
              0.5555555555555556,
              "#d8576b"
             ],
             [
              0.6666666666666666,
              "#ed7953"
             ],
             [
              0.7777777777777778,
              "#fb9f3a"
             ],
             [
              0.8888888888888888,
              "#fdca26"
             ],
             [
              1,
              "#f0f921"
             ]
            ],
            "type": "contour"
           }
          ],
          "contourcarpet": [
           {
            "colorbar": {
             "outlinewidth": 0,
             "ticks": ""
            },
            "type": "contourcarpet"
           }
          ],
          "heatmap": [
           {
            "colorbar": {
             "outlinewidth": 0,
             "ticks": ""
            },
            "colorscale": [
             [
              0,
              "#0d0887"
             ],
             [
              0.1111111111111111,
              "#46039f"
             ],
             [
              0.2222222222222222,
              "#7201a8"
             ],
             [
              0.3333333333333333,
              "#9c179e"
             ],
             [
              0.4444444444444444,
              "#bd3786"
             ],
             [
              0.5555555555555556,
              "#d8576b"
             ],
             [
              0.6666666666666666,
              "#ed7953"
             ],
             [
              0.7777777777777778,
              "#fb9f3a"
             ],
             [
              0.8888888888888888,
              "#fdca26"
             ],
             [
              1,
              "#f0f921"
             ]
            ],
            "type": "heatmap"
           }
          ],
          "heatmapgl": [
           {
            "colorbar": {
             "outlinewidth": 0,
             "ticks": ""
            },
            "colorscale": [
             [
              0,
              "#0d0887"
             ],
             [
              0.1111111111111111,
              "#46039f"
             ],
             [
              0.2222222222222222,
              "#7201a8"
             ],
             [
              0.3333333333333333,
              "#9c179e"
             ],
             [
              0.4444444444444444,
              "#bd3786"
             ],
             [
              0.5555555555555556,
              "#d8576b"
             ],
             [
              0.6666666666666666,
              "#ed7953"
             ],
             [
              0.7777777777777778,
              "#fb9f3a"
             ],
             [
              0.8888888888888888,
              "#fdca26"
             ],
             [
              1,
              "#f0f921"
             ]
            ],
            "type": "heatmapgl"
           }
          ],
          "histogram": [
           {
            "marker": {
             "pattern": {
              "fillmode": "overlay",
              "size": 10,
              "solidity": 0.2
             }
            },
            "type": "histogram"
           }
          ],
          "histogram2d": [
           {
            "colorbar": {
             "outlinewidth": 0,
             "ticks": ""
            },
            "colorscale": [
             [
              0,
              "#0d0887"
             ],
             [
              0.1111111111111111,
              "#46039f"
             ],
             [
              0.2222222222222222,
              "#7201a8"
             ],
             [
              0.3333333333333333,
              "#9c179e"
             ],
             [
              0.4444444444444444,
              "#bd3786"
             ],
             [
              0.5555555555555556,
              "#d8576b"
             ],
             [
              0.6666666666666666,
              "#ed7953"
             ],
             [
              0.7777777777777778,
              "#fb9f3a"
             ],
             [
              0.8888888888888888,
              "#fdca26"
             ],
             [
              1,
              "#f0f921"
             ]
            ],
            "type": "histogram2d"
           }
          ],
          "histogram2dcontour": [
           {
            "colorbar": {
             "outlinewidth": 0,
             "ticks": ""
            },
            "colorscale": [
             [
              0,
              "#0d0887"
             ],
             [
              0.1111111111111111,
              "#46039f"
             ],
             [
              0.2222222222222222,
              "#7201a8"
             ],
             [
              0.3333333333333333,
              "#9c179e"
             ],
             [
              0.4444444444444444,
              "#bd3786"
             ],
             [
              0.5555555555555556,
              "#d8576b"
             ],
             [
              0.6666666666666666,
              "#ed7953"
             ],
             [
              0.7777777777777778,
              "#fb9f3a"
             ],
             [
              0.8888888888888888,
              "#fdca26"
             ],
             [
              1,
              "#f0f921"
             ]
            ],
            "type": "histogram2dcontour"
           }
          ],
          "mesh3d": [
           {
            "colorbar": {
             "outlinewidth": 0,
             "ticks": ""
            },
            "type": "mesh3d"
           }
          ],
          "parcoords": [
           {
            "line": {
             "colorbar": {
              "outlinewidth": 0,
              "ticks": ""
             }
            },
            "type": "parcoords"
           }
          ],
          "pie": [
           {
            "automargin": true,
            "type": "pie"
           }
          ],
          "scatter": [
           {
            "marker": {
             "colorbar": {
              "outlinewidth": 0,
              "ticks": ""
             }
            },
            "type": "scatter"
           }
          ],
          "scatter3d": [
           {
            "line": {
             "colorbar": {
              "outlinewidth": 0,
              "ticks": ""
             }
            },
            "marker": {
             "colorbar": {
              "outlinewidth": 0,
              "ticks": ""
             }
            },
            "type": "scatter3d"
           }
          ],
          "scattercarpet": [
           {
            "marker": {
             "colorbar": {
              "outlinewidth": 0,
              "ticks": ""
             }
            },
            "type": "scattercarpet"
           }
          ],
          "scattergeo": [
           {
            "marker": {
             "colorbar": {
              "outlinewidth": 0,
              "ticks": ""
             }
            },
            "type": "scattergeo"
           }
          ],
          "scattergl": [
           {
            "marker": {
             "colorbar": {
              "outlinewidth": 0,
              "ticks": ""
             }
            },
            "type": "scattergl"
           }
          ],
          "scattermapbox": [
           {
            "marker": {
             "colorbar": {
              "outlinewidth": 0,
              "ticks": ""
             }
            },
            "type": "scattermapbox"
           }
          ],
          "scatterpolar": [
           {
            "marker": {
             "colorbar": {
              "outlinewidth": 0,
              "ticks": ""
             }
            },
            "type": "scatterpolar"
           }
          ],
          "scatterpolargl": [
           {
            "marker": {
             "colorbar": {
              "outlinewidth": 0,
              "ticks": ""
             }
            },
            "type": "scatterpolargl"
           }
          ],
          "scatterternary": [
           {
            "marker": {
             "colorbar": {
              "outlinewidth": 0,
              "ticks": ""
             }
            },
            "type": "scatterternary"
           }
          ],
          "surface": [
           {
            "colorbar": {
             "outlinewidth": 0,
             "ticks": ""
            },
            "colorscale": [
             [
              0,
              "#0d0887"
             ],
             [
              0.1111111111111111,
              "#46039f"
             ],
             [
              0.2222222222222222,
              "#7201a8"
             ],
             [
              0.3333333333333333,
              "#9c179e"
             ],
             [
              0.4444444444444444,
              "#bd3786"
             ],
             [
              0.5555555555555556,
              "#d8576b"
             ],
             [
              0.6666666666666666,
              "#ed7953"
             ],
             [
              0.7777777777777778,
              "#fb9f3a"
             ],
             [
              0.8888888888888888,
              "#fdca26"
             ],
             [
              1,
              "#f0f921"
             ]
            ],
            "type": "surface"
           }
          ],
          "table": [
           {
            "cells": {
             "fill": {
              "color": "#EBF0F8"
             },
             "line": {
              "color": "white"
             }
            },
            "header": {
             "fill": {
              "color": "#C8D4E3"
             },
             "line": {
              "color": "white"
             }
            },
            "type": "table"
           }
          ]
         },
         "layout": {
          "annotationdefaults": {
           "arrowcolor": "#2a3f5f",
           "arrowhead": 0,
           "arrowwidth": 1
          },
          "autotypenumbers": "strict",
          "coloraxis": {
           "colorbar": {
            "outlinewidth": 0,
            "ticks": ""
           }
          },
          "colorscale": {
           "diverging": [
            [
             0,
             "#8e0152"
            ],
            [
             0.1,
             "#c51b7d"
            ],
            [
             0.2,
             "#de77ae"
            ],
            [
             0.3,
             "#f1b6da"
            ],
            [
             0.4,
             "#fde0ef"
            ],
            [
             0.5,
             "#f7f7f7"
            ],
            [
             0.6,
             "#e6f5d0"
            ],
            [
             0.7,
             "#b8e186"
            ],
            [
             0.8,
             "#7fbc41"
            ],
            [
             0.9,
             "#4d9221"
            ],
            [
             1,
             "#276419"
            ]
           ],
           "sequential": [
            [
             0,
             "#0d0887"
            ],
            [
             0.1111111111111111,
             "#46039f"
            ],
            [
             0.2222222222222222,
             "#7201a8"
            ],
            [
             0.3333333333333333,
             "#9c179e"
            ],
            [
             0.4444444444444444,
             "#bd3786"
            ],
            [
             0.5555555555555556,
             "#d8576b"
            ],
            [
             0.6666666666666666,
             "#ed7953"
            ],
            [
             0.7777777777777778,
             "#fb9f3a"
            ],
            [
             0.8888888888888888,
             "#fdca26"
            ],
            [
             1,
             "#f0f921"
            ]
           ],
           "sequentialminus": [
            [
             0,
             "#0d0887"
            ],
            [
             0.1111111111111111,
             "#46039f"
            ],
            [
             0.2222222222222222,
             "#7201a8"
            ],
            [
             0.3333333333333333,
             "#9c179e"
            ],
            [
             0.4444444444444444,
             "#bd3786"
            ],
            [
             0.5555555555555556,
             "#d8576b"
            ],
            [
             0.6666666666666666,
             "#ed7953"
            ],
            [
             0.7777777777777778,
             "#fb9f3a"
            ],
            [
             0.8888888888888888,
             "#fdca26"
            ],
            [
             1,
             "#f0f921"
            ]
           ]
          },
          "colorway": [
           "#636efa",
           "#EF553B",
           "#00cc96",
           "#ab63fa",
           "#FFA15A",
           "#19d3f3",
           "#FF6692",
           "#B6E880",
           "#FF97FF",
           "#FECB52"
          ],
          "font": {
           "color": "#2a3f5f"
          },
          "geo": {
           "bgcolor": "white",
           "lakecolor": "white",
           "landcolor": "#E5ECF6",
           "showlakes": true,
           "showland": true,
           "subunitcolor": "white"
          },
          "hoverlabel": {
           "align": "left"
          },
          "hovermode": "closest",
          "mapbox": {
           "style": "light"
          },
          "paper_bgcolor": "white",
          "plot_bgcolor": "#E5ECF6",
          "polar": {
           "angularaxis": {
            "gridcolor": "white",
            "linecolor": "white",
            "ticks": ""
           },
           "bgcolor": "#E5ECF6",
           "radialaxis": {
            "gridcolor": "white",
            "linecolor": "white",
            "ticks": ""
           }
          },
          "scene": {
           "xaxis": {
            "backgroundcolor": "#E5ECF6",
            "gridcolor": "white",
            "gridwidth": 2,
            "linecolor": "white",
            "showbackground": true,
            "ticks": "",
            "zerolinecolor": "white"
           },
           "yaxis": {
            "backgroundcolor": "#E5ECF6",
            "gridcolor": "white",
            "gridwidth": 2,
            "linecolor": "white",
            "showbackground": true,
            "ticks": "",
            "zerolinecolor": "white"
           },
           "zaxis": {
            "backgroundcolor": "#E5ECF6",
            "gridcolor": "white",
            "gridwidth": 2,
            "linecolor": "white",
            "showbackground": true,
            "ticks": "",
            "zerolinecolor": "white"
           }
          },
          "shapedefaults": {
           "line": {
            "color": "#2a3f5f"
           }
          },
          "ternary": {
           "aaxis": {
            "gridcolor": "white",
            "linecolor": "white",
            "ticks": ""
           },
           "baxis": {
            "gridcolor": "white",
            "linecolor": "white",
            "ticks": ""
           },
           "bgcolor": "#E5ECF6",
           "caxis": {
            "gridcolor": "white",
            "linecolor": "white",
            "ticks": ""
           }
          },
          "title": {
           "x": 0.05
          },
          "xaxis": {
           "automargin": true,
           "gridcolor": "white",
           "linecolor": "white",
           "ticks": "",
           "title": {
            "standoff": 15
           },
           "zerolinecolor": "white",
           "zerolinewidth": 2
          },
          "yaxis": {
           "automargin": true,
           "gridcolor": "white",
           "linecolor": "white",
           "ticks": "",
           "title": {
            "standoff": 15
           },
           "zerolinecolor": "white",
           "zerolinewidth": 2
          }
         }
        },
        "title": {
         "font": {
          "size": 20
         },
         "text": "Percentage of population fully vaccinated"
        },
        "updatemenus": [
         {
          "buttons": [
           {
            "args": [
             null,
             {
              "frame": {
               "duration": 500,
               "redraw": true
              },
              "fromcurrent": true,
              "mode": "immediate",
              "transition": {
               "duration": 500,
               "easing": "linear"
              }
             }
            ],
            "label": "&#9654;",
            "method": "animate"
           },
           {
            "args": [
             [
              null
             ],
             {
              "frame": {
               "duration": 0,
               "redraw": true
              },
              "fromcurrent": true,
              "mode": "immediate",
              "transition": {
               "duration": 0,
               "easing": "linear"
              }
             }
            ],
            "label": "&#9724;",
            "method": "animate"
           }
          ],
          "direction": "left",
          "pad": {
           "r": 10,
           "t": 70
          },
          "showactive": false,
          "type": "buttons",
          "x": 0.1,
          "xanchor": "right",
          "y": 0,
          "yanchor": "top"
         }
        ]
       }
      },
      "text/html": [
       "<div>                            <div id=\"3cb14edd-f825-4b6b-89b0-9db11c0ed00b\" class=\"plotly-graph-div\" style=\"height:525px; width:100%;\"></div>            <script type=\"text/javascript\">                require([\"plotly\"], function(Plotly) {                    window.PLOTLYENV=window.PLOTLYENV || {};                                    if (document.getElementById(\"3cb14edd-f825-4b6b-89b0-9db11c0ed00b\")) {                    Plotly.newPlot(                        \"3cb14edd-f825-4b6b-89b0-9db11c0ed00b\",                        [{\"coloraxis\":\"coloraxis\",\"geo\":\"geo\",\"hovertemplate\":\"<b>%{hovertext}</b><br><br>Enough for % of people=35.595049504950495<br>location=%{location}<br>Percentage of population with 1+ dose=%{z}<extra></extra>\",\"hovertext\":[31.940609137055848,31.940609137055848,31.940609137055848,31.940609137055848,31.940609137055848],\"locations\":[\"Global Total\",\"Syria\",\"Jersey\",\"Guernsey\",\"Eritrea\"],\"name\":\"\",\"type\":\"choropleth\",\"z\":[39.666000000000004,39.666000000000004,39.666000000000004,39.666000000000004,39.666000000000004]}],                        {\"coloraxis\":{\"colorbar\":{\"title\":{\"text\":\"Percentage of population fully vaccinated\"}},\"colorscale\":[[0.0,\"rgb(165,0,38)\"],[0.1,\"rgb(215,48,39)\"],[0.2,\"rgb(244,109,67)\"],[0.3,\"rgb(253,174,97)\"],[0.4,\"rgb(254,224,139)\"],[0.5,\"rgb(255,255,191)\"],[0.6,\"rgb(217,239,139)\"],[0.7,\"rgb(166,217,106)\"],[0.8,\"rgb(102,189,99)\"],[0.9,\"rgb(26,152,80)\"],[1.0,\"rgb(0,104,55)\"]]},\"font\":{\"family\":\"Rockwell\"},\"geo\":{\"center\":{},\"domain\":{\"x\":[0.0,1.0],\"y\":[0.0,1.0]},\"scope\":\"world\"},\"legend\":{\"tracegroupgap\":0},\"margin\":{\"t\":60},\"sliders\":[{\"active\":0,\"currentvalue\":{\"prefix\":\"Enough for % of people=\"},\"len\":0.9,\"pad\":{\"b\":10,\"t\":60},\"steps\":[{\"args\":[[\"35.595049504950495\"],{\"frame\":{\"duration\":0,\"redraw\":true},\"fromcurrent\":true,\"mode\":\"immediate\",\"transition\":{\"duration\":0,\"easing\":\"linear\"}}],\"label\":\"35.595049504950495\",\"method\":\"animate\"},{\"args\":[[\"76.1\"],{\"frame\":{\"duration\":0,\"redraw\":true},\"fromcurrent\":true,\"mode\":\"immediate\",\"transition\":{\"duration\":0,\"easing\":\"linear\"}}],\"label\":\"76.1\",\"method\":\"animate\"},{\"args\":[[\"26.7\"],{\"frame\":{\"duration\":0,\"redraw\":true},\"fromcurrent\":true,\"mode\":\"immediate\",\"transition\":{\"duration\":0,\"easing\":\"linear\"}}],\"label\":\"26.7\",\"method\":\"animate\"},{\"args\":[[\"61.6\"],{\"frame\":{\"duration\":0,\"redraw\":true},\"fromcurrent\":true,\"mode\":\"immediate\",\"transition\":{\"duration\":0,\"easing\":\"linear\"}}],\"label\":\"61.6\",\"method\":\"animate\"},{\"args\":[[\"59.2\"],{\"frame\":{\"duration\":0,\"redraw\":true},\"fromcurrent\":true,\"mode\":\"immediate\",\"transition\":{\"duration\":0,\"easing\":\"linear\"}}],\"label\":\"59.2\",\"method\":\"animate\"},{\"args\":[[\"50.0\"],{\"frame\":{\"duration\":0,\"redraw\":true},\"fromcurrent\":true,\"mode\":\"immediate\",\"transition\":{\"duration\":0,\"easing\":\"linear\"}}],\"label\":\"50.0\",\"method\":\"animate\"},{\"args\":[[\"56.0\"],{\"frame\":{\"duration\":0,\"redraw\":true},\"fromcurrent\":true,\"mode\":\"immediate\",\"transition\":{\"duration\":0,\"easing\":\"linear\"}}],\"label\":\"56.0\",\"method\":\"animate\"},{\"args\":[[\"20.9\"],{\"frame\":{\"duration\":0,\"redraw\":true},\"fromcurrent\":true,\"mode\":\"immediate\",\"transition\":{\"duration\":0,\"easing\":\"linear\"}}],\"label\":\"20.9\",\"method\":\"animate\"},{\"args\":[[\"62.5\"],{\"frame\":{\"duration\":0,\"redraw\":true},\"fromcurrent\":true,\"mode\":\"immediate\",\"transition\":{\"duration\":0,\"easing\":\"linear\"}}],\"label\":\"62.5\",\"method\":\"animate\"},{\"args\":[[\"60.8\"],{\"frame\":{\"duration\":0,\"redraw\":true},\"fromcurrent\":true,\"mode\":\"immediate\",\"transition\":{\"duration\":0,\"easing\":\"linear\"}}],\"label\":\"60.8\",\"method\":\"animate\"},{\"args\":[[\"69.0\"],{\"frame\":{\"duration\":0,\"redraw\":true},\"fromcurrent\":true,\"mode\":\"immediate\",\"transition\":{\"duration\":0,\"easing\":\"linear\"}}],\"label\":\"69.0\",\"method\":\"animate\"},{\"args\":[[\"69.9\"],{\"frame\":{\"duration\":0,\"redraw\":true},\"fromcurrent\":true,\"mode\":\"immediate\",\"transition\":{\"duration\":0,\"easing\":\"linear\"}}],\"label\":\"69.9\",\"method\":\"animate\"},{\"args\":[[\"35.1\"],{\"frame\":{\"duration\":0,\"redraw\":true},\"fromcurrent\":true,\"mode\":\"immediate\",\"transition\":{\"duration\":0,\"easing\":\"linear\"}}],\"label\":\"35.1\",\"method\":\"animate\"},{\"args\":[[\"29.0\"],{\"frame\":{\"duration\":0,\"redraw\":true},\"fromcurrent\":true,\"mode\":\"immediate\",\"transition\":{\"duration\":0,\"easing\":\"linear\"}}],\"label\":\"29.0\",\"method\":\"animate\"},{\"args\":[[\"66.6\"],{\"frame\":{\"duration\":0,\"redraw\":true},\"fromcurrent\":true,\"mode\":\"immediate\",\"transition\":{\"duration\":0,\"easing\":\"linear\"}}],\"label\":\"66.6\",\"method\":\"animate\"},{\"args\":[[\"73.4\"],{\"frame\":{\"duration\":0,\"redraw\":true},\"fromcurrent\":true,\"mode\":\"immediate\",\"transition\":{\"duration\":0,\"easing\":\"linear\"}}],\"label\":\"73.4\",\"method\":\"animate\"},{\"args\":[[\"16.2\"],{\"frame\":{\"duration\":0,\"redraw\":true},\"fromcurrent\":true,\"mode\":\"immediate\",\"transition\":{\"duration\":0,\"easing\":\"linear\"}}],\"label\":\"16.2\",\"method\":\"animate\"},{\"args\":[[\"72.3\"],{\"frame\":{\"duration\":0,\"redraw\":true},\"fromcurrent\":true,\"mode\":\"immediate\",\"transition\":{\"duration\":0,\"easing\":\"linear\"}}],\"label\":\"72.3\",\"method\":\"animate\"},{\"args\":[[\"49.9\"],{\"frame\":{\"duration\":0,\"redraw\":true},\"fromcurrent\":true,\"mode\":\"immediate\",\"transition\":{\"duration\":0,\"easing\":\"linear\"}}],\"label\":\"49.9\",\"method\":\"animate\"},{\"args\":[[\"51.6\"],{\"frame\":{\"duration\":0,\"redraw\":true},\"fromcurrent\":true,\"mode\":\"immediate\",\"transition\":{\"duration\":0,\"easing\":\"linear\"}}],\"label\":\"51.6\",\"method\":\"animate\"},{\"args\":[[\"57.4\"],{\"frame\":{\"duration\":0,\"redraw\":true},\"fromcurrent\":true,\"mode\":\"immediate\",\"transition\":{\"duration\":0,\"easing\":\"linear\"}}],\"label\":\"57.4\",\"method\":\"animate\"},{\"args\":[[\"27.9\"],{\"frame\":{\"duration\":0,\"redraw\":true},\"fromcurrent\":true,\"mode\":\"immediate\",\"transition\":{\"duration\":0,\"easing\":\"linear\"}}],\"label\":\"27.9\",\"method\":\"animate\"},{\"args\":[[\"58.3\"],{\"frame\":{\"duration\":0,\"redraw\":true},\"fromcurrent\":true,\"mode\":\"immediate\",\"transition\":{\"duration\":0,\"easing\":\"linear\"}}],\"label\":\"58.3\",\"method\":\"animate\"},{\"args\":[[\"17.6\"],{\"frame\":{\"duration\":0,\"redraw\":true},\"fromcurrent\":true,\"mode\":\"immediate\",\"transition\":{\"duration\":0,\"easing\":\"linear\"}}],\"label\":\"17.6\",\"method\":\"animate\"},{\"args\":[[\"36.4\"],{\"frame\":{\"duration\":0,\"redraw\":true},\"fromcurrent\":true,\"mode\":\"immediate\",\"transition\":{\"duration\":0,\"easing\":\"linear\"}}],\"label\":\"36.4\",\"method\":\"animate\"},{\"args\":[[\"48.2\"],{\"frame\":{\"duration\":0,\"redraw\":true},\"fromcurrent\":true,\"mode\":\"immediate\",\"transition\":{\"duration\":0,\"easing\":\"linear\"}}],\"label\":\"48.2\",\"method\":\"animate\"},{\"args\":[[\"50.6\"],{\"frame\":{\"duration\":0,\"redraw\":true},\"fromcurrent\":true,\"mode\":\"immediate\",\"transition\":{\"duration\":0,\"easing\":\"linear\"}}],\"label\":\"50.6\",\"method\":\"animate\"},{\"args\":[[\"9.8\"],{\"frame\":{\"duration\":0,\"redraw\":true},\"fromcurrent\":true,\"mode\":\"immediate\",\"transition\":{\"duration\":0,\"easing\":\"linear\"}}],\"label\":\"9.8\",\"method\":\"animate\"},{\"args\":[[\"78.3\"],{\"frame\":{\"duration\":0,\"redraw\":true},\"fromcurrent\":true,\"mode\":\"immediate\",\"transition\":{\"duration\":0,\"easing\":\"linear\"}}],\"label\":\"78.3\",\"method\":\"animate\"},{\"args\":[[\"17.5\"],{\"frame\":{\"duration\":0,\"redraw\":true},\"fromcurrent\":true,\"mode\":\"immediate\",\"transition\":{\"duration\":0,\"easing\":\"linear\"}}],\"label\":\"17.5\",\"method\":\"animate\"},{\"args\":[[\"12.2\"],{\"frame\":{\"duration\":0,\"redraw\":true},\"fromcurrent\":true,\"mode\":\"immediate\",\"transition\":{\"duration\":0,\"easing\":\"linear\"}}],\"label\":\"12.2\",\"method\":\"animate\"},{\"args\":[[\"53.8\"],{\"frame\":{\"duration\":0,\"redraw\":true},\"fromcurrent\":true,\"mode\":\"immediate\",\"transition\":{\"duration\":0,\"easing\":\"linear\"}}],\"label\":\"53.8\",\"method\":\"animate\"},{\"args\":[[\"67.3\"],{\"frame\":{\"duration\":0,\"redraw\":true},\"fromcurrent\":true,\"mode\":\"immediate\",\"transition\":{\"duration\":0,\"easing\":\"linear\"}}],\"label\":\"67.3\",\"method\":\"animate\"},{\"args\":[[\"43.4\"],{\"frame\":{\"duration\":0,\"redraw\":true},\"fromcurrent\":true,\"mode\":\"immediate\",\"transition\":{\"duration\":0,\"easing\":\"linear\"}}],\"label\":\"43.4\",\"method\":\"animate\"},{\"args\":[[\"31.2\"],{\"frame\":{\"duration\":0,\"redraw\":true},\"fromcurrent\":true,\"mode\":\"immediate\",\"transition\":{\"duration\":0,\"easing\":\"linear\"}}],\"label\":\"31.2\",\"method\":\"animate\"},{\"args\":[[\"58.4\"],{\"frame\":{\"duration\":0,\"redraw\":true},\"fromcurrent\":true,\"mode\":\"immediate\",\"transition\":{\"duration\":0,\"easing\":\"linear\"}}],\"label\":\"58.4\",\"method\":\"animate\"},{\"args\":[[\"87.5\"],{\"frame\":{\"duration\":0,\"redraw\":true},\"fromcurrent\":true,\"mode\":\"immediate\",\"transition\":{\"duration\":0,\"easing\":\"linear\"}}],\"label\":\"87.5\",\"method\":\"animate\"},{\"args\":[[\"71.4\"],{\"frame\":{\"duration\":0,\"redraw\":true},\"fromcurrent\":true,\"mode\":\"immediate\",\"transition\":{\"duration\":0,\"easing\":\"linear\"}}],\"label\":\"71.4\",\"method\":\"animate\"},{\"args\":[[\"24.0\"],{\"frame\":{\"duration\":0,\"redraw\":true},\"fromcurrent\":true,\"mode\":\"immediate\",\"transition\":{\"duration\":0,\"easing\":\"linear\"}}],\"label\":\"24.0\",\"method\":\"animate\"},{\"args\":[[\"68.5\"],{\"frame\":{\"duration\":0,\"redraw\":true},\"fromcurrent\":true,\"mode\":\"immediate\",\"transition\":{\"duration\":0,\"easing\":\"linear\"}}],\"label\":\"68.5\",\"method\":\"animate\"},{\"args\":[[\"74.1\"],{\"frame\":{\"duration\":0,\"redraw\":true},\"fromcurrent\":true,\"mode\":\"immediate\",\"transition\":{\"duration\":0,\"easing\":\"linear\"}}],\"label\":\"74.1\",\"method\":\"animate\"},{\"args\":[[\"18.0\"],{\"frame\":{\"duration\":0,\"redraw\":true},\"fromcurrent\":true,\"mode\":\"immediate\",\"transition\":{\"duration\":0,\"easing\":\"linear\"}}],\"label\":\"18.0\",\"method\":\"animate\"},{\"args\":[[\"14.0\"],{\"frame\":{\"duration\":0,\"redraw\":true},\"fromcurrent\":true,\"mode\":\"immediate\",\"transition\":{\"duration\":0,\"easing\":\"linear\"}}],\"label\":\"14.0\",\"method\":\"animate\"},{\"args\":[[\"79.4\"],{\"frame\":{\"duration\":0,\"redraw\":true},\"fromcurrent\":true,\"mode\":\"immediate\",\"transition\":{\"duration\":0,\"easing\":\"linear\"}}],\"label\":\"79.4\",\"method\":\"animate\"},{\"args\":[[\"63.6\"],{\"frame\":{\"duration\":0,\"redraw\":true},\"fromcurrent\":true,\"mode\":\"immediate\",\"transition\":{\"duration\":0,\"easing\":\"linear\"}}],\"label\":\"63.6\",\"method\":\"animate\"},{\"args\":[[\"34.5\"],{\"frame\":{\"duration\":0,\"redraw\":true},\"fromcurrent\":true,\"mode\":\"immediate\",\"transition\":{\"duration\":0,\"easing\":\"linear\"}}],\"label\":\"34.5\",\"method\":\"animate\"},{\"args\":[[\"25.3\"],{\"frame\":{\"duration\":0,\"redraw\":true},\"fromcurrent\":true,\"mode\":\"immediate\",\"transition\":{\"duration\":0,\"easing\":\"linear\"}}],\"label\":\"25.3\",\"method\":\"animate\"},{\"args\":[[\"59.8\"],{\"frame\":{\"duration\":0,\"redraw\":true},\"fromcurrent\":true,\"mode\":\"immediate\",\"transition\":{\"duration\":0,\"easing\":\"linear\"}}],\"label\":\"59.8\",\"method\":\"animate\"},{\"args\":[[\"54.2\"],{\"frame\":{\"duration\":0,\"redraw\":true},\"fromcurrent\":true,\"mode\":\"immediate\",\"transition\":{\"duration\":0,\"easing\":\"linear\"}}],\"label\":\"54.2\",\"method\":\"animate\"},{\"args\":[[\"54.5\"],{\"frame\":{\"duration\":0,\"redraw\":true},\"fromcurrent\":true,\"mode\":\"immediate\",\"transition\":{\"duration\":0,\"easing\":\"linear\"}}],\"label\":\"54.5\",\"method\":\"animate\"},{\"args\":[[\"55.1\"],{\"frame\":{\"duration\":0,\"redraw\":true},\"fromcurrent\":true,\"mode\":\"immediate\",\"transition\":{\"duration\":0,\"easing\":\"linear\"}}],\"label\":\"55.1\",\"method\":\"animate\"},{\"args\":[[\"19.0\"],{\"frame\":{\"duration\":0,\"redraw\":true},\"fromcurrent\":true,\"mode\":\"immediate\",\"transition\":{\"duration\":0,\"easing\":\"linear\"}}],\"label\":\"19.0\",\"method\":\"animate\"},{\"args\":[[\"5.4\"],{\"frame\":{\"duration\":0,\"redraw\":true},\"fromcurrent\":true,\"mode\":\"immediate\",\"transition\":{\"duration\":0,\"easing\":\"linear\"}}],\"label\":\"5.4\",\"method\":\"animate\"},{\"args\":[[\"25.4\"],{\"frame\":{\"duration\":0,\"redraw\":true},\"fromcurrent\":true,\"mode\":\"immediate\",\"transition\":{\"duration\":0,\"easing\":\"linear\"}}],\"label\":\"25.4\",\"method\":\"animate\"},{\"args\":[[\"57.5\"],{\"frame\":{\"duration\":0,\"redraw\":true},\"fromcurrent\":true,\"mode\":\"immediate\",\"transition\":{\"duration\":0,\"easing\":\"linear\"}}],\"label\":\"57.5\",\"method\":\"animate\"},{\"args\":[[\"16.8\"],{\"frame\":{\"duration\":0,\"redraw\":true},\"fromcurrent\":true,\"mode\":\"immediate\",\"transition\":{\"duration\":0,\"easing\":\"linear\"}}],\"label\":\"16.8\",\"method\":\"animate\"},{\"args\":[[\"78.7\"],{\"frame\":{\"duration\":0,\"redraw\":true},\"fromcurrent\":true,\"mode\":\"immediate\",\"transition\":{\"duration\":0,\"easing\":\"linear\"}}],\"label\":\"78.7\",\"method\":\"animate\"},{\"args\":[[\"75.0\"],{\"frame\":{\"duration\":0,\"redraw\":true},\"fromcurrent\":true,\"mode\":\"immediate\",\"transition\":{\"duration\":0,\"easing\":\"linear\"}}],\"label\":\"75.0\",\"method\":\"animate\"},{\"args\":[[\"53.6\"],{\"frame\":{\"duration\":0,\"redraw\":true},\"fromcurrent\":true,\"mode\":\"immediate\",\"transition\":{\"duration\":0,\"easing\":\"linear\"}}],\"label\":\"53.6\",\"method\":\"animate\"},{\"args\":[[\"9.2\"],{\"frame\":{\"duration\":0,\"redraw\":true},\"fromcurrent\":true,\"mode\":\"immediate\",\"transition\":{\"duration\":0,\"easing\":\"linear\"}}],\"label\":\"9.2\",\"method\":\"animate\"},{\"args\":[[\"37.2\"],{\"frame\":{\"duration\":0,\"redraw\":true},\"fromcurrent\":true,\"mode\":\"immediate\",\"transition\":{\"duration\":0,\"easing\":\"linear\"}}],\"label\":\"37.2\",\"method\":\"animate\"},{\"args\":[[\"64.8\"],{\"frame\":{\"duration\":0,\"redraw\":true},\"fromcurrent\":true,\"mode\":\"immediate\",\"transition\":{\"duration\":0,\"easing\":\"linear\"}}],\"label\":\"64.8\",\"method\":\"animate\"},{\"args\":[[\"70.6\"],{\"frame\":{\"duration\":0,\"redraw\":true},\"fromcurrent\":true,\"mode\":\"immediate\",\"transition\":{\"duration\":0,\"easing\":\"linear\"}}],\"label\":\"70.6\",\"method\":\"animate\"},{\"args\":[[\"52.9\"],{\"frame\":{\"duration\":0,\"redraw\":true},\"fromcurrent\":true,\"mode\":\"immediate\",\"transition\":{\"duration\":0,\"easing\":\"linear\"}}],\"label\":\"52.9\",\"method\":\"animate\"},{\"args\":[[\"32.9\"],{\"frame\":{\"duration\":0,\"redraw\":true},\"fromcurrent\":true,\"mode\":\"immediate\",\"transition\":{\"duration\":0,\"easing\":\"linear\"}}],\"label\":\"32.9\",\"method\":\"animate\"},{\"args\":[[\"5.9\"],{\"frame\":{\"duration\":0,\"redraw\":true},\"fromcurrent\":true,\"mode\":\"immediate\",\"transition\":{\"duration\":0,\"easing\":\"linear\"}}],\"label\":\"5.9\",\"method\":\"animate\"},{\"args\":[[\"27.0\"],{\"frame\":{\"duration\":0,\"redraw\":true},\"fromcurrent\":true,\"mode\":\"immediate\",\"transition\":{\"duration\":0,\"easing\":\"linear\"}}],\"label\":\"27.0\",\"method\":\"animate\"},{\"args\":[[\"43.7\"],{\"frame\":{\"duration\":0,\"redraw\":true},\"fromcurrent\":true,\"mode\":\"immediate\",\"transition\":{\"duration\":0,\"easing\":\"linear\"}}],\"label\":\"43.7\",\"method\":\"animate\"},{\"args\":[[\"83.9\"],{\"frame\":{\"duration\":0,\"redraw\":true},\"fromcurrent\":true,\"mode\":\"immediate\",\"transition\":{\"duration\":0,\"easing\":\"linear\"}}],\"label\":\"83.9\",\"method\":\"animate\"},{\"args\":[[\"14.9\"],{\"frame\":{\"duration\":0,\"redraw\":true},\"fromcurrent\":true,\"mode\":\"immediate\",\"transition\":{\"duration\":0,\"easing\":\"linear\"}}],\"label\":\"14.9\",\"method\":\"animate\"},{\"args\":[[\"1.3\"],{\"frame\":{\"duration\":0,\"redraw\":true},\"fromcurrent\":true,\"mode\":\"immediate\",\"transition\":{\"duration\":0,\"easing\":\"linear\"}}],\"label\":\"1.3\",\"method\":\"animate\"},{\"args\":[[\"42.8\"],{\"frame\":{\"duration\":0,\"redraw\":true},\"fromcurrent\":true,\"mode\":\"immediate\",\"transition\":{\"duration\":0,\"easing\":\"linear\"}}],\"label\":\"42.8\",\"method\":\"animate\"},{\"args\":[[\"15.4\"],{\"frame\":{\"duration\":0,\"redraw\":true},\"fromcurrent\":true,\"mode\":\"immediate\",\"transition\":{\"duration\":0,\"easing\":\"linear\"}}],\"label\":\"15.4\",\"method\":\"animate\"},{\"args\":[[\"45.1\"],{\"frame\":{\"duration\":0,\"redraw\":true},\"fromcurrent\":true,\"mode\":\"immediate\",\"transition\":{\"duration\":0,\"easing\":\"linear\"}}],\"label\":\"45.1\",\"method\":\"animate\"},{\"args\":[[\"81.9\"],{\"frame\":{\"duration\":0,\"redraw\":true},\"fromcurrent\":true,\"mode\":\"immediate\",\"transition\":{\"duration\":0,\"easing\":\"linear\"}}],\"label\":\"81.9\",\"method\":\"animate\"},{\"args\":[[\"23.2\"],{\"frame\":{\"duration\":0,\"redraw\":true},\"fromcurrent\":true,\"mode\":\"immediate\",\"transition\":{\"duration\":0,\"easing\":\"linear\"}}],\"label\":\"23.2\",\"method\":\"animate\"},{\"args\":[[\"30.7\"],{\"frame\":{\"duration\":0,\"redraw\":true},\"fromcurrent\":true,\"mode\":\"immediate\",\"transition\":{\"duration\":0,\"easing\":\"linear\"}}],\"label\":\"30.7\",\"method\":\"animate\"},{\"args\":[[\"66.1\"],{\"frame\":{\"duration\":0,\"redraw\":true},\"fromcurrent\":true,\"mode\":\"immediate\",\"transition\":{\"duration\":0,\"easing\":\"linear\"}}],\"label\":\"66.1\",\"method\":\"animate\"},{\"args\":[[\"42.3\"],{\"frame\":{\"duration\":0,\"redraw\":true},\"fromcurrent\":true,\"mode\":\"immediate\",\"transition\":{\"duration\":0,\"easing\":\"linear\"}}],\"label\":\"42.3\",\"method\":\"animate\"},{\"args\":[[\"28.6\"],{\"frame\":{\"duration\":0,\"redraw\":true},\"fromcurrent\":true,\"mode\":\"immediate\",\"transition\":{\"duration\":0,\"easing\":\"linear\"}}],\"label\":\"28.6\",\"method\":\"animate\"},{\"args\":[[\"48.1\"],{\"frame\":{\"duration\":0,\"redraw\":true},\"fromcurrent\":true,\"mode\":\"immediate\",\"transition\":{\"duration\":0,\"easing\":\"linear\"}}],\"label\":\"48.1\",\"method\":\"animate\"},{\"args\":[[\"4.8\"],{\"frame\":{\"duration\":0,\"redraw\":true},\"fromcurrent\":true,\"mode\":\"immediate\",\"transition\":{\"duration\":0,\"easing\":\"linear\"}}],\"label\":\"4.8\",\"method\":\"animate\"},{\"args\":[[\"40.7\"],{\"frame\":{\"duration\":0,\"redraw\":true},\"fromcurrent\":true,\"mode\":\"immediate\",\"transition\":{\"duration\":0,\"easing\":\"linear\"}}],\"label\":\"40.7\",\"method\":\"animate\"},{\"args\":[[\"58.5\"],{\"frame\":{\"duration\":0,\"redraw\":true},\"fromcurrent\":true,\"mode\":\"immediate\",\"transition\":{\"duration\":0,\"easing\":\"linear\"}}],\"label\":\"58.5\",\"method\":\"animate\"},{\"args\":[[\"17.1\"],{\"frame\":{\"duration\":0,\"redraw\":true},\"fromcurrent\":true,\"mode\":\"immediate\",\"transition\":{\"duration\":0,\"easing\":\"linear\"}}],\"label\":\"17.1\",\"method\":\"animate\"},{\"args\":[[\"16.3\"],{\"frame\":{\"duration\":0,\"redraw\":true},\"fromcurrent\":true,\"mode\":\"immediate\",\"transition\":{\"duration\":0,\"easing\":\"linear\"}}],\"label\":\"16.3\",\"method\":\"animate\"},{\"args\":[[\"3.1\"],{\"frame\":{\"duration\":0,\"redraw\":true},\"fromcurrent\":true,\"mode\":\"immediate\",\"transition\":{\"duration\":0,\"easing\":\"linear\"}}],\"label\":\"3.1\",\"method\":\"animate\"},{\"args\":[[\"19.8\"],{\"frame\":{\"duration\":0,\"redraw\":true},\"fromcurrent\":true,\"mode\":\"immediate\",\"transition\":{\"duration\":0,\"easing\":\"linear\"}}],\"label\":\"19.8\",\"method\":\"animate\"},{\"args\":[[\"1.4\"],{\"frame\":{\"duration\":0,\"redraw\":true},\"fromcurrent\":true,\"mode\":\"immediate\",\"transition\":{\"duration\":0,\"easing\":\"linear\"}}],\"label\":\"1.4\",\"method\":\"animate\"},{\"args\":[[\"10.4\"],{\"frame\":{\"duration\":0,\"redraw\":true},\"fromcurrent\":true,\"mode\":\"immediate\",\"transition\":{\"duration\":0,\"easing\":\"linear\"}}],\"label\":\"10.4\",\"method\":\"animate\"},{\"args\":[[\"84.8\"],{\"frame\":{\"duration\":0,\"redraw\":true},\"fromcurrent\":true,\"mode\":\"immediate\",\"transition\":{\"duration\":0,\"easing\":\"linear\"}}],\"label\":\"84.8\",\"method\":\"animate\"},{\"args\":[[\"17.2\"],{\"frame\":{\"duration\":0,\"redraw\":true},\"fromcurrent\":true,\"mode\":\"immediate\",\"transition\":{\"duration\":0,\"easing\":\"linear\"}}],\"label\":\"17.2\",\"method\":\"animate\"},{\"args\":[[\"25.1\"],{\"frame\":{\"duration\":0,\"redraw\":true},\"fromcurrent\":true,\"mode\":\"immediate\",\"transition\":{\"duration\":0,\"easing\":\"linear\"}}],\"label\":\"25.1\",\"method\":\"animate\"},{\"args\":[[\"3.7\"],{\"frame\":{\"duration\":0,\"redraw\":true},\"fromcurrent\":true,\"mode\":\"immediate\",\"transition\":{\"duration\":0,\"easing\":\"linear\"}}],\"label\":\"3.7\",\"method\":\"animate\"},{\"args\":[[\"3.5\"],{\"frame\":{\"duration\":0,\"redraw\":true},\"fromcurrent\":true,\"mode\":\"immediate\",\"transition\":{\"duration\":0,\"easing\":\"linear\"}}],\"label\":\"3.5\",\"method\":\"animate\"},{\"args\":[[\"2.7\"],{\"frame\":{\"duration\":0,\"redraw\":true},\"fromcurrent\":true,\"mode\":\"immediate\",\"transition\":{\"duration\":0,\"easing\":\"linear\"}}],\"label\":\"2.7\",\"method\":\"animate\"},{\"args\":[[\"48.3\"],{\"frame\":{\"duration\":0,\"redraw\":true},\"fromcurrent\":true,\"mode\":\"immediate\",\"transition\":{\"duration\":0,\"easing\":\"linear\"}}],\"label\":\"48.3\",\"method\":\"animate\"},{\"args\":[[\"5.3\"],{\"frame\":{\"duration\":0,\"redraw\":true},\"fromcurrent\":true,\"mode\":\"immediate\",\"transition\":{\"duration\":0,\"easing\":\"linear\"}}],\"label\":\"5.3\",\"method\":\"animate\"},{\"args\":[[\"62.8\"],{\"frame\":{\"duration\":0,\"redraw\":true},\"fromcurrent\":true,\"mode\":\"immediate\",\"transition\":{\"duration\":0,\"easing\":\"linear\"}}],\"label\":\"62.8\",\"method\":\"animate\"},{\"args\":[[\"27.5\"],{\"frame\":{\"duration\":0,\"redraw\":true},\"fromcurrent\":true,\"mode\":\"immediate\",\"transition\":{\"duration\":0,\"easing\":\"linear\"}}],\"label\":\"27.5\",\"method\":\"animate\"},{\"args\":[[\"40.3\"],{\"frame\":{\"duration\":0,\"redraw\":true},\"fromcurrent\":true,\"mode\":\"immediate\",\"transition\":{\"duration\":0,\"easing\":\"linear\"}}],\"label\":\"40.3\",\"method\":\"animate\"},{\"args\":[[\"1.9\"],{\"frame\":{\"duration\":0,\"redraw\":true},\"fromcurrent\":true,\"mode\":\"immediate\",\"transition\":{\"duration\":0,\"easing\":\"linear\"}}],\"label\":\"1.9\",\"method\":\"animate\"},{\"args\":[[\"2.8\"],{\"frame\":{\"duration\":0,\"redraw\":true},\"fromcurrent\":true,\"mode\":\"immediate\",\"transition\":{\"duration\":0,\"easing\":\"linear\"}}],\"label\":\"2.8\",\"method\":\"animate\"},{\"args\":[[\"18.3\"],{\"frame\":{\"duration\":0,\"redraw\":true},\"fromcurrent\":true,\"mode\":\"immediate\",\"transition\":{\"duration\":0,\"easing\":\"linear\"}}],\"label\":\"18.3\",\"method\":\"animate\"},{\"args\":[[\"24.8\"],{\"frame\":{\"duration\":0,\"redraw\":true},\"fromcurrent\":true,\"mode\":\"immediate\",\"transition\":{\"duration\":0,\"easing\":\"linear\"}}],\"label\":\"24.8\",\"method\":\"animate\"},{\"args\":[[\"31.9\"],{\"frame\":{\"duration\":0,\"redraw\":true},\"fromcurrent\":true,\"mode\":\"immediate\",\"transition\":{\"duration\":0,\"easing\":\"linear\"}}],\"label\":\"31.9\",\"method\":\"animate\"},{\"args\":[[\"49.1\"],{\"frame\":{\"duration\":0,\"redraw\":true},\"fromcurrent\":true,\"mode\":\"immediate\",\"transition\":{\"duration\":0,\"easing\":\"linear\"}}],\"label\":\"49.1\",\"method\":\"animate\"},{\"args\":[[\"4.7\"],{\"frame\":{\"duration\":0,\"redraw\":true},\"fromcurrent\":true,\"mode\":\"immediate\",\"transition\":{\"duration\":0,\"easing\":\"linear\"}}],\"label\":\"4.7\",\"method\":\"animate\"},{\"args\":[[\"9.7\"],{\"frame\":{\"duration\":0,\"redraw\":true},\"fromcurrent\":true,\"mode\":\"immediate\",\"transition\":{\"duration\":0,\"easing\":\"linear\"}}],\"label\":\"9.7\",\"method\":\"animate\"},{\"args\":[[\"2.1\"],{\"frame\":{\"duration\":0,\"redraw\":true},\"fromcurrent\":true,\"mode\":\"immediate\",\"transition\":{\"duration\":0,\"easing\":\"linear\"}}],\"label\":\"2.1\",\"method\":\"animate\"},{\"args\":[[\"63.8\"],{\"frame\":{\"duration\":0,\"redraw\":true},\"fromcurrent\":true,\"mode\":\"immediate\",\"transition\":{\"duration\":0,\"easing\":\"linear\"}}],\"label\":\"63.8\",\"method\":\"animate\"},{\"args\":[[\"16.1\"],{\"frame\":{\"duration\":0,\"redraw\":true},\"fromcurrent\":true,\"mode\":\"immediate\",\"transition\":{\"duration\":0,\"easing\":\"linear\"}}],\"label\":\"16.1\",\"method\":\"animate\"},{\"args\":[[\"70.1\"],{\"frame\":{\"duration\":0,\"redraw\":true},\"fromcurrent\":true,\"mode\":\"immediate\",\"transition\":{\"duration\":0,\"easing\":\"linear\"}}],\"label\":\"70.1\",\"method\":\"animate\"},{\"args\":[[\"27.1\"],{\"frame\":{\"duration\":0,\"redraw\":true},\"fromcurrent\":true,\"mode\":\"immediate\",\"transition\":{\"duration\":0,\"easing\":\"linear\"}}],\"label\":\"27.1\",\"method\":\"animate\"},{\"args\":[[\"2.4\"],{\"frame\":{\"duration\":0,\"redraw\":true},\"fromcurrent\":true,\"mode\":\"immediate\",\"transition\":{\"duration\":0,\"easing\":\"linear\"}}],\"label\":\"2.4\",\"method\":\"animate\"},{\"args\":[[\"48.4\"],{\"frame\":{\"duration\":0,\"redraw\":true},\"fromcurrent\":true,\"mode\":\"immediate\",\"transition\":{\"duration\":0,\"easing\":\"linear\"}}],\"label\":\"48.4\",\"method\":\"animate\"},{\"args\":[[\"81.4\"],{\"frame\":{\"duration\":0,\"redraw\":true},\"fromcurrent\":true,\"mode\":\"immediate\",\"transition\":{\"duration\":0,\"easing\":\"linear\"}}],\"label\":\"81.4\",\"method\":\"animate\"},{\"args\":[[\"93.4\"],{\"frame\":{\"duration\":0,\"redraw\":true},\"fromcurrent\":true,\"mode\":\"immediate\",\"transition\":{\"duration\":0,\"easing\":\"linear\"}}],\"label\":\"93.4\",\"method\":\"animate\"},{\"args\":[[\"5.1\"],{\"frame\":{\"duration\":0,\"redraw\":true},\"fromcurrent\":true,\"mode\":\"immediate\",\"transition\":{\"duration\":0,\"easing\":\"linear\"}}],\"label\":\"5.1\",\"method\":\"animate\"},{\"args\":[[\"4.0\"],{\"frame\":{\"duration\":0,\"redraw\":true},\"fromcurrent\":true,\"mode\":\"immediate\",\"transition\":{\"duration\":0,\"easing\":\"linear\"}}],\"label\":\"4.0\",\"method\":\"animate\"},{\"args\":[[\"1.8\"],{\"frame\":{\"duration\":0,\"redraw\":true},\"fromcurrent\":true,\"mode\":\"immediate\",\"transition\":{\"duration\":0,\"easing\":\"linear\"}}],\"label\":\"1.8\",\"method\":\"animate\"},{\"args\":[[\"44.8\"],{\"frame\":{\"duration\":0,\"redraw\":true},\"fromcurrent\":true,\"mode\":\"immediate\",\"transition\":{\"duration\":0,\"easing\":\"linear\"}}],\"label\":\"44.8\",\"method\":\"animate\"},{\"args\":[[\"11.1\"],{\"frame\":{\"duration\":0,\"redraw\":true},\"fromcurrent\":true,\"mode\":\"immediate\",\"transition\":{\"duration\":0,\"easing\":\"linear\"}}],\"label\":\"11.1\",\"method\":\"animate\"},{\"args\":[[\"22.7\"],{\"frame\":{\"duration\":0,\"redraw\":true},\"fromcurrent\":true,\"mode\":\"immediate\",\"transition\":{\"duration\":0,\"easing\":\"linear\"}}],\"label\":\"22.7\",\"method\":\"animate\"},{\"args\":[[\"12.1\"],{\"frame\":{\"duration\":0,\"redraw\":true},\"fromcurrent\":true,\"mode\":\"immediate\",\"transition\":{\"duration\":0,\"easing\":\"linear\"}}],\"label\":\"12.1\",\"method\":\"animate\"},{\"args\":[[\"7.0\"],{\"frame\":{\"duration\":0,\"redraw\":true},\"fromcurrent\":true,\"mode\":\"immediate\",\"transition\":{\"duration\":0,\"easing\":\"linear\"}}],\"label\":\"7.0\",\"method\":\"animate\"},{\"args\":[[\"31.5\"],{\"frame\":{\"duration\":0,\"redraw\":true},\"fromcurrent\":true,\"mode\":\"immediate\",\"transition\":{\"duration\":0,\"easing\":\"linear\"}}],\"label\":\"31.5\",\"method\":\"animate\"},{\"args\":[[\"1.1\"],{\"frame\":{\"duration\":0,\"redraw\":true},\"fromcurrent\":true,\"mode\":\"immediate\",\"transition\":{\"duration\":0,\"easing\":\"linear\"}}],\"label\":\"1.1\",\"method\":\"animate\"},{\"args\":[[\"0.9\"],{\"frame\":{\"duration\":0,\"redraw\":true},\"fromcurrent\":true,\"mode\":\"immediate\",\"transition\":{\"duration\":0,\"easing\":\"linear\"}}],\"label\":\"0.9\",\"method\":\"animate\"},{\"args\":[[\"33.1\"],{\"frame\":{\"duration\":0,\"redraw\":true},\"fromcurrent\":true,\"mode\":\"immediate\",\"transition\":{\"duration\":0,\"easing\":\"linear\"}}],\"label\":\"33.1\",\"method\":\"animate\"},{\"args\":[[\"13.4\"],{\"frame\":{\"duration\":0,\"redraw\":true},\"fromcurrent\":true,\"mode\":\"immediate\",\"transition\":{\"duration\":0,\"easing\":\"linear\"}}],\"label\":\"13.4\",\"method\":\"animate\"},{\"args\":[[\"30.3\"],{\"frame\":{\"duration\":0,\"redraw\":true},\"fromcurrent\":true,\"mode\":\"immediate\",\"transition\":{\"duration\":0,\"easing\":\"linear\"}}],\"label\":\"30.3\",\"method\":\"animate\"},{\"args\":[[\"38.4\"],{\"frame\":{\"duration\":0,\"redraw\":true},\"fromcurrent\":true,\"mode\":\"immediate\",\"transition\":{\"duration\":0,\"easing\":\"linear\"}}],\"label\":\"38.4\",\"method\":\"animate\"},{\"args\":[[\"7.2\"],{\"frame\":{\"duration\":0,\"redraw\":true},\"fromcurrent\":true,\"mode\":\"immediate\",\"transition\":{\"duration\":0,\"easing\":\"linear\"}}],\"label\":\"7.2\",\"method\":\"animate\"},{\"args\":[[\"7.5\"],{\"frame\":{\"duration\":0,\"redraw\":true},\"fromcurrent\":true,\"mode\":\"immediate\",\"transition\":{\"duration\":0,\"easing\":\"linear\"}}],\"label\":\"7.5\",\"method\":\"animate\"},{\"args\":[[\"0.5\"],{\"frame\":{\"duration\":0,\"redraw\":true},\"fromcurrent\":true,\"mode\":\"immediate\",\"transition\":{\"duration\":0,\"easing\":\"linear\"}}],\"label\":\"0.5\",\"method\":\"animate\"},{\"args\":[[\"0.3\"],{\"frame\":{\"duration\":0,\"redraw\":true},\"fromcurrent\":true,\"mode\":\"immediate\",\"transition\":{\"duration\":0,\"easing\":\"linear\"}}],\"label\":\"0.3\",\"method\":\"animate\"},{\"args\":[[\"1.0\"],{\"frame\":{\"duration\":0,\"redraw\":true},\"fromcurrent\":true,\"mode\":\"immediate\",\"transition\":{\"duration\":0,\"easing\":\"linear\"}}],\"label\":\"1.0\",\"method\":\"animate\"},{\"args\":[[\"3.4\"],{\"frame\":{\"duration\":0,\"redraw\":true},\"fromcurrent\":true,\"mode\":\"immediate\",\"transition\":{\"duration\":0,\"easing\":\"linear\"}}],\"label\":\"3.4\",\"method\":\"animate\"},{\"args\":[[\"28.1\"],{\"frame\":{\"duration\":0,\"redraw\":true},\"fromcurrent\":true,\"mode\":\"immediate\",\"transition\":{\"duration\":0,\"easing\":\"linear\"}}],\"label\":\"28.1\",\"method\":\"animate\"},{\"args\":[[\"15.9\"],{\"frame\":{\"duration\":0,\"redraw\":true},\"fromcurrent\":true,\"mode\":\"immediate\",\"transition\":{\"duration\":0,\"easing\":\"linear\"}}],\"label\":\"15.9\",\"method\":\"animate\"},{\"args\":[[\"30.8\"],{\"frame\":{\"duration\":0,\"redraw\":true},\"fromcurrent\":true,\"mode\":\"immediate\",\"transition\":{\"duration\":0,\"easing\":\"linear\"}}],\"label\":\"30.8\",\"method\":\"animate\"},{\"args\":[[\"37.1\"],{\"frame\":{\"duration\":0,\"redraw\":true},\"fromcurrent\":true,\"mode\":\"immediate\",\"transition\":{\"duration\":0,\"easing\":\"linear\"}}],\"label\":\"37.1\",\"method\":\"animate\"},{\"args\":[[\"9.4\"],{\"frame\":{\"duration\":0,\"redraw\":true},\"fromcurrent\":true,\"mode\":\"immediate\",\"transition\":{\"duration\":0,\"easing\":\"linear\"}}],\"label\":\"9.4\",\"method\":\"animate\"},{\"args\":[[\"4.9\"],{\"frame\":{\"duration\":0,\"redraw\":true},\"fromcurrent\":true,\"mode\":\"immediate\",\"transition\":{\"duration\":0,\"easing\":\"linear\"}}],\"label\":\"4.9\",\"method\":\"animate\"},{\"args\":[[\"1.2\"],{\"frame\":{\"duration\":0,\"redraw\":true},\"fromcurrent\":true,\"mode\":\"immediate\",\"transition\":{\"duration\":0,\"easing\":\"linear\"}}],\"label\":\"1.2\",\"method\":\"animate\"},{\"args\":[[\"56.5\"],{\"frame\":{\"duration\":0,\"redraw\":true},\"fromcurrent\":true,\"mode\":\"immediate\",\"transition\":{\"duration\":0,\"easing\":\"linear\"}}],\"label\":\"56.5\",\"method\":\"animate\"},{\"args\":[[\"0.7\"],{\"frame\":{\"duration\":0,\"redraw\":true},\"fromcurrent\":true,\"mode\":\"immediate\",\"transition\":{\"duration\":0,\"easing\":\"linear\"}}],\"label\":\"0.7\",\"method\":\"animate\"},{\"args\":[[\"21.2\"],{\"frame\":{\"duration\":0,\"redraw\":true},\"fromcurrent\":true,\"mode\":\"immediate\",\"transition\":{\"duration\":0,\"easing\":\"linear\"}}],\"label\":\"21.2\",\"method\":\"animate\"},{\"args\":[[\"67.1\"],{\"frame\":{\"duration\":0,\"redraw\":true},\"fromcurrent\":true,\"mode\":\"immediate\",\"transition\":{\"duration\":0,\"easing\":\"linear\"}}],\"label\":\"67.1\",\"method\":\"animate\"},{\"args\":[[\"74.7\"],{\"frame\":{\"duration\":0,\"redraw\":true},\"fromcurrent\":true,\"mode\":\"immediate\",\"transition\":{\"duration\":0,\"easing\":\"linear\"}}],\"label\":\"74.7\",\"method\":\"animate\"},{\"args\":[[\"34.3\"],{\"frame\":{\"duration\":0,\"redraw\":true},\"fromcurrent\":true,\"mode\":\"immediate\",\"transition\":{\"duration\":0,\"easing\":\"linear\"}}],\"label\":\"34.3\",\"method\":\"animate\"},{\"args\":[[\"0.8\"],{\"frame\":{\"duration\":0,\"redraw\":true},\"fromcurrent\":true,\"mode\":\"immediate\",\"transition\":{\"duration\":0,\"easing\":\"linear\"}}],\"label\":\"0.8\",\"method\":\"animate\"},{\"args\":[[\"75.6\"],{\"frame\":{\"duration\":0,\"redraw\":true},\"fromcurrent\":true,\"mode\":\"immediate\",\"transition\":{\"duration\":0,\"easing\":\"linear\"}}],\"label\":\"75.6\",\"method\":\"animate\"},{\"args\":[[\"0.1\"],{\"frame\":{\"duration\":0,\"redraw\":true},\"fromcurrent\":true,\"mode\":\"immediate\",\"transition\":{\"duration\":0,\"easing\":\"linear\"}}],\"label\":\"0.1\",\"method\":\"animate\"},{\"args\":[[\"78.8\"],{\"frame\":{\"duration\":0,\"redraw\":true},\"fromcurrent\":true,\"mode\":\"immediate\",\"transition\":{\"duration\":0,\"easing\":\"linear\"}}],\"label\":\"78.8\",\"method\":\"animate\"},{\"args\":[[\"89.8\"],{\"frame\":{\"duration\":0,\"redraw\":true},\"fromcurrent\":true,\"mode\":\"immediate\",\"transition\":{\"duration\":0,\"easing\":\"linear\"}}],\"label\":\"89.8\",\"method\":\"animate\"},{\"args\":[[\"60.7\"],{\"frame\":{\"duration\":0,\"redraw\":true},\"fromcurrent\":true,\"mode\":\"immediate\",\"transition\":{\"duration\":0,\"easing\":\"linear\"}}],\"label\":\"60.7\",\"method\":\"animate\"},{\"args\":[[\"67.8\"],{\"frame\":{\"duration\":0,\"redraw\":true},\"fromcurrent\":true,\"mode\":\"immediate\",\"transition\":{\"duration\":0,\"easing\":\"linear\"}}],\"label\":\"67.8\",\"method\":\"animate\"},{\"args\":[[\"6.5\"],{\"frame\":{\"duration\":0,\"redraw\":true},\"fromcurrent\":true,\"mode\":\"immediate\",\"transition\":{\"duration\":0,\"easing\":\"linear\"}}],\"label\":\"6.5\",\"method\":\"animate\"},{\"args\":[[\"116.2\"],{\"frame\":{\"duration\":0,\"redraw\":true},\"fromcurrent\":true,\"mode\":\"immediate\",\"transition\":{\"duration\":0,\"easing\":\"linear\"}}],\"label\":\"116.2\",\"method\":\"animate\"},{\"args\":[[\"40.2\"],{\"frame\":{\"duration\":0,\"redraw\":true},\"fromcurrent\":true,\"mode\":\"immediate\",\"transition\":{\"duration\":0,\"easing\":\"linear\"}}],\"label\":\"40.2\",\"method\":\"animate\"},{\"args\":[[\"0.2\"],{\"frame\":{\"duration\":0,\"redraw\":true},\"fromcurrent\":true,\"mode\":\"immediate\",\"transition\":{\"duration\":0,\"easing\":\"linear\"}}],\"label\":\"0.2\",\"method\":\"animate\"},{\"args\":[[\"34.2\"],{\"frame\":{\"duration\":0,\"redraw\":true},\"fromcurrent\":true,\"mode\":\"immediate\",\"transition\":{\"duration\":0,\"easing\":\"linear\"}}],\"label\":\"34.2\",\"method\":\"animate\"},{\"args\":[[\"32.6\"],{\"frame\":{\"duration\":0,\"redraw\":true},\"fromcurrent\":true,\"mode\":\"immediate\",\"transition\":{\"duration\":0,\"easing\":\"linear\"}}],\"label\":\"32.6\",\"method\":\"animate\"},{\"args\":[[\"18.4\"],{\"frame\":{\"duration\":0,\"redraw\":true},\"fromcurrent\":true,\"mode\":\"immediate\",\"transition\":{\"duration\":0,\"easing\":\"linear\"}}],\"label\":\"18.4\",\"method\":\"animate\"},{\"args\":[[\"3.0\"],{\"frame\":{\"duration\":0,\"redraw\":true},\"fromcurrent\":true,\"mode\":\"immediate\",\"transition\":{\"duration\":0,\"easing\":\"linear\"}}],\"label\":\"3.0\",\"method\":\"animate\"},{\"args\":[[\"11.9\"],{\"frame\":{\"duration\":0,\"redraw\":true},\"fromcurrent\":true,\"mode\":\"immediate\",\"transition\":{\"duration\":0,\"easing\":\"linear\"}}],\"label\":\"11.9\",\"method\":\"animate\"},{\"args\":[[\"66.9\"],{\"frame\":{\"duration\":0,\"redraw\":true},\"fromcurrent\":true,\"mode\":\"immediate\",\"transition\":{\"duration\":0,\"easing\":\"linear\"}}],\"label\":\"66.9\",\"method\":\"animate\"},{\"args\":[[\"62.4\"],{\"frame\":{\"duration\":0,\"redraw\":true},\"fromcurrent\":true,\"mode\":\"immediate\",\"transition\":{\"duration\":0,\"easing\":\"linear\"}}],\"label\":\"62.4\",\"method\":\"animate\"},{\"args\":[[\"57.8\"],{\"frame\":{\"duration\":0,\"redraw\":true},\"fromcurrent\":true,\"mode\":\"immediate\",\"transition\":{\"duration\":0,\"easing\":\"linear\"}}],\"label\":\"57.8\",\"method\":\"animate\"},{\"args\":[[\"30.2\"],{\"frame\":{\"duration\":0,\"redraw\":true},\"fromcurrent\":true,\"mode\":\"immediate\",\"transition\":{\"duration\":0,\"easing\":\"linear\"}}],\"label\":\"30.2\",\"method\":\"animate\"},{\"args\":[[\"0.4\"],{\"frame\":{\"duration\":0,\"redraw\":true},\"fromcurrent\":true,\"mode\":\"immediate\",\"transition\":{\"duration\":0,\"easing\":\"linear\"}}],\"label\":\"0.4\",\"method\":\"animate\"},{\"args\":[[\"14.1\"],{\"frame\":{\"duration\":0,\"redraw\":true},\"fromcurrent\":true,\"mode\":\"immediate\",\"transition\":{\"duration\":0,\"easing\":\"linear\"}}],\"label\":\"14.1\",\"method\":\"animate\"},{\"args\":[[\"56.9\"],{\"frame\":{\"duration\":0,\"redraw\":true},\"fromcurrent\":true,\"mode\":\"immediate\",\"transition\":{\"duration\":0,\"easing\":\"linear\"}}],\"label\":\"56.9\",\"method\":\"animate\"},{\"args\":[[\"65.8\"],{\"frame\":{\"duration\":0,\"redraw\":true},\"fromcurrent\":true,\"mode\":\"immediate\",\"transition\":{\"duration\":0,\"easing\":\"linear\"}}],\"label\":\"65.8\",\"method\":\"animate\"},{\"args\":[[\"73.5\"],{\"frame\":{\"duration\":0,\"redraw\":true},\"fromcurrent\":true,\"mode\":\"immediate\",\"transition\":{\"duration\":0,\"easing\":\"linear\"}}],\"label\":\"73.5\",\"method\":\"animate\"},{\"args\":[[\"28.4\"],{\"frame\":{\"duration\":0,\"redraw\":true},\"fromcurrent\":true,\"mode\":\"immediate\",\"transition\":{\"duration\":0,\"easing\":\"linear\"}}],\"label\":\"28.4\",\"method\":\"animate\"}],\"x\":0.1,\"xanchor\":\"left\",\"y\":0,\"yanchor\":\"top\"}],\"template\":{\"data\":{\"bar\":[{\"error_x\":{\"color\":\"#2a3f5f\"},\"error_y\":{\"color\":\"#2a3f5f\"},\"marker\":{\"line\":{\"color\":\"#E5ECF6\",\"width\":0.5},\"pattern\":{\"fillmode\":\"overlay\",\"size\":10,\"solidity\":0.2}},\"type\":\"bar\"}],\"barpolar\":[{\"marker\":{\"line\":{\"color\":\"#E5ECF6\",\"width\":0.5},\"pattern\":{\"fillmode\":\"overlay\",\"size\":10,\"solidity\":0.2}},\"type\":\"barpolar\"}],\"carpet\":[{\"aaxis\":{\"endlinecolor\":\"#2a3f5f\",\"gridcolor\":\"white\",\"linecolor\":\"white\",\"minorgridcolor\":\"white\",\"startlinecolor\":\"#2a3f5f\"},\"baxis\":{\"endlinecolor\":\"#2a3f5f\",\"gridcolor\":\"white\",\"linecolor\":\"white\",\"minorgridcolor\":\"white\",\"startlinecolor\":\"#2a3f5f\"},\"type\":\"carpet\"}],\"choropleth\":[{\"colorbar\":{\"outlinewidth\":0,\"ticks\":\"\"},\"type\":\"choropleth\"}],\"contour\":[{\"colorbar\":{\"outlinewidth\":0,\"ticks\":\"\"},\"colorscale\":[[0.0,\"#0d0887\"],[0.1111111111111111,\"#46039f\"],[0.2222222222222222,\"#7201a8\"],[0.3333333333333333,\"#9c179e\"],[0.4444444444444444,\"#bd3786\"],[0.5555555555555556,\"#d8576b\"],[0.6666666666666666,\"#ed7953\"],[0.7777777777777778,\"#fb9f3a\"],[0.8888888888888888,\"#fdca26\"],[1.0,\"#f0f921\"]],\"type\":\"contour\"}],\"contourcarpet\":[{\"colorbar\":{\"outlinewidth\":0,\"ticks\":\"\"},\"type\":\"contourcarpet\"}],\"heatmap\":[{\"colorbar\":{\"outlinewidth\":0,\"ticks\":\"\"},\"colorscale\":[[0.0,\"#0d0887\"],[0.1111111111111111,\"#46039f\"],[0.2222222222222222,\"#7201a8\"],[0.3333333333333333,\"#9c179e\"],[0.4444444444444444,\"#bd3786\"],[0.5555555555555556,\"#d8576b\"],[0.6666666666666666,\"#ed7953\"],[0.7777777777777778,\"#fb9f3a\"],[0.8888888888888888,\"#fdca26\"],[1.0,\"#f0f921\"]],\"type\":\"heatmap\"}],\"heatmapgl\":[{\"colorbar\":{\"outlinewidth\":0,\"ticks\":\"\"},\"colorscale\":[[0.0,\"#0d0887\"],[0.1111111111111111,\"#46039f\"],[0.2222222222222222,\"#7201a8\"],[0.3333333333333333,\"#9c179e\"],[0.4444444444444444,\"#bd3786\"],[0.5555555555555556,\"#d8576b\"],[0.6666666666666666,\"#ed7953\"],[0.7777777777777778,\"#fb9f3a\"],[0.8888888888888888,\"#fdca26\"],[1.0,\"#f0f921\"]],\"type\":\"heatmapgl\"}],\"histogram\":[{\"marker\":{\"pattern\":{\"fillmode\":\"overlay\",\"size\":10,\"solidity\":0.2}},\"type\":\"histogram\"}],\"histogram2d\":[{\"colorbar\":{\"outlinewidth\":0,\"ticks\":\"\"},\"colorscale\":[[0.0,\"#0d0887\"],[0.1111111111111111,\"#46039f\"],[0.2222222222222222,\"#7201a8\"],[0.3333333333333333,\"#9c179e\"],[0.4444444444444444,\"#bd3786\"],[0.5555555555555556,\"#d8576b\"],[0.6666666666666666,\"#ed7953\"],[0.7777777777777778,\"#fb9f3a\"],[0.8888888888888888,\"#fdca26\"],[1.0,\"#f0f921\"]],\"type\":\"histogram2d\"}],\"histogram2dcontour\":[{\"colorbar\":{\"outlinewidth\":0,\"ticks\":\"\"},\"colorscale\":[[0.0,\"#0d0887\"],[0.1111111111111111,\"#46039f\"],[0.2222222222222222,\"#7201a8\"],[0.3333333333333333,\"#9c179e\"],[0.4444444444444444,\"#bd3786\"],[0.5555555555555556,\"#d8576b\"],[0.6666666666666666,\"#ed7953\"],[0.7777777777777778,\"#fb9f3a\"],[0.8888888888888888,\"#fdca26\"],[1.0,\"#f0f921\"]],\"type\":\"histogram2dcontour\"}],\"mesh3d\":[{\"colorbar\":{\"outlinewidth\":0,\"ticks\":\"\"},\"type\":\"mesh3d\"}],\"parcoords\":[{\"line\":{\"colorbar\":{\"outlinewidth\":0,\"ticks\":\"\"}},\"type\":\"parcoords\"}],\"pie\":[{\"automargin\":true,\"type\":\"pie\"}],\"scatter\":[{\"marker\":{\"colorbar\":{\"outlinewidth\":0,\"ticks\":\"\"}},\"type\":\"scatter\"}],\"scatter3d\":[{\"line\":{\"colorbar\":{\"outlinewidth\":0,\"ticks\":\"\"}},\"marker\":{\"colorbar\":{\"outlinewidth\":0,\"ticks\":\"\"}},\"type\":\"scatter3d\"}],\"scattercarpet\":[{\"marker\":{\"colorbar\":{\"outlinewidth\":0,\"ticks\":\"\"}},\"type\":\"scattercarpet\"}],\"scattergeo\":[{\"marker\":{\"colorbar\":{\"outlinewidth\":0,\"ticks\":\"\"}},\"type\":\"scattergeo\"}],\"scattergl\":[{\"marker\":{\"colorbar\":{\"outlinewidth\":0,\"ticks\":\"\"}},\"type\":\"scattergl\"}],\"scattermapbox\":[{\"marker\":{\"colorbar\":{\"outlinewidth\":0,\"ticks\":\"\"}},\"type\":\"scattermapbox\"}],\"scatterpolar\":[{\"marker\":{\"colorbar\":{\"outlinewidth\":0,\"ticks\":\"\"}},\"type\":\"scatterpolar\"}],\"scatterpolargl\":[{\"marker\":{\"colorbar\":{\"outlinewidth\":0,\"ticks\":\"\"}},\"type\":\"scatterpolargl\"}],\"scatterternary\":[{\"marker\":{\"colorbar\":{\"outlinewidth\":0,\"ticks\":\"\"}},\"type\":\"scatterternary\"}],\"surface\":[{\"colorbar\":{\"outlinewidth\":0,\"ticks\":\"\"},\"colorscale\":[[0.0,\"#0d0887\"],[0.1111111111111111,\"#46039f\"],[0.2222222222222222,\"#7201a8\"],[0.3333333333333333,\"#9c179e\"],[0.4444444444444444,\"#bd3786\"],[0.5555555555555556,\"#d8576b\"],[0.6666666666666666,\"#ed7953\"],[0.7777777777777778,\"#fb9f3a\"],[0.8888888888888888,\"#fdca26\"],[1.0,\"#f0f921\"]],\"type\":\"surface\"}],\"table\":[{\"cells\":{\"fill\":{\"color\":\"#EBF0F8\"},\"line\":{\"color\":\"white\"}},\"header\":{\"fill\":{\"color\":\"#C8D4E3\"},\"line\":{\"color\":\"white\"}},\"type\":\"table\"}]},\"layout\":{\"annotationdefaults\":{\"arrowcolor\":\"#2a3f5f\",\"arrowhead\":0,\"arrowwidth\":1},\"autotypenumbers\":\"strict\",\"coloraxis\":{\"colorbar\":{\"outlinewidth\":0,\"ticks\":\"\"}},\"colorscale\":{\"diverging\":[[0,\"#8e0152\"],[0.1,\"#c51b7d\"],[0.2,\"#de77ae\"],[0.3,\"#f1b6da\"],[0.4,\"#fde0ef\"],[0.5,\"#f7f7f7\"],[0.6,\"#e6f5d0\"],[0.7,\"#b8e186\"],[0.8,\"#7fbc41\"],[0.9,\"#4d9221\"],[1,\"#276419\"]],\"sequential\":[[0.0,\"#0d0887\"],[0.1111111111111111,\"#46039f\"],[0.2222222222222222,\"#7201a8\"],[0.3333333333333333,\"#9c179e\"],[0.4444444444444444,\"#bd3786\"],[0.5555555555555556,\"#d8576b\"],[0.6666666666666666,\"#ed7953\"],[0.7777777777777778,\"#fb9f3a\"],[0.8888888888888888,\"#fdca26\"],[1.0,\"#f0f921\"]],\"sequentialminus\":[[0.0,\"#0d0887\"],[0.1111111111111111,\"#46039f\"],[0.2222222222222222,\"#7201a8\"],[0.3333333333333333,\"#9c179e\"],[0.4444444444444444,\"#bd3786\"],[0.5555555555555556,\"#d8576b\"],[0.6666666666666666,\"#ed7953\"],[0.7777777777777778,\"#fb9f3a\"],[0.8888888888888888,\"#fdca26\"],[1.0,\"#f0f921\"]]},\"colorway\":[\"#636efa\",\"#EF553B\",\"#00cc96\",\"#ab63fa\",\"#FFA15A\",\"#19d3f3\",\"#FF6692\",\"#B6E880\",\"#FF97FF\",\"#FECB52\"],\"font\":{\"color\":\"#2a3f5f\"},\"geo\":{\"bgcolor\":\"white\",\"lakecolor\":\"white\",\"landcolor\":\"#E5ECF6\",\"showlakes\":true,\"showland\":true,\"subunitcolor\":\"white\"},\"hoverlabel\":{\"align\":\"left\"},\"hovermode\":\"closest\",\"mapbox\":{\"style\":\"light\"},\"paper_bgcolor\":\"white\",\"plot_bgcolor\":\"#E5ECF6\",\"polar\":{\"angularaxis\":{\"gridcolor\":\"white\",\"linecolor\":\"white\",\"ticks\":\"\"},\"bgcolor\":\"#E5ECF6\",\"radialaxis\":{\"gridcolor\":\"white\",\"linecolor\":\"white\",\"ticks\":\"\"}},\"scene\":{\"xaxis\":{\"backgroundcolor\":\"#E5ECF6\",\"gridcolor\":\"white\",\"gridwidth\":2,\"linecolor\":\"white\",\"showbackground\":true,\"ticks\":\"\",\"zerolinecolor\":\"white\"},\"yaxis\":{\"backgroundcolor\":\"#E5ECF6\",\"gridcolor\":\"white\",\"gridwidth\":2,\"linecolor\":\"white\",\"showbackground\":true,\"ticks\":\"\",\"zerolinecolor\":\"white\"},\"zaxis\":{\"backgroundcolor\":\"#E5ECF6\",\"gridcolor\":\"white\",\"gridwidth\":2,\"linecolor\":\"white\",\"showbackground\":true,\"ticks\":\"\",\"zerolinecolor\":\"white\"}},\"shapedefaults\":{\"line\":{\"color\":\"#2a3f5f\"}},\"ternary\":{\"aaxis\":{\"gridcolor\":\"white\",\"linecolor\":\"white\",\"ticks\":\"\"},\"baxis\":{\"gridcolor\":\"white\",\"linecolor\":\"white\",\"ticks\":\"\"},\"bgcolor\":\"#E5ECF6\",\"caxis\":{\"gridcolor\":\"white\",\"linecolor\":\"white\",\"ticks\":\"\"}},\"title\":{\"x\":0.05},\"xaxis\":{\"automargin\":true,\"gridcolor\":\"white\",\"linecolor\":\"white\",\"ticks\":\"\",\"title\":{\"standoff\":15},\"zerolinecolor\":\"white\",\"zerolinewidth\":2},\"yaxis\":{\"automargin\":true,\"gridcolor\":\"white\",\"linecolor\":\"white\",\"ticks\":\"\",\"title\":{\"standoff\":15},\"zerolinecolor\":\"white\",\"zerolinewidth\":2}}},\"title\":{\"font\":{\"size\":20},\"text\":\"Percentage of population fully vaccinated\"},\"updatemenus\":[{\"buttons\":[{\"args\":[null,{\"frame\":{\"duration\":500,\"redraw\":true},\"fromcurrent\":true,\"mode\":\"immediate\",\"transition\":{\"duration\":500,\"easing\":\"linear\"}}],\"label\":\"&#9654;\",\"method\":\"animate\"},{\"args\":[[null],{\"frame\":{\"duration\":0,\"redraw\":true},\"fromcurrent\":true,\"mode\":\"immediate\",\"transition\":{\"duration\":0,\"easing\":\"linear\"}}],\"label\":\"&#9724;\",\"method\":\"animate\"}],\"direction\":\"left\",\"pad\":{\"r\":10,\"t\":70},\"showactive\":false,\"type\":\"buttons\",\"x\":0.1,\"xanchor\":\"right\",\"y\":0,\"yanchor\":\"top\"}]},                        {\"responsive\": true}                    ).then(function(){\n",
       "                            Plotly.addFrames('3cb14edd-f825-4b6b-89b0-9db11c0ed00b', [{\"data\":[{\"coloraxis\":\"coloraxis\",\"geo\":\"geo\",\"hovertemplate\":\"<b>%{hovertext}</b><br><br>Enough for % of people=35.595049504950495<br>location=%{location}<br>Percentage of population with 1+ dose=%{z}<extra></extra>\",\"hovertext\":[31.940609137055848,31.940609137055848,31.940609137055848,31.940609137055848,31.940609137055848],\"locations\":[\"Global Total\",\"Syria\",\"Jersey\",\"Guernsey\",\"Eritrea\"],\"name\":\"\",\"type\":\"choropleth\",\"z\":[39.666000000000004,39.666000000000004,39.666000000000004,39.666000000000004,39.666000000000004]}],\"name\":\"35.595049504950495\"},{\"data\":[{\"coloraxis\":\"coloraxis\",\"geo\":\"geo\",\"hovertemplate\":\"<b>%{hovertext}</b><br><br>Enough for % of people=76.1<br>location=%{location}<br>Percentage of population with 1+ dose=%{z}<extra></extra>\",\"hovertext\":[69.3],\"locations\":[\"Mainland China\"],\"name\":\"\",\"type\":\"choropleth\",\"z\":[39.666000000000004]}],\"name\":\"76.1\"},{\"data\":[{\"coloraxis\":\"coloraxis\",\"geo\":\"geo\",\"hovertemplate\":\"<b>%{hovertext}</b><br><br>Enough for % of people=26.7<br>location=%{location}<br>Percentage of population with 1+ dose=%{z}<extra></extra>\",\"hovertext\":[12.4,21.7],\"locations\":[\"India\",\"Tunisia\"],\"name\":\"\",\"type\":\"choropleth\",\"z\":[40.3,37.5]}],\"name\":\"26.7\"},{\"data\":[{\"coloraxis\":\"coloraxis\",\"geo\":\"geo\",\"hovertemplate\":\"<b>%{hovertext}</b><br><br>Enough for % of people=61.6<br>location=%{location}<br>Percentage of population with 1+ dose=%{z}<extra></extra>\",\"hovertext\":[61.5,55.6,59.9],\"locations\":[\"EU\",\"Cambodia\",\"Anguilla\"],\"name\":\"\",\"type\":\"choropleth\",\"z\":[66.0,68.9,63.3]}],\"name\":\"61.6\"},{\"data\":[{\"coloraxis\":\"coloraxis\",\"geo\":\"geo\",\"hovertemplate\":\"<b>%{hovertext}</b><br><br>Enough for % of people=59.2<br>location=%{location}<br>Percentage of population with 1+ dose=%{z}<extra></extra>\",\"hovertext\":[53.6],\"locations\":[\"U.S.\"],\"name\":\"\",\"type\":\"choropleth\",\"z\":[62.9]}],\"name\":\"59.2\"},{\"data\":[{\"coloraxis\":\"coloraxis\",\"geo\":\"geo\",\"hovertemplate\":\"<b>%{hovertext}</b><br><br>Enough for % of people=50.0<br>location=%{location}<br>Percentage of population with 1+ dose=%{z}<extra></extra>\",\"hovertext\":[33.2],\"locations\":[\"Brazil\"],\"name\":\"\",\"type\":\"choropleth\",\"z\":[66.9]}],\"name\":\"50.0\"},{\"data\":[{\"coloraxis\":\"coloraxis\",\"geo\":\"geo\",\"hovertemplate\":\"<b>%{hovertext}</b><br><br>Enough for % of people=56.0<br>location=%{location}<br>Percentage of population with 1+ dose=%{z}<extra></extra>\",\"hovertext\":[50.0],\"locations\":[\"Japan\"],\"name\":\"\",\"type\":\"choropleth\",\"z\":[62.1]}],\"name\":\"56.0\"},{\"data\":[{\"coloraxis\":\"coloraxis\",\"geo\":\"geo\",\"hovertemplate\":\"<b>%{hovertext}</b><br><br>Enough for % of people=20.9<br>location=%{location}<br>Percentage of population with 1+ dose=%{z}<extra></extra>\",\"hovertext\":[15.1,17.8],\"locations\":[\"Indonesia\",\"Grenada\"],\"name\":\"\",\"type\":\"choropleth\",\"z\":[26.3,23.9]}],\"name\":\"20.9\"},{\"data\":[{\"coloraxis\":\"coloraxis\",\"geo\":\"geo\",\"hovertemplate\":\"<b>%{hovertext}</b><br><br>Enough for % of people=62.5<br>location=%{location}<br>Percentage of population with 1+ dose=%{z}<extra></extra>\",\"hovertext\":[61.9],\"locations\":[\"Germany\"],\"name\":\"\",\"type\":\"choropleth\",\"z\":[66.4]}],\"name\":\"62.5\"},{\"data\":[{\"coloraxis\":\"coloraxis\",\"geo\":\"geo\",\"hovertemplate\":\"<b>%{hovertext}</b><br><br>Enough for % of people=60.8<br>location=%{location}<br>Percentage of population with 1+ dose=%{z}<extra></extra>\",\"hovertext\":[48.1],\"locations\":[\"Turkey\"],\"name\":\"\",\"type\":\"choropleth\",\"z\":[61.6]}],\"name\":\"60.8\"},{\"data\":[{\"coloraxis\":\"coloraxis\",\"geo\":\"geo\",\"hovertemplate\":\"<b>%{hovertext}</b><br><br>Enough for % of people=69.0<br>location=%{location}<br>Percentage of population with 1+ dose=%{z}<extra></extra>\",\"hovertext\":[65.6,64.0],\"locations\":[\"U.K.\",\"Norway\"],\"name\":\"\",\"type\":\"choropleth\",\"z\":[72.4,73.9]}],\"name\":\"69.0\"},{\"data\":[{\"coloraxis\":\"coloraxis\",\"geo\":\"geo\",\"hovertemplate\":\"<b>%{hovertext}</b><br><br>Enough for % of people=69.9<br>location=%{location}<br>Percentage of population with 1+ dose=%{z}<extra></extra>\",\"hovertext\":[71.3],\"locations\":[\"France\"],\"name\":\"\",\"type\":\"choropleth\",\"z\":[76.1]}],\"name\":\"69.9\"},{\"data\":[{\"coloraxis\":\"coloraxis\",\"geo\":\"geo\",\"hovertemplate\":\"<b>%{hovertext}</b><br><br>Enough for % of people=35.1<br>location=%{location}<br>Percentage of population with 1+ dose=%{z}<extra></extra>\",\"hovertext\":[28.9],\"locations\":[\"Mexico\"],\"name\":\"\",\"type\":\"choropleth\",\"z\":[46.7]}],\"name\":\"35.1\"},{\"data\":[{\"coloraxis\":\"coloraxis\",\"geo\":\"geo\",\"hovertemplate\":\"<b>%{hovertext}</b><br><br>Enough for % of people=29.0<br>location=%{location}<br>Percentage of population with 1+ dose=%{z}<extra></extra>\",\"hovertext\":[26.7],\"locations\":[\"Russia\"],\"name\":\"\",\"type\":\"choropleth\",\"z\":[30.7]}],\"name\":\"29.0\"},{\"data\":[{\"coloraxis\":\"coloraxis\",\"geo\":\"geo\",\"hovertemplate\":\"<b>%{hovertext}</b><br><br>Enough for % of people=66.6<br>location=%{location}<br>Percentage of population with 1+ dose=%{z}<extra></extra>\",\"hovertext\":[65.6],\"locations\":[\"Italy\"],\"name\":\"\",\"type\":\"choropleth\",\"z\":[72.2]}],\"name\":\"66.6\"},{\"data\":[{\"coloraxis\":\"coloraxis\",\"geo\":\"geo\",\"hovertemplate\":\"<b>%{hovertext}</b><br><br>Enough for % of people=73.4<br>location=%{location}<br>Percentage of population with 1+ dose=%{z}<extra></extra>\",\"hovertext\":[75.4],\"locations\":[\"Spain\"],\"name\":\"\",\"type\":\"choropleth\",\"z\":[79.9]}],\"name\":\"73.4\"},{\"data\":[{\"coloraxis\":\"coloraxis\",\"geo\":\"geo\",\"hovertemplate\":\"<b>%{hovertext}</b><br><br>Enough for % of people=16.2<br>location=%{location}<br>Percentage of population with 1+ dose=%{z}<extra></extra>\",\"hovertext\":[10.4],\"locations\":[\"Pakistan\"],\"name\":\"\",\"type\":\"choropleth\",\"z\":[24.5]}],\"name\":\"16.2\"},{\"data\":[{\"coloraxis\":\"coloraxis\",\"geo\":\"geo\",\"hovertemplate\":\"<b>%{hovertext}</b><br><br>Enough for % of people=72.3<br>location=%{location}<br>Percentage of population with 1+ dose=%{z}<extra></extra>\",\"hovertext\":[68.7],\"locations\":[\"Canada\"],\"name\":\"\",\"type\":\"choropleth\",\"z\":[74.7]}],\"name\":\"72.3\"},{\"data\":[{\"coloraxis\":\"coloraxis\",\"geo\":\"geo\",\"hovertemplate\":\"<b>%{hovertext}</b><br><br>Enough for % of people=49.9<br>location=%{location}<br>Percentage of population with 1+ dose=%{z}<extra></extra>\",\"hovertext\":[37.5],\"locations\":[\"South Korea\"],\"name\":\"\",\"type\":\"choropleth\",\"z\":[62.2]}],\"name\":\"49.9\"},{\"data\":[{\"coloraxis\":\"coloraxis\",\"geo\":\"geo\",\"hovertemplate\":\"<b>%{hovertext}</b><br><br>Enough for % of people=51.6<br>location=%{location}<br>Percentage of population with 1+ dose=%{z}<extra></extra>\",\"hovertext\":[39.5],\"locations\":[\"Argentina\"],\"name\":\"\",\"type\":\"choropleth\",\"z\":[63.7]}],\"name\":\"51.6\"},{\"data\":[{\"coloraxis\":\"coloraxis\",\"geo\":\"geo\",\"hovertemplate\":\"<b>%{hovertext}</b><br><br>Enough for % of people=57.4<br>location=%{location}<br>Percentage of population with 1+ dose=%{z}<extra></extra>\",\"hovertext\":[48.2,47.2],\"locations\":[\"Saudi Arabia\",\"Panama\"],\"name\":\"\",\"type\":\"choropleth\",\"z\":[66.6,67.5]}],\"name\":\"57.4\"},{\"data\":[{\"coloraxis\":\"coloraxis\",\"geo\":\"geo\",\"hovertemplate\":\"<b>%{hovertext}</b><br><br>Enough for % of people=27.9<br>location=%{location}<br>Percentage of population with 1+ dose=%{z}<extra></extra>\",\"hovertext\":[16.2],\"locations\":[\"Thailand\"],\"name\":\"\",\"type\":\"choropleth\",\"z\":[37.8]}],\"name\":\"27.9\"},{\"data\":[{\"coloraxis\":\"coloraxis\",\"geo\":\"geo\",\"hovertemplate\":\"<b>%{hovertext}</b><br><br>Enough for % of people=58.3<br>location=%{location}<br>Percentage of population with 1+ dose=%{z}<extra></extra>\",\"hovertext\":[51.2],\"locations\":[\"Malaysia\"],\"name\":\"\",\"type\":\"choropleth\",\"z\":[64.7]}],\"name\":\"58.3\"},{\"data\":[{\"coloraxis\":\"coloraxis\",\"geo\":\"geo\",\"hovertemplate\":\"<b>%{hovertext}</b><br><br>Enough for % of people=17.6<br>location=%{location}<br>Percentage of population with 1+ dose=%{z}<extra></extra>\",\"hovertext\":[15.0],\"locations\":[\"Philippines\"],\"name\":\"\",\"type\":\"choropleth\",\"z\":[20.5]}],\"name\":\"17.6\"},{\"data\":[{\"coloraxis\":\"coloraxis\",\"geo\":\"geo\",\"hovertemplate\":\"<b>%{hovertext}</b><br><br>Enough for % of people=36.4<br>location=%{location}<br>Percentage of population with 1+ dose=%{z}<extra></extra>\",\"hovertext\":[29.9],\"locations\":[\"Colombia\"],\"name\":\"\",\"type\":\"choropleth\",\"z\":[48.4]}],\"name\":\"36.4\"},{\"data\":[{\"coloraxis\":\"coloraxis\",\"geo\":\"geo\",\"hovertemplate\":\"<b>%{hovertext}</b><br><br>Enough for % of people=48.2<br>location=%{location}<br>Percentage of population with 1+ dose=%{z}<extra></extra>\",\"hovertext\":[50.1],\"locations\":[\"Poland\"],\"name\":\"\",\"type\":\"choropleth\",\"z\":[51.3]}],\"name\":\"48.2\"},{\"data\":[{\"coloraxis\":\"coloraxis\",\"geo\":\"geo\",\"hovertemplate\":\"<b>%{hovertext}</b><br><br>Enough for % of people=50.6<br>location=%{location}<br>Percentage of population with 1+ dose=%{z}<extra></extra>\",\"hovertext\":[45.7],\"locations\":[\"Morocco\"],\"name\":\"\",\"type\":\"choropleth\",\"z\":[55.5]}],\"name\":\"50.6\"},{\"data\":[{\"coloraxis\":\"coloraxis\",\"geo\":\"geo\",\"hovertemplate\":\"<b>%{hovertext}</b><br><br>Enough for % of people=9.8<br>location=%{location}<br>Percentage of population with 1+ dose=%{z}<extra></extra>\",\"hovertext\":[7.6,8.0],\"locations\":[\"Bangladesh\",\"Kyrgyzstan\"],\"name\":\"\",\"type\":\"choropleth\",\"z\":[12.1,11.4]}],\"name\":\"9.8\"},{\"data\":[{\"coloraxis\":\"coloraxis\",\"geo\":\"geo\",\"hovertemplate\":\"<b>%{hovertext}</b><br><br>Enough for % of people=78.3<br>location=%{location}<br>Percentage of population with 1+ dose=%{z}<extra></extra>\",\"hovertext\":[72.6],\"locations\":[\"Chile\"],\"name\":\"\",\"type\":\"choropleth\",\"z\":[75.7]}],\"name\":\"78.3\"},{\"data\":[{\"coloraxis\":\"coloraxis\",\"geo\":\"geo\",\"hovertemplate\":\"<b>%{hovertext}</b><br><br>Enough for % of people=17.5<br>location=%{location}<br>Percentage of population with 1+ dose=%{z}<extra></extra>\",\"hovertext\":[11.6],\"locations\":[\"Iran\"],\"name\":\"\",\"type\":\"choropleth\",\"z\":[23.4]}],\"name\":\"17.5\"},{\"data\":[{\"coloraxis\":\"coloraxis\",\"geo\":\"geo\",\"hovertemplate\":\"<b>%{hovertext}</b><br><br>Enough for % of people=12.2<br>location=%{location}<br>Percentage of population with 1+ dose=%{z}<extra></extra>\",\"hovertext\":[3.9],\"locations\":[\"Vietnam\"],\"name\":\"\",\"type\":\"choropleth\",\"z\":[20.5]}],\"name\":\"12.2\"},{\"data\":[{\"coloraxis\":\"coloraxis\",\"geo\":\"geo\",\"hovertemplate\":\"<b>%{hovertext}</b><br><br>Enough for % of people=53.8<br>location=%{location}<br>Percentage of population with 1+ dose=%{z}<extra></extra>\",\"hovertext\":[45.8],\"locations\":[\"Sri Lanka\"],\"name\":\"\",\"type\":\"choropleth\",\"z\":[60.2]}],\"name\":\"53.8\"},{\"data\":[{\"coloraxis\":\"coloraxis\",\"geo\":\"geo\",\"hovertemplate\":\"<b>%{hovertext}</b><br><br>Enough for % of people=67.3<br>location=%{location}<br>Percentage of population with 1+ dose=%{z}<extra></extra>\",\"hovertext\":[62.9],\"locations\":[\"Netherlands\"],\"name\":\"\",\"type\":\"choropleth\",\"z\":[69.8]}],\"name\":\"67.3\"},{\"data\":[{\"coloraxis\":\"coloraxis\",\"geo\":\"geo\",\"hovertemplate\":\"<b>%{hovertext}</b><br><br>Enough for % of people=43.4<br>location=%{location}<br>Percentage of population with 1+ dose=%{z}<extra></extra>\",\"hovertext\":[32.4],\"locations\":[\"Australia\"],\"name\":\"\",\"type\":\"choropleth\",\"z\":[53.2]}],\"name\":\"43.4\"},{\"data\":[{\"coloraxis\":\"coloraxis\",\"geo\":\"geo\",\"hovertemplate\":\"<b>%{hovertext}</b><br><br>Enough for % of people=31.2<br>location=%{location}<br>Percentage of population with 1+ dose=%{z}<extra></extra>\",\"hovertext\":[26.3],\"locations\":[\"Peru\"],\"name\":\"\",\"type\":\"choropleth\",\"z\":[35.5]}],\"name\":\"31.2\"},{\"data\":[{\"coloraxis\":\"coloraxis\",\"geo\":\"geo\",\"hovertemplate\":\"<b>%{hovertext}</b><br><br>Enough for % of people=58.4<br>location=%{location}<br>Percentage of population with 1+ dose=%{z}<extra></extra>\",\"hovertext\":[54.9],\"locations\":[\"Ecuador\"],\"name\":\"\",\"type\":\"choropleth\",\"z\":[63.1]}],\"name\":\"58.4\"},{\"data\":[{\"coloraxis\":\"coloraxis\",\"geo\":\"geo\",\"hovertemplate\":\"<b>%{hovertext}</b><br><br>Enough for % of people=87.5<br>location=%{location}<br>Percentage of population with 1+ dose=%{z}<extra></extra>\",\"hovertext\":[72.1],\"locations\":[\"UAE\"],\"name\":\"\",\"type\":\"choropleth\",\"z\":[82.4]}],\"name\":\"87.5\"},{\"data\":[{\"coloraxis\":\"coloraxis\",\"geo\":\"geo\",\"hovertemplate\":\"<b>%{hovertext}</b><br><br>Enough for % of people=71.4<br>location=%{location}<br>Percentage of population with 1+ dose=%{z}<extra></extra>\",\"hovertext\":[71.9],\"locations\":[\"Belgium\"],\"name\":\"\",\"type\":\"choropleth\",\"z\":[74.0]}],\"name\":\"71.4\"},{\"data\":[{\"coloraxis\":\"coloraxis\",\"geo\":\"geo\",\"hovertemplate\":\"<b>%{hovertext}</b><br><br>Enough for % of people=24.0<br>location=%{location}<br>Percentage of population with 1+ dose=%{z}<extra></extra>\",\"hovertext\":[8.7],\"locations\":[\"Uzbekistan\"],\"name\":\"\",\"type\":\"choropleth\",\"z\":[29.4]}],\"name\":\"24.0\"},{\"data\":[{\"coloraxis\":\"coloraxis\",\"geo\":\"geo\",\"hovertemplate\":\"<b>%{hovertext}</b><br><br>Enough for % of people=68.5<br>location=%{location}<br>Percentage of population with 1+ dose=%{z}<extra></extra>\",\"hovertext\":[36.8,70.6],\"locations\":[\"Cuba\",\"San Marino\"],\"name\":\"\",\"type\":\"choropleth\",\"z\":[55.6,70.5]}],\"name\":\"68.5\"},{\"data\":[{\"coloraxis\":\"coloraxis\",\"geo\":\"geo\",\"hovertemplate\":\"<b>%{hovertext}</b><br><br>Enough for % of people=74.1<br>location=%{location}<br>Percentage of population with 1+ dose=%{z}<extra></extra>\",\"hovertext\":[78.2,72.1],\"locations\":[\"Portugal\",\"Faroe Islands\"],\"name\":\"\",\"type\":\"choropleth\",\"z\":[85.6,76.1]}],\"name\":\"74.1\"},{\"data\":[{\"coloraxis\":\"coloraxis\",\"geo\":\"geo\",\"hovertemplate\":\"<b>%{hovertext}</b><br><br>Enough for % of people=18.0<br>location=%{location}<br>Percentage of population with 1+ dose=%{z}<extra></extra>\",\"hovertext\":[11.1],\"locations\":[\"Ukraine\"],\"name\":\"\",\"type\":\"choropleth\",\"z\":[24.9]}],\"name\":\"18.0\"},{\"data\":[{\"coloraxis\":\"coloraxis\",\"geo\":\"geo\",\"hovertemplate\":\"<b>%{hovertext}</b><br><br>Enough for % of people=14.0<br>location=%{location}<br>Percentage of population with 1+ dose=%{z}<extra></extra>\",\"hovertext\":[11.7],\"locations\":[\"South Africa\"],\"name\":\"\",\"type\":\"choropleth\",\"z\":[17.6]}],\"name\":\"14.0\"},{\"data\":[{\"coloraxis\":\"coloraxis\",\"geo\":\"geo\",\"hovertemplate\":\"<b>%{hovertext}</b><br><br>Enough for % of people=79.4<br>location=%{location}<br>Percentage of population with 1+ dose=%{z}<extra></extra>\",\"hovertext\":[61.2],\"locations\":[\"Israel\"],\"name\":\"\",\"type\":\"choropleth\",\"z\":[66.7]}],\"name\":\"79.4\"},{\"data\":[{\"coloraxis\":\"coloraxis\",\"geo\":\"geo\",\"hovertemplate\":\"<b>%{hovertext}</b><br><br>Enough for % of people=63.6<br>location=%{location}<br>Percentage of population with 1+ dose=%{z}<extra></extra>\",\"hovertext\":[59.4],\"locations\":[\"Sweden\"],\"name\":\"\",\"type\":\"choropleth\",\"z\":[67.8]}],\"name\":\"63.6\"},{\"data\":[{\"coloraxis\":\"coloraxis\",\"geo\":\"geo\",\"hovertemplate\":\"<b>%{hovertext}</b><br><br>Enough for % of people=34.5<br>location=%{location}<br>Percentage of population with 1+ dose=%{z}<extra></extra>\",\"hovertext\":[31.1,30.5],\"locations\":[\"Kazakhstan\",\"Trinidad and Tobago\"],\"name\":\"\",\"type\":\"choropleth\",\"z\":[37.4,38.5]}],\"name\":\"34.5\"},{\"data\":[{\"coloraxis\":\"coloraxis\",\"geo\":\"geo\",\"hovertemplate\":\"<b>%{hovertext}</b><br><br>Enough for % of people=25.3<br>location=%{location}<br>Percentage of population with 1+ dose=%{z}<extra></extra>\",\"hovertext\":[4.3],\"locations\":[\"Taiwan\"],\"name\":\"\",\"type\":\"choropleth\",\"z\":[46.4]}],\"name\":\"25.3\"},{\"data\":[{\"coloraxis\":\"coloraxis\",\"geo\":\"geo\",\"hovertemplate\":\"<b>%{hovertext}</b><br><br>Enough for % of people=59.8<br>location=%{location}<br>Percentage of population with 1+ dose=%{z}<extra></extra>\",\"hovertext\":[56.7,59.6],\"locations\":[\"Hungary\",\"Austria\"],\"name\":\"\",\"type\":\"choropleth\",\"z\":[59.7,63.0]}],\"name\":\"59.8\"},{\"data\":[{\"coloraxis\":\"coloraxis\",\"geo\":\"geo\",\"hovertemplate\":\"<b>%{hovertext}</b><br><br>Enough for % of people=54.2<br>location=%{location}<br>Percentage of population with 1+ dose=%{z}<extra></extra>\",\"hovertext\":[54.3],\"locations\":[\"Greece\"],\"name\":\"\",\"type\":\"choropleth\",\"z\":[58.0]}],\"name\":\"54.2\"},{\"data\":[{\"coloraxis\":\"coloraxis\",\"geo\":\"geo\",\"hovertemplate\":\"<b>%{hovertext}</b><br><br>Enough for % of people=54.5<br>location=%{location}<br>Percentage of population with 1+ dose=%{z}<extra></extra>\",\"hovertext\":[54.7],\"locations\":[\"Czech Republic\"],\"name\":\"\",\"type\":\"choropleth\",\"z\":[56.3]}],\"name\":\"54.5\"},{\"data\":[{\"coloraxis\":\"coloraxis\",\"geo\":\"geo\",\"hovertemplate\":\"<b>%{hovertext}</b><br><br>Enough for % of people=55.1<br>location=%{location}<br>Percentage of population with 1+ dose=%{z}<extra></extra>\",\"hovertext\":[52.0],\"locations\":[\"Dominican Republic\"],\"name\":\"\",\"type\":\"choropleth\",\"z\":[56.9]}],\"name\":\"55.1\"},{\"data\":[{\"coloraxis\":\"coloraxis\",\"geo\":\"geo\",\"hovertemplate\":\"<b>%{hovertext}</b><br><br>Enough for % of people=19.0<br>location=%{location}<br>Percentage of population with 1+ dose=%{z}<extra></extra>\",\"hovertext\":[17.9],\"locations\":[\"Nepal\"],\"name\":\"\",\"type\":\"choropleth\",\"z\":[20.1]}],\"name\":\"19.0\"},{\"data\":[{\"coloraxis\":\"coloraxis\",\"geo\":\"geo\",\"hovertemplate\":\"<b>%{hovertext}</b><br><br>Enough for % of people=5.4<br>location=%{location}<br>Percentage of population with 1+ dose=%{z}<extra></extra>\",\"hovertext\":[3.7],\"locations\":[\"Egypt\"],\"name\":\"\",\"type\":\"choropleth\",\"z\":[7.1]}],\"name\":\"5.4\"},{\"data\":[{\"coloraxis\":\"coloraxis\",\"geo\":\"geo\",\"hovertemplate\":\"<b>%{hovertext}</b><br><br>Enough for % of people=25.4<br>location=%{location}<br>Percentage of population with 1+ dose=%{z}<extra></extra>\",\"hovertext\":[26.7],\"locations\":[\"Romania\"],\"name\":\"\",\"type\":\"choropleth\",\"z\":[27.3]}],\"name\":\"25.4\"},{\"data\":[{\"coloraxis\":\"coloraxis\",\"geo\":\"geo\",\"hovertemplate\":\"<b>%{hovertext}</b><br><br>Enough for % of people=57.5<br>location=%{location}<br>Percentage of population with 1+ dose=%{z}<extra></extra>\",\"hovertext\":[52.9],\"locations\":[\"Switzerland\"],\"name\":\"\",\"type\":\"choropleth\",\"z\":[59.9]}],\"name\":\"57.5\"},{\"data\":[{\"coloraxis\":\"coloraxis\",\"geo\":\"geo\",\"hovertemplate\":\"<b>%{hovertext}</b><br><br>Enough for % of people=16.8<br>location=%{location}<br>Percentage of population with 1+ dose=%{z}<extra></extra>\",\"hovertext\":[12.0],\"locations\":[\"Venezuela\"],\"name\":\"\",\"type\":\"choropleth\",\"z\":[21.6]}],\"name\":\"16.8\"},{\"data\":[{\"coloraxis\":\"coloraxis\",\"geo\":\"geo\",\"hovertemplate\":\"<b>%{hovertext}</b><br><br>Enough for % of people=78.7<br>location=%{location}<br>Percentage of population with 1+ dose=%{z}<extra></extra>\",\"hovertext\":[79.1],\"locations\":[\"Singapore\"],\"name\":\"\",\"type\":\"choropleth\",\"z\":[81.1]}],\"name\":\"78.7\"},{\"data\":[{\"coloraxis\":\"coloraxis\",\"geo\":\"geo\",\"hovertemplate\":\"<b>%{hovertext}</b><br><br>Enough for % of people=75.0<br>location=%{location}<br>Percentage of population with 1+ dose=%{z}<extra></extra>\",\"hovertext\":[73.8,74.5],\"locations\":[\"Denmark\",\"Iceland\"],\"name\":\"\",\"type\":\"choropleth\",\"z\":[76.3,78.6]}],\"name\":\"75.0\"},{\"data\":[{\"coloraxis\":\"coloraxis\",\"geo\":\"geo\",\"hovertemplate\":\"<b>%{hovertext}</b><br><br>Enough for % of people=53.6<br>location=%{location}<br>Percentage of population with 1+ dose=%{z}<extra></extra>\",\"hovertext\":[49.8],\"locations\":[\"Hong Kong\"],\"name\":\"\",\"type\":\"choropleth\",\"z\":[57.4]}],\"name\":\"53.6\"},{\"data\":[{\"coloraxis\":\"coloraxis\",\"geo\":\"geo\",\"hovertemplate\":\"<b>%{hovertext}</b><br><br>Enough for % of people=9.2<br>location=%{location}<br>Percentage of population with 1+ dose=%{z}<extra></extra>\",\"hovertext\":[6.9],\"locations\":[\"Algeria\"],\"name\":\"\",\"type\":\"choropleth\",\"z\":[11.5]}],\"name\":\"9.2\"},{\"data\":[{\"coloraxis\":\"coloraxis\",\"geo\":\"geo\",\"hovertemplate\":\"<b>%{hovertext}</b><br><br>Enough for % of people=37.2<br>location=%{location}<br>Percentage of population with 1+ dose=%{z}<extra></extra>\",\"hovertext\":[29.9],\"locations\":[\"Azerbaijan\"],\"name\":\"\",\"type\":\"choropleth\",\"z\":[44.5]}],\"name\":\"37.2\"},{\"data\":[{\"coloraxis\":\"coloraxis\",\"geo\":\"geo\",\"hovertemplate\":\"<b>%{hovertext}</b><br><br>Enough for % of people=64.8<br>location=%{location}<br>Percentage of population with 1+ dose=%{z}<extra></extra>\",\"hovertext\":[55.9],\"locations\":[\"Finland\"],\"name\":\"\",\"type\":\"choropleth\",\"z\":[73.8]}],\"name\":\"64.8\"},{\"data\":[{\"coloraxis\":\"coloraxis\",\"geo\":\"geo\",\"hovertemplate\":\"<b>%{hovertext}</b><br><br>Enough for % of people=70.6<br>location=%{location}<br>Percentage of population with 1+ dose=%{z}<extra></extra>\",\"hovertext\":[70.6],\"locations\":[\"Ireland\"],\"name\":\"\",\"type\":\"choropleth\",\"z\":[75.3]}],\"name\":\"70.6\"},{\"data\":[{\"coloraxis\":\"coloraxis\",\"geo\":\"geo\",\"hovertemplate\":\"<b>%{hovertext}</b><br><br>Enough for % of people=52.9<br>location=%{location}<br>Percentage of population with 1+ dose=%{z}<extra></extra>\",\"hovertext\":[47.0],\"locations\":[\"El Salvador\"],\"name\":\"\",\"type\":\"choropleth\",\"z\":[58.7]}],\"name\":\"52.9\"},{\"data\":[{\"coloraxis\":\"coloraxis\",\"geo\":\"geo\",\"hovertemplate\":\"<b>%{hovertext}</b><br><br>Enough for % of people=32.9<br>location=%{location}<br>Percentage of population with 1+ dose=%{z}<extra></extra>\",\"hovertext\":[30.4],\"locations\":[\"Jordan\"],\"name\":\"\",\"type\":\"choropleth\",\"z\":[35.3]}],\"name\":\"32.9\"},{\"data\":[{\"coloraxis\":\"coloraxis\",\"geo\":\"geo\",\"hovertemplate\":\"<b>%{hovertext}</b><br><br>Enough for % of people=5.9<br>location=%{location}<br>Percentage of population with 1+ dose=%{z}<extra></extra>\",\"hovertext\":[3.4],\"locations\":[\"Myanmar\"],\"name\":\"\",\"type\":\"choropleth\",\"z\":[8.4]}],\"name\":\"5.9\"},{\"data\":[{\"coloraxis\":\"coloraxis\",\"geo\":\"geo\",\"hovertemplate\":\"<b>%{hovertext}</b><br><br>Enough for % of people=27.0<br>location=%{location}<br>Percentage of population with 1+ dose=%{z}<extra></extra>\",\"hovertext\":[25.3],\"locations\":[\"Bolivia\"],\"name\":\"\",\"type\":\"choropleth\",\"z\":[35.6]}],\"name\":\"27.0\"},{\"data\":[{\"coloraxis\":\"coloraxis\",\"geo\":\"geo\",\"hovertemplate\":\"<b>%{hovertext}</b><br><br>Enough for % of people=43.7<br>location=%{location}<br>Percentage of population with 1+ dose=%{z}<extra></extra>\",\"hovertext\":[40.7],\"locations\":[\"Serbia\"],\"name\":\"\",\"type\":\"choropleth\",\"z\":[42.5]}],\"name\":\"43.7\"},{\"data\":[{\"coloraxis\":\"coloraxis\",\"geo\":\"geo\",\"hovertemplate\":\"<b>%{hovertext}</b><br><br>Enough for % of people=83.9<br>location=%{location}<br>Percentage of population with 1+ dose=%{z}<extra></extra>\",\"hovertext\":[72.1],\"locations\":[\"Uruguay\"],\"name\":\"\",\"type\":\"choropleth\",\"z\":[76.8]}],\"name\":\"83.9\"},{\"data\":[{\"coloraxis\":\"coloraxis\",\"geo\":\"geo\",\"hovertemplate\":\"<b>%{hovertext}</b><br><br>Enough for % of people=14.9<br>location=%{location}<br>Percentage of population with 1+ dose=%{z}<extra></extra>\",\"hovertext\":[8.9],\"locations\":[\"Guatemala\"],\"name\":\"\",\"type\":\"choropleth\",\"z\":[20.9]}],\"name\":\"14.9\"},{\"data\":[{\"coloraxis\":\"coloraxis\",\"geo\":\"geo\",\"hovertemplate\":\"<b>%{hovertext}</b><br><br>Enough for % of people=1.3<br>location=%{location}<br>Percentage of population with 1+ dose=%{z}<extra></extra>\",\"hovertext\":[0.8,0.6],\"locations\":[\"Nigeria\",\"Sudan\"],\"name\":\"\",\"type\":\"choropleth\",\"z\":[1.8,1.5]}],\"name\":\"1.3\"},{\"data\":[{\"coloraxis\":\"coloraxis\",\"geo\":\"geo\",\"hovertemplate\":\"<b>%{hovertext}</b><br><br>Enough for % of people=42.8<br>location=%{location}<br>Percentage of population with 1+ dose=%{z}<extra></extra>\",\"hovertext\":[40.4],\"locations\":[\"Slovakia\"],\"name\":\"\",\"type\":\"choropleth\",\"z\":[44.0]}],\"name\":\"42.8\"},{\"data\":[{\"coloraxis\":\"coloraxis\",\"geo\":\"geo\",\"hovertemplate\":\"<b>%{hovertext}</b><br><br>Enough for % of people=15.4<br>location=%{location}<br>Percentage of population with 1+ dose=%{z}<extra></extra>\",\"hovertext\":[12.1],\"locations\":[\"Zimbabwe\"],\"name\":\"\",\"type\":\"choropleth\",\"z\":[18.8]}],\"name\":\"15.4\"},{\"data\":[{\"coloraxis\":\"coloraxis\",\"geo\":\"geo\",\"hovertemplate\":\"<b>%{hovertext}</b><br><br>Enough for % of people=45.1<br>location=%{location}<br>Percentage of population with 1+ dose=%{z}<extra></extra>\",\"hovertext\":[29.7],\"locations\":[\"Costa Rica\"],\"name\":\"\",\"type\":\"choropleth\",\"z\":[60.5]}],\"name\":\"45.1\"},{\"data\":[{\"coloraxis\":\"coloraxis\",\"geo\":\"geo\",\"hovertemplate\":\"<b>%{hovertext}</b><br><br>Enough for % of people=81.9<br>location=%{location}<br>Percentage of population with 1+ dose=%{z}<extra></extra>\",\"hovertext\":[79.1],\"locations\":[\"Qatar\"],\"name\":\"\",\"type\":\"choropleth\",\"z\":[84.1]}],\"name\":\"81.9\"},{\"data\":[{\"coloraxis\":\"coloraxis\",\"geo\":\"geo\",\"hovertemplate\":\"<b>%{hovertext}</b><br><br>Enough for % of people=23.2<br>location=%{location}<br>Percentage of population with 1+ dose=%{z}<extra></extra>\",\"hovertext\":[16.7],\"locations\":[\"Honduras\"],\"name\":\"\",\"type\":\"choropleth\",\"z\":[29.6]}],\"name\":\"23.2\"},{\"data\":[{\"coloraxis\":\"coloraxis\",\"geo\":\"geo\",\"hovertemplate\":\"<b>%{hovertext}</b><br><br>Enough for % of people=30.7<br>location=%{location}<br>Percentage of population with 1+ dose=%{z}<extra></extra>\",\"hovertext\":[25.7],\"locations\":[\"Laos\"],\"name\":\"\",\"type\":\"choropleth\",\"z\":[35.7]}],\"name\":\"30.7\"},{\"data\":[{\"coloraxis\":\"coloraxis\",\"geo\":\"geo\",\"hovertemplate\":\"<b>%{hovertext}</b><br><br>Enough for % of people=66.1<br>location=%{location}<br>Percentage of population with 1+ dose=%{z}<extra></extra>\",\"hovertext\":[64.0],\"locations\":[\"Mongolia\"],\"name\":\"\",\"type\":\"choropleth\",\"z\":[68.1]}],\"name\":\"66.1\"},{\"data\":[{\"coloraxis\":\"coloraxis\",\"geo\":\"geo\",\"hovertemplate\":\"<b>%{hovertext}</b><br><br>Enough for % of people=42.3<br>location=%{location}<br>Percentage of population with 1+ dose=%{z}<extra></extra>\",\"hovertext\":[28.5],\"locations\":[\"New Zealand\"],\"name\":\"\",\"type\":\"choropleth\",\"z\":[56.0]}],\"name\":\"42.3\"},{\"data\":[{\"coloraxis\":\"coloraxis\",\"geo\":\"geo\",\"hovertemplate\":\"<b>%{hovertext}</b><br><br>Enough for % of people=28.6<br>location=%{location}<br>Percentage of population with 1+ dose=%{z}<extra></extra>\",\"hovertext\":[25.3],\"locations\":[\"Paraguay\"],\"name\":\"\",\"type\":\"choropleth\",\"z\":[32.0]}],\"name\":\"28.6\"},{\"data\":[{\"coloraxis\":\"coloraxis\",\"geo\":\"geo\",\"hovertemplate\":\"<b>%{hovertext}</b><br><br>Enough for % of people=48.1<br>location=%{location}<br>Percentage of population with 1+ dose=%{z}<extra></extra>\",\"hovertext\":[34.4],\"locations\":[\"Oman\"],\"name\":\"\",\"type\":\"choropleth\",\"z\":[61.8]}],\"name\":\"48.1\"},{\"data\":[{\"coloraxis\":\"coloraxis\",\"geo\":\"geo\",\"hovertemplate\":\"<b>%{hovertext}</b><br><br>Enough for % of people=4.8<br>location=%{location}<br>Percentage of population with 1+ dose=%{z}<extra></extra>\",\"hovertext\":[1.3],\"locations\":[\"Iraq\"],\"name\":\"\",\"type\":\"choropleth\",\"z\":[2.1]}],\"name\":\"4.8\"},{\"data\":[{\"coloraxis\":\"coloraxis\",\"geo\":\"geo\",\"hovertemplate\":\"<b>%{hovertext}</b><br><br>Enough for % of people=40.7<br>location=%{location}<br>Percentage of population with 1+ dose=%{z}<extra></extra>\",\"hovertext\":[40.3,38.4],\"locations\":[\"Croatia\",\"Saint Kitts and Nevis\"],\"name\":\"\",\"type\":\"choropleth\",\"z\":[43.0,42.9]}],\"name\":\"40.7\"},{\"data\":[{\"coloraxis\":\"coloraxis\",\"geo\":\"geo\",\"hovertemplate\":\"<b>%{hovertext}</b><br><br>Enough for % of people=58.5<br>location=%{location}<br>Percentage of population with 1+ dose=%{z}<extra></extra>\",\"hovertext\":[56.1],\"locations\":[\"Lithuania\"],\"name\":\"\",\"type\":\"choropleth\",\"z\":[60.8]}],\"name\":\"58.5\"},{\"data\":[{\"coloraxis\":\"coloraxis\",\"geo\":\"geo\",\"hovertemplate\":\"<b>%{hovertext}</b><br><br>Enough for % of people=17.1<br>location=%{location}<br>Percentage of population with 1+ dose=%{z}<extra></extra>\",\"hovertext\":[11.6],\"locations\":[\"Tajikistan\"],\"name\":\"\",\"type\":\"choropleth\",\"z\":[22.6]}],\"name\":\"17.1\"},{\"data\":[{\"coloraxis\":\"coloraxis\",\"geo\":\"geo\",\"hovertemplate\":\"<b>%{hovertext}</b><br><br>Enough for % of people=16.3<br>location=%{location}<br>Percentage of population with 1+ dose=%{z}<extra></extra>\",\"hovertext\":[14.7],\"locations\":[\"Belarus\"],\"name\":\"\",\"type\":\"choropleth\",\"z\":[17.9]}],\"name\":\"16.3\"},{\"data\":[{\"coloraxis\":\"coloraxis\",\"geo\":\"geo\",\"hovertemplate\":\"<b>%{hovertext}</b><br><br>Enough for % of people=3.1<br>location=%{location}<br>Percentage of population with 1+ dose=%{z}<extra></extra>\",\"hovertext\":[1.7],\"locations\":[\"Kenya\"],\"name\":\"\",\"type\":\"choropleth\",\"z\":[4.4]}],\"name\":\"3.1\"},{\"data\":[{\"coloraxis\":\"coloraxis\",\"geo\":\"geo\",\"hovertemplate\":\"<b>%{hovertext}</b><br><br>Enough for % of people=19.8<br>location=%{location}<br>Percentage of population with 1+ dose=%{z}<extra></extra>\",\"hovertext\":[17.8],\"locations\":[\"Lebanon\"],\"name\":\"\",\"type\":\"choropleth\",\"z\":[21.8]}],\"name\":\"19.8\"},{\"data\":[{\"coloraxis\":\"coloraxis\",\"geo\":\"geo\",\"hovertemplate\":\"<b>%{hovertext}</b><br><br>Enough for % of people=1.4<br>location=%{location}<br>Percentage of population with 1+ dose=%{z}<extra></extra>\",\"hovertext\":[31.940609137055848],\"locations\":[\"Ethiopia\"],\"name\":\"\",\"type\":\"choropleth\",\"z\":[2.7]}],\"name\":\"1.4\"},{\"data\":[{\"coloraxis\":\"coloraxis\",\"geo\":\"geo\",\"hovertemplate\":\"<b>%{hovertext}</b><br><br>Enough for % of people=10.4<br>location=%{location}<br>Percentage of population with 1+ dose=%{z}<extra></extra>\",\"hovertext\":[7.3],\"locations\":[\"Rwanda\"],\"name\":\"\",\"type\":\"choropleth\",\"z\":[13.4]}],\"name\":\"10.4\"},{\"data\":[{\"coloraxis\":\"coloraxis\",\"geo\":\"geo\",\"hovertemplate\":\"<b>%{hovertext}</b><br><br>Enough for % of people=84.8<br>location=%{location}<br>Percentage of population with 1+ dose=%{z}<extra></extra>\",\"hovertext\":[73.8],\"locations\":[\"Bahrain\"],\"name\":\"\",\"type\":\"choropleth\",\"z\":[77.8]}],\"name\":\"84.8\"},{\"data\":[{\"coloraxis\":\"coloraxis\",\"geo\":\"geo\",\"hovertemplate\":\"<b>%{hovertext}</b><br><br>Enough for % of people=17.2<br>location=%{location}<br>Percentage of population with 1+ dose=%{z}<extra></extra>\",\"hovertext\":[17.6],\"locations\":[\"Bulgaria\"],\"name\":\"\",\"type\":\"choropleth\",\"z\":[16.8]}],\"name\":\"17.2\"},{\"data\":[{\"coloraxis\":\"coloraxis\",\"geo\":\"geo\",\"hovertemplate\":\"<b>%{hovertext}</b><br><br>Enough for % of people=25.1<br>location=%{location}<br>Percentage of population with 1+ dose=%{z}<extra></extra>\",\"hovertext\":[19.4],\"locations\":[\"Kuwait\"],\"name\":\"\",\"type\":\"choropleth\",\"z\":[56.2]}],\"name\":\"25.1\"},{\"data\":[{\"coloraxis\":\"coloraxis\",\"geo\":\"geo\",\"hovertemplate\":\"<b>%{hovertext}</b><br><br>Enough for % of people=3.7<br>location=%{location}<br>Percentage of population with 1+ dose=%{z}<extra></extra>\",\"hovertext\":[2.1],\"locations\":[\"Mozambique\"],\"name\":\"\",\"type\":\"choropleth\",\"z\":[5.3]}],\"name\":\"3.7\"},{\"data\":[{\"coloraxis\":\"coloraxis\",\"geo\":\"geo\",\"hovertemplate\":\"<b>%{hovertext}</b><br><br>Enough for % of people=3.5<br>location=%{location}<br>Percentage of population with 1+ dose=%{z}<extra></extra>\",\"hovertext\":[3.1,3.0],\"locations\":[\"Angola\",\"Gabon\"],\"name\":\"\",\"type\":\"choropleth\",\"z\":[3.9,4.0]}],\"name\":\"3.5\"},{\"data\":[{\"coloraxis\":\"coloraxis\",\"geo\":\"geo\",\"hovertemplate\":\"<b>%{hovertext}</b><br><br>Enough for % of people=2.7<br>location=%{location}<br>Percentage of population with 1+ dose=%{z}<extra></extra>\",\"hovertext\":[1.2],\"locations\":[\"Afghanistan\"],\"name\":\"\",\"type\":\"choropleth\",\"z\":[2.1]}],\"name\":\"2.7\"},{\"data\":[{\"coloraxis\":\"coloraxis\",\"geo\":\"geo\",\"hovertemplate\":\"<b>%{hovertext}</b><br><br>Enough for % of people=48.3<br>location=%{location}<br>Percentage of population with 1+ dose=%{z}<extra></extra>\",\"hovertext\":[45.2],\"locations\":[\"Slovenia\"],\"name\":\"\",\"type\":\"choropleth\",\"z\":[49.4]}],\"name\":\"48.3\"},{\"data\":[{\"coloraxis\":\"coloraxis\",\"geo\":\"geo\",\"hovertemplate\":\"<b>%{hovertext}</b><br><br>Enough for % of people=5.3<br>location=%{location}<br>Percentage of population with 1+ dose=%{z}<extra></extra>\",\"hovertext\":[3.5],\"locations\":[\"Senegal\"],\"name\":\"\",\"type\":\"choropleth\",\"z\":[7.2]}],\"name\":\"5.3\"},{\"data\":[{\"coloraxis\":\"coloraxis\",\"geo\":\"geo\",\"hovertemplate\":\"<b>%{hovertext}</b><br><br>Enough for % of people=62.8<br>location=%{location}<br>Percentage of population with 1+ dose=%{z}<extra></extra>\",\"hovertext\":[60.2,58.6],\"locations\":[\"Mauritius\",\"Luxembourg\"],\"name\":\"\",\"type\":\"choropleth\",\"z\":[65.4,66.9]}],\"name\":\"62.8\"},{\"data\":[{\"coloraxis\":\"coloraxis\",\"geo\":\"geo\",\"hovertemplate\":\"<b>%{hovertext}</b><br><br>Enough for % of people=27.5<br>location=%{location}<br>Percentage of population with 1+ dose=%{z}<extra></extra>\",\"hovertext\":[24.2],\"locations\":[\"Albania\"],\"name\":\"\",\"type\":\"choropleth\",\"z\":[30.9]}],\"name\":\"27.5\"},{\"data\":[{\"coloraxis\":\"coloraxis\",\"geo\":\"geo\",\"hovertemplate\":\"<b>%{hovertext}</b><br><br>Enough for % of people=40.3<br>location=%{location}<br>Percentage of population with 1+ dose=%{z}<extra></extra>\",\"hovertext\":[40.8],\"locations\":[\"Latvia\"],\"name\":\"\",\"type\":\"choropleth\",\"z\":[45.6]}],\"name\":\"40.3\"},{\"data\":[{\"coloraxis\":\"coloraxis\",\"geo\":\"geo\",\"hovertemplate\":\"<b>%{hovertext}</b><br><br>Enough for % of people=1.9<br>location=%{location}<br>Percentage of population with 1+ dose=%{z}<extra></extra>\",\"hovertext\":[0.6],\"locations\":[\"Uganda\"],\"name\":\"\",\"type\":\"choropleth\",\"z\":[2.6]}],\"name\":\"1.9\"},{\"data\":[{\"coloraxis\":\"coloraxis\",\"geo\":\"geo\",\"hovertemplate\":\"<b>%{hovertext}</b><br><br>Enough for % of people=2.8<br>location=%{location}<br>Percentage of population with 1+ dose=%{z}<extra></extra>\",\"hovertext\":[0.9],\"locations\":[\"Ivory Coast\"],\"name\":\"\",\"type\":\"choropleth\",\"z\":[5.6]}],\"name\":\"2.8\"},{\"data\":[{\"coloraxis\":\"coloraxis\",\"geo\":\"geo\",\"hovertemplate\":\"<b>%{hovertext}</b><br><br>Enough for % of people=18.3<br>location=%{location}<br>Percentage of population with 1+ dose=%{z}<extra></extra>\",\"hovertext\":[13.7],\"locations\":[\"Georgia\"],\"name\":\"\",\"type\":\"choropleth\",\"z\":[23.0]}],\"name\":\"18.3\"},{\"data\":[{\"coloraxis\":\"coloraxis\",\"geo\":\"geo\",\"hovertemplate\":\"<b>%{hovertext}</b><br><br>Enough for % of people=24.8<br>location=%{location}<br>Percentage of population with 1+ dose=%{z}<extra></extra>\",\"hovertext\":[27.1],\"locations\":[\"Moldova\"],\"name\":\"\",\"type\":\"choropleth\",\"z\":[22.4]}],\"name\":\"24.8\"},{\"data\":[{\"coloraxis\":\"coloraxis\",\"geo\":\"geo\",\"hovertemplate\":\"<b>%{hovertext}</b><br><br>Enough for % of people=31.9<br>location=%{location}<br>Percentage of population with 1+ dose=%{z}<extra></extra>\",\"hovertext\":[28.4],\"locations\":[\"North Macedonia\"],\"name\":\"\",\"type\":\"choropleth\",\"z\":[35.5]}],\"name\":\"31.9\"},{\"data\":[{\"coloraxis\":\"coloraxis\",\"geo\":\"geo\",\"hovertemplate\":\"<b>%{hovertext}</b><br><br>Enough for % of people=49.1<br>location=%{location}<br>Percentage of population with 1+ dose=%{z}<extra></extra>\",\"hovertext\":[43.6],\"locations\":[\"Estonia\"],\"name\":\"\",\"type\":\"choropleth\",\"z\":[55.6]}],\"name\":\"49.1\"},{\"data\":[{\"coloraxis\":\"coloraxis\",\"geo\":\"geo\",\"hovertemplate\":\"<b>%{hovertext}</b><br><br>Enough for % of people=4.7<br>location=%{location}<br>Percentage of population with 1+ dose=%{z}<extra></extra>\",\"hovertext\":[2.9],\"locations\":[\"Guinea\"],\"name\":\"\",\"type\":\"choropleth\",\"z\":[6.5]}],\"name\":\"4.7\"},{\"data\":[{\"coloraxis\":\"coloraxis\",\"geo\":\"geo\",\"hovertemplate\":\"<b>%{hovertext}</b><br><br>Enough for % of people=9.7<br>location=%{location}<br>Percentage of population with 1+ dose=%{z}<extra></extra>\",\"hovertext\":[1.7],\"locations\":[\"Libya\"],\"name\":\"\",\"type\":\"choropleth\",\"z\":[17.7]}],\"name\":\"9.7\"},{\"data\":[{\"coloraxis\":\"coloraxis\",\"geo\":\"geo\",\"hovertemplate\":\"<b>%{hovertext}</b><br><br>Enough for % of people=2.1<br>location=%{location}<br>Percentage of population with 1+ dose=%{z}<extra></extra>\",\"hovertext\":[1.3],\"locations\":[\"Ghana\"],\"name\":\"\",\"type\":\"choropleth\",\"z\":[2.9]}],\"name\":\"2.1\"},{\"data\":[{\"coloraxis\":\"coloraxis\",\"geo\":\"geo\",\"hovertemplate\":\"<b>%{hovertext}</b><br><br>Enough for % of people=63.8<br>location=%{location}<br>Percentage of population with 1+ dose=%{z}<extra></extra>\",\"hovertext\":[60.9],\"locations\":[\"Cyprus\"],\"name\":\"\",\"type\":\"choropleth\",\"z\":[66.7]}],\"name\":\"63.8\"},{\"data\":[{\"coloraxis\":\"coloraxis\",\"geo\":\"geo\",\"hovertemplate\":\"<b>%{hovertext}</b><br><br>Enough for % of people=16.1<br>location=%{location}<br>Percentage of population with 1+ dose=%{z}<extra></extra>\",\"hovertext\":[12.9],\"locations\":[\"Bosnia and Herzegovina\"],\"name\":\"\",\"type\":\"choropleth\",\"z\":[19.2]}],\"name\":\"16.1\"},{\"data\":[{\"coloraxis\":\"coloraxis\",\"geo\":\"geo\",\"hovertemplate\":\"<b>%{hovertext}</b><br><br>Enough for % of people=70.1<br>location=%{location}<br>Percentage of population with 1+ dose=%{z}<extra></extra>\",\"hovertext\":[64.2],\"locations\":[\"Bhutan\"],\"name\":\"\",\"type\":\"choropleth\",\"z\":[76.1]}],\"name\":\"70.1\"},{\"data\":[{\"coloraxis\":\"coloraxis\",\"geo\":\"geo\",\"hovertemplate\":\"<b>%{hovertext}</b><br><br>Enough for % of people=27.1<br>location=%{location}<br>Percentage of population with 1+ dose=%{z}<extra></extra>\",\"hovertext\":[18.8],\"locations\":[\"Kosovo\"],\"name\":\"\",\"type\":\"choropleth\",\"z\":[35.4]}],\"name\":\"27.1\"},{\"data\":[{\"coloraxis\":\"coloraxis\",\"geo\":\"geo\",\"hovertemplate\":\"<b>%{hovertext}</b><br><br>Enough for % of people=2.4<br>location=%{location}<br>Percentage of population with 1+ dose=%{z}<extra></extra>\",\"hovertext\":[2.1],\"locations\":[\"Malawi\"],\"name\":\"\",\"type\":\"choropleth\",\"z\":[3.5]}],\"name\":\"2.4\"},{\"data\":[{\"coloraxis\":\"coloraxis\",\"geo\":\"geo\",\"hovertemplate\":\"<b>%{hovertext}</b><br><br>Enough for % of people=48.4<br>location=%{location}<br>Percentage of population with 1+ dose=%{z}<extra></extra>\",\"hovertext\":[33.5],\"locations\":[\"Fiji\"],\"name\":\"\",\"type\":\"choropleth\",\"z\":[63.3]}],\"name\":\"48.4\"},{\"data\":[{\"coloraxis\":\"coloraxis\",\"geo\":\"geo\",\"hovertemplate\":\"<b>%{hovertext}</b><br><br>Enough for % of people=81.4<br>location=%{location}<br>Percentage of population with 1+ dose=%{z}<extra></extra>\",\"hovertext\":[84.1],\"locations\":[\"Malta\"],\"name\":\"\",\"type\":\"choropleth\",\"z\":[84.3]}],\"name\":\"81.4\"},{\"data\":[{\"coloraxis\":\"coloraxis\",\"geo\":\"geo\",\"hovertemplate\":\"<b>%{hovertext}</b><br><br>Enough for % of people=93.4<br>location=%{location}<br>Percentage of population with 1+ dose=%{z}<extra></extra>\",\"hovertext\":[82.8],\"locations\":[\"Maldives\"],\"name\":\"\",\"type\":\"choropleth\",\"z\":[104.0]}],\"name\":\"93.4\"},{\"data\":[{\"coloraxis\":\"coloraxis\",\"geo\":\"geo\",\"hovertemplate\":\"<b>%{hovertext}</b><br><br>Enough for % of people=5.1<br>location=%{location}<br>Percentage of population with 1+ dose=%{z}<extra></extra>\",\"hovertext\":[3.2,3.6],\"locations\":[\"Nicaragua\",\"Armenia\"],\"name\":\"\",\"type\":\"choropleth\",\"z\":[7.1,6.6]}],\"name\":\"5.1\"},{\"data\":[{\"coloraxis\":\"coloraxis\",\"geo\":\"geo\",\"hovertemplate\":\"<b>%{hovertext}</b><br><br>Enough for % of people=4.0<br>location=%{location}<br>Percentage of population with 1+ dose=%{z}<extra></extra>\",\"hovertext\":[2.9],\"locations\":[\"Togo\"],\"name\":\"\",\"type\":\"choropleth\",\"z\":[5.1]}],\"name\":\"4.0\"},{\"data\":[{\"coloraxis\":\"coloraxis\",\"geo\":\"geo\",\"hovertemplate\":\"<b>%{hovertext}</b><br><br>Enough for % of people=1.8<br>location=%{location}<br>Percentage of population with 1+ dose=%{z}<extra></extra>\",\"hovertext\":[1.6],\"locations\":[\"Zambia\"],\"name\":\"\",\"type\":\"choropleth\",\"z\":[1.9]}],\"name\":\"1.8\"},{\"data\":[{\"coloraxis\":\"coloraxis\",\"geo\":\"geo\",\"hovertemplate\":\"<b>%{hovertext}</b><br><br>Enough for % of people=44.8<br>location=%{location}<br>Percentage of population with 1+ dose=%{z}<extra></extra>\",\"hovertext\":[41.4],\"locations\":[\"Macau\"],\"name\":\"\",\"type\":\"choropleth\",\"z\":[48.5]}],\"name\":\"44.8\"},{\"data\":[{\"coloraxis\":\"coloraxis\",\"geo\":\"geo\",\"hovertemplate\":\"<b>%{hovertext}</b><br><br>Enough for % of people=11.1<br>location=%{location}<br>Percentage of population with 1+ dose=%{z}<extra></extra>\",\"hovertext\":[5.6],\"locations\":[\"Jamaica\"],\"name\":\"\",\"type\":\"choropleth\",\"z\":[17.1]}],\"name\":\"11.1\"},{\"data\":[{\"coloraxis\":\"coloraxis\",\"geo\":\"geo\",\"hovertemplate\":\"<b>%{hovertext}</b><br><br>Enough for % of people=22.7<br>location=%{location}<br>Percentage of population with 1+ dose=%{z}<extra></extra>\",\"hovertext\":[15.3],\"locations\":[\"Timor-Leste\"],\"name\":\"\",\"type\":\"choropleth\",\"z\":[30.2]}],\"name\":\"22.7\"},{\"data\":[{\"coloraxis\":\"coloraxis\",\"geo\":\"geo\",\"hovertemplate\":\"<b>%{hovertext}</b><br><br>Enough for % of people=12.1<br>location=%{location}<br>Percentage of population with 1+ dose=%{z}<extra></extra>\",\"hovertext\":[9.2],\"locations\":[\"Botswana\"],\"name\":\"\",\"type\":\"choropleth\",\"z\":[16.0]}],\"name\":\"12.1\"},{\"data\":[{\"coloraxis\":\"coloraxis\",\"geo\":\"geo\",\"hovertemplate\":\"<b>%{hovertext}</b><br><br>Enough for % of people=7.0<br>location=%{location}<br>Percentage of population with 1+ dose=%{z}<extra></extra>\",\"hovertext\":[0.5],\"locations\":[\"Mauritania\"],\"name\":\"\",\"type\":\"choropleth\",\"z\":[7.0]}],\"name\":\"7.0\"},{\"data\":[{\"coloraxis\":\"coloraxis\",\"geo\":\"geo\",\"hovertemplate\":\"<b>%{hovertext}</b><br><br>Enough for % of people=31.5<br>location=%{location}<br>Percentage of population with 1+ dose=%{z}<extra></extra>\",\"hovertext\":[21.7],\"locations\":[\"Guyana\"],\"name\":\"\",\"type\":\"choropleth\",\"z\":[41.4]}],\"name\":\"31.5\"},{\"data\":[{\"coloraxis\":\"coloraxis\",\"geo\":\"geo\",\"hovertemplate\":\"<b>%{hovertext}</b><br><br>Enough for % of people=1.1<br>location=%{location}<br>Percentage of population with 1+ dose=%{z}<extra></extra>\",\"hovertext\":[0.4],\"locations\":[\"Niger\"],\"name\":\"\",\"type\":\"choropleth\",\"z\":[1.7]}],\"name\":\"1.1\"},{\"data\":[{\"coloraxis\":\"coloraxis\",\"geo\":\"geo\",\"hovertemplate\":\"<b>%{hovertext}</b><br><br>Enough for % of people=0.9<br>location=%{location}<br>Percentage of population with 1+ dose=%{z}<extra></extra>\",\"hovertext\":[0.3,0.5,0.2],\"locations\":[\"Cameroon\",\"Mali\",\"Guinea-Bissau\"],\"name\":\"\",\"type\":\"choropleth\",\"z\":[1.4,1.3,1.6]}],\"name\":\"0.9\"},{\"data\":[{\"coloraxis\":\"coloraxis\",\"geo\":\"geo\",\"hovertemplate\":\"<b>%{hovertext}</b><br><br>Enough for % of people=33.1<br>location=%{location}<br>Percentage of population with 1+ dose=%{z}<extra></extra>\",\"hovertext\":[31.2],\"locations\":[\"Montenegro\"],\"name\":\"\",\"type\":\"choropleth\",\"z\":[35.1]}],\"name\":\"33.1\"},{\"data\":[{\"coloraxis\":\"coloraxis\",\"geo\":\"geo\",\"hovertemplate\":\"<b>%{hovertext}</b><br><br>Enough for % of people=13.4<br>location=%{location}<br>Percentage of population with 1+ dose=%{z}<extra></extra>\",\"hovertext\":[11.6],\"locations\":[\"Equatorial Guinea\"],\"name\":\"\",\"type\":\"choropleth\",\"z\":[15.1]}],\"name\":\"13.4\"},{\"data\":[{\"coloraxis\":\"coloraxis\",\"geo\":\"geo\",\"hovertemplate\":\"<b>%{hovertext}</b><br><br>Enough for % of people=30.3<br>location=%{location}<br>Percentage of population with 1+ dose=%{z}<extra></extra>\",\"hovertext\":[25.4],\"locations\":[\"Suriname\"],\"name\":\"\",\"type\":\"choropleth\",\"z\":[35.2]}],\"name\":\"30.3\"},{\"data\":[{\"coloraxis\":\"coloraxis\",\"geo\":\"geo\",\"hovertemplate\":\"<b>%{hovertext}</b><br><br>Enough for % of people=38.4<br>location=%{location}<br>Percentage of population with 1+ dose=%{z}<extra></extra>\",\"hovertext\":[25.8],\"locations\":[\"Brunei\"],\"name\":\"\",\"type\":\"choropleth\",\"z\":[51.1]}],\"name\":\"38.4\"},{\"data\":[{\"coloraxis\":\"coloraxis\",\"geo\":\"geo\",\"hovertemplate\":\"<b>%{hovertext}</b><br><br>Enough for % of people=7.2<br>location=%{location}<br>Percentage of population with 1+ dose=%{z}<extra></extra>\",\"hovertext\":[5.3],\"locations\":[\"Namibia\"],\"name\":\"\",\"type\":\"choropleth\",\"z\":[9.1]}],\"name\":\"7.2\"},{\"data\":[{\"coloraxis\":\"coloraxis\",\"geo\":\"geo\",\"hovertemplate\":\"<b>%{hovertext}</b><br><br>Enough for % of people=7.5<br>location=%{location}<br>Percentage of population with 1+ dose=%{z}<extra></extra>\",\"hovertext\":[6.7],\"locations\":[\"Gambia\"],\"name\":\"\",\"type\":\"choropleth\",\"z\":[8.4]}],\"name\":\"7.5\"},{\"data\":[{\"coloraxis\":\"coloraxis\",\"geo\":\"geo\",\"hovertemplate\":\"<b>%{hovertext}</b><br><br>Enough for % of people=0.5<br>location=%{location}<br>Percentage of population with 1+ dose=%{z}<extra></extra>\",\"hovertext\":[0.1,0.3],\"locations\":[\"Yemen\",\"Madagascar\"],\"name\":\"\",\"type\":\"choropleth\",\"z\":[0.9,0.8]}],\"name\":\"0.5\"},{\"data\":[{\"coloraxis\":\"coloraxis\",\"geo\":\"geo\",\"hovertemplate\":\"<b>%{hovertext}</b><br><br>Enough for % of people=0.3<br>location=%{location}<br>Percentage of population with 1+ dose=%{z}<extra></extra>\",\"hovertext\":[31.940609137055848,0.1],\"locations\":[\"Tanzania\",\"Burkina Faso\"],\"name\":\"\",\"type\":\"choropleth\",\"z\":[39.666000000000004,0.5]}],\"name\":\"0.3\"},{\"data\":[{\"coloraxis\":\"coloraxis\",\"geo\":\"geo\",\"hovertemplate\":\"<b>%{hovertext}</b><br><br>Enough for % of people=1.0<br>location=%{location}<br>Percentage of population with 1+ dose=%{z}<extra></extra>\",\"hovertext\":[0.7],\"locations\":[\"Somalia\"],\"name\":\"\",\"type\":\"choropleth\",\"z\":[1.4]}],\"name\":\"1.0\"},{\"data\":[{\"coloraxis\":\"coloraxis\",\"geo\":\"geo\",\"hovertemplate\":\"<b>%{hovertext}</b><br><br>Enough for % of people=3.4<br>location=%{location}<br>Percentage of population with 1+ dose=%{z}<extra></extra>\",\"hovertext\":[2.4],\"locations\":[\"Republic of the Congo\"],\"name\":\"\",\"type\":\"choropleth\",\"z\":[4.4]}],\"name\":\"3.4\"},{\"data\":[{\"coloraxis\":\"coloraxis\",\"geo\":\"geo\",\"hovertemplate\":\"<b>%{hovertext}</b><br><br>Enough for % of people=28.1<br>location=%{location}<br>Percentage of population with 1+ dose=%{z}<extra></extra>\",\"hovertext\":[13.2],\"locations\":[\"Cape Verde\"],\"name\":\"\",\"type\":\"choropleth\",\"z\":[42.9]}],\"name\":\"28.1\"},{\"data\":[{\"coloraxis\":\"coloraxis\",\"geo\":\"geo\",\"hovertemplate\":\"<b>%{hovertext}</b><br><br>Enough for % of people=15.9<br>location=%{location}<br>Percentage of population with 1+ dose=%{z}<extra></extra>\",\"hovertext\":[11.7],\"locations\":[\"Comoros\"],\"name\":\"\",\"type\":\"choropleth\",\"z\":[20.0]}],\"name\":\"15.9\"},{\"data\":[{\"coloraxis\":\"coloraxis\",\"geo\":\"geo\",\"hovertemplate\":\"<b>%{hovertext}</b><br><br>Enough for % of people=30.8<br>location=%{location}<br>Percentage of population with 1+ dose=%{z}<extra></extra>\",\"hovertext\":[19.0],\"locations\":[\"Belize\"],\"name\":\"\",\"type\":\"choropleth\",\"z\":[42.6]}],\"name\":\"30.8\"},{\"data\":[{\"coloraxis\":\"coloraxis\",\"geo\":\"geo\",\"hovertemplate\":\"<b>%{hovertext}</b><br><br>Enough for % of people=37.1<br>location=%{location}<br>Percentage of population with 1+ dose=%{z}<extra></extra>\",\"hovertext\":[33.4],\"locations\":[\"Barbados\"],\"name\":\"\",\"type\":\"choropleth\",\"z\":[40.9]}],\"name\":\"37.1\"},{\"data\":[{\"coloraxis\":\"coloraxis\",\"geo\":\"geo\",\"hovertemplate\":\"<b>%{hovertext}</b><br><br>Enough for % of people=9.4<br>location=%{location}<br>Percentage of population with 1+ dose=%{z}<extra></extra>\",\"hovertext\":[15.4],\"locations\":[\"Eswatini\"],\"name\":\"\",\"type\":\"choropleth\",\"z\":[16.1]}],\"name\":\"9.4\"},{\"data\":[{\"coloraxis\":\"coloraxis\",\"geo\":\"geo\",\"hovertemplate\":\"<b>%{hovertext}</b><br><br>Enough for % of people=4.9<br>location=%{location}<br>Percentage of population with 1+ dose=%{z}<extra></extra>\",\"hovertext\":[31.940609137055848],\"locations\":[\"Lesotho\"],\"name\":\"\",\"type\":\"choropleth\",\"z\":[2.0]}],\"name\":\"4.9\"},{\"data\":[{\"coloraxis\":\"coloraxis\",\"geo\":\"geo\",\"hovertemplate\":\"<b>%{hovertext}</b><br><br>Enough for % of people=1.2<br>location=%{location}<br>Percentage of population with 1+ dose=%{z}<extra></extra>\",\"hovertext\":[0.4,0.6,0.6],\"locations\":[\"Sierra Leone\",\"Liberia\",\"Central African Republic\"],\"name\":\"\",\"type\":\"choropleth\",\"z\":[2.0,2.5,2.2]}],\"name\":\"1.2\"},{\"data\":[{\"coloraxis\":\"coloraxis\",\"geo\":\"geo\",\"hovertemplate\":\"<b>%{hovertext}</b><br><br>Enough for % of people=56.5<br>location=%{location}<br>Percentage of population with 1+ dose=%{z}<extra></extra>\",\"hovertext\":[53.6],\"locations\":[\"Cura\\ufffdao\"],\"name\":\"\",\"type\":\"choropleth\",\"z\":[59.3]}],\"name\":\"56.5\"},{\"data\":[{\"coloraxis\":\"coloraxis\",\"geo\":\"geo\",\"hovertemplate\":\"<b>%{hovertext}</b><br><br>Enough for % of people=0.7<br>location=%{location}<br>Percentage of population with 1+ dose=%{z}<extra></extra>\",\"hovertext\":[31.940609137055848],\"locations\":[\"Benin\"],\"name\":\"\",\"type\":\"choropleth\",\"z\":[1.3]}],\"name\":\"0.7\"},{\"data\":[{\"coloraxis\":\"coloraxis\",\"geo\":\"geo\",\"hovertemplate\":\"<b>%{hovertext}</b><br><br>Enough for % of people=21.2<br>location=%{location}<br>Percentage of population with 1+ dose=%{z}<extra></extra>\",\"hovertext\":[15.5],\"locations\":[\"Bahamas\"],\"name\":\"\",\"type\":\"choropleth\",\"z\":[27.8]}],\"name\":\"21.2\"},{\"data\":[{\"coloraxis\":\"coloraxis\",\"geo\":\"geo\",\"hovertemplate\":\"<b>%{hovertext}</b><br><br>Enough for % of people=67.1<br>location=%{location}<br>Percentage of population with 1+ dose=%{z}<extra></extra>\",\"hovertext\":[63.2],\"locations\":[\"Aruba\"],\"name\":\"\",\"type\":\"choropleth\",\"z\":[70.9]}],\"name\":\"67.1\"},{\"data\":[{\"coloraxis\":\"coloraxis\",\"geo\":\"geo\",\"hovertemplate\":\"<b>%{hovertext}</b><br><br>Enough for % of people=74.7<br>location=%{location}<br>Percentage of population with 1+ dose=%{z}<extra></extra>\",\"hovertext\":[72.6],\"locations\":[\"Seychelles\"],\"name\":\"\",\"type\":\"choropleth\",\"z\":[77.4]}],\"name\":\"74.7\"},{\"data\":[{\"coloraxis\":\"coloraxis\",\"geo\":\"geo\",\"hovertemplate\":\"<b>%{hovertext}</b><br><br>Enough for % of people=34.3<br>location=%{location}<br>Percentage of population with 1+ dose=%{z}<extra></extra>\",\"hovertext\":[21.7],\"locations\":[\"Samoa\"],\"name\":\"\",\"type\":\"choropleth\",\"z\":[47.0]}],\"name\":\"34.3\"},{\"data\":[{\"coloraxis\":\"coloraxis\",\"geo\":\"geo\",\"hovertemplate\":\"<b>%{hovertext}</b><br><br>Enough for % of people=0.8<br>location=%{location}<br>Percentage of population with 1+ dose=%{z}<extra></extra>\",\"hovertext\":[0.4],\"locations\":[\"Papua New Guinea\"],\"name\":\"\",\"type\":\"choropleth\",\"z\":[1.2]}],\"name\":\"0.8\"},{\"data\":[{\"coloraxis\":\"coloraxis\",\"geo\":\"geo\",\"hovertemplate\":\"<b>%{hovertext}</b><br><br>Enough for % of people=75.6<br>location=%{location}<br>Percentage of population with 1+ dose=%{z}<extra></extra>\",\"hovertext\":[74.4],\"locations\":[\"Isle of Man\"],\"name\":\"\",\"type\":\"choropleth\",\"z\":[76.9]}],\"name\":\"75.6\"},{\"data\":[{\"coloraxis\":\"coloraxis\",\"geo\":\"geo\",\"hovertemplate\":\"<b>%{hovertext}</b><br><br>Enough for % of people=0.1<br>location=%{location}<br>Percentage of population with 1+ dose=%{z}<extra></extra>\",\"hovertext\":[0.1],\"locations\":[\"DR Congo\"],\"name\":\"\",\"type\":\"choropleth\",\"z\":[0.1]}],\"name\":\"0.1\"},{\"data\":[{\"coloraxis\":\"coloraxis\",\"geo\":\"geo\",\"hovertemplate\":\"<b>%{hovertext}</b><br><br>Enough for % of people=78.8<br>location=%{location}<br>Percentage of population with 1+ dose=%{z}<extra></extra>\",\"hovertext\":[76.9],\"locations\":[\"Cayman Islands\"],\"name\":\"\",\"type\":\"choropleth\",\"z\":[80.7]}],\"name\":\"78.8\"},{\"data\":[{\"coloraxis\":\"coloraxis\",\"geo\":\"geo\",\"hovertemplate\":\"<b>%{hovertext}</b><br><br>Enough for % of people=89.8<br>location=%{location}<br>Percentage of population with 1+ dose=%{z}<extra></extra>\",\"hovertext\":[58.7],\"locations\":[\"Greenland\"],\"name\":\"\",\"type\":\"choropleth\",\"z\":[124.5]}],\"name\":\"89.8\"},{\"data\":[{\"coloraxis\":\"coloraxis\",\"geo\":\"geo\",\"hovertemplate\":\"<b>%{hovertext}</b><br><br>Enough for % of people=60.7<br>location=%{location}<br>Percentage of population with 1+ dose=%{z}<extra></extra>\",\"hovertext\":[54.3],\"locations\":[\"Andorra\"],\"name\":\"\",\"type\":\"choropleth\",\"z\":[67.0]}],\"name\":\"60.7\"},{\"data\":[{\"coloraxis\":\"coloraxis\",\"geo\":\"geo\",\"hovertemplate\":\"<b>%{hovertext}</b><br><br>Enough for % of people=67.8<br>location=%{location}<br>Percentage of population with 1+ dose=%{z}<extra></extra>\",\"hovertext\":[67.1],\"locations\":[\"Bermuda\"],\"name\":\"\",\"type\":\"choropleth\",\"z\":[68.5]}],\"name\":\"67.8\"},{\"data\":[{\"coloraxis\":\"coloraxis\",\"geo\":\"geo\",\"hovertemplate\":\"<b>%{hovertext}</b><br><br>Enough for % of people=6.5<br>location=%{location}<br>Percentage of population with 1+ dose=%{z}<extra></extra>\",\"hovertext\":[3.2],\"locations\":[\"Solomon Islands\"],\"name\":\"\",\"type\":\"choropleth\",\"z\":[9.8]}],\"name\":\"6.5\"},{\"data\":[{\"coloraxis\":\"coloraxis\",\"geo\":\"geo\",\"hovertemplate\":\"<b>%{hovertext}</b><br><br>Enough for % of people=116.2<br>location=%{location}<br>Percentage of population with 1+ dose=%{z}<extra></extra>\",\"hovertext\":[115.5],\"locations\":[\"Gibraltar\"],\"name\":\"\",\"type\":\"choropleth\",\"z\":[116.9]}],\"name\":\"116.2\"},{\"data\":[{\"coloraxis\":\"coloraxis\",\"geo\":\"geo\",\"hovertemplate\":\"<b>%{hovertext}</b><br><br>Enough for % of people=40.2<br>location=%{location}<br>Percentage of population with 1+ dose=%{z}<extra></extra>\",\"hovertext\":[36.1],\"locations\":[\"Antigua and Barbuda\"],\"name\":\"\",\"type\":\"choropleth\",\"z\":[44.3]}],\"name\":\"40.2\"},{\"data\":[{\"coloraxis\":\"coloraxis\",\"geo\":\"geo\",\"hovertemplate\":\"<b>%{hovertext}</b><br><br>Enough for % of people=0.2<br>location=%{location}<br>Percentage of population with 1+ dose=%{z}<extra></extra>\",\"hovertext\":[0.1,0.1,0.1],\"locations\":[\"Chad\",\"South Sudan\",\"Haiti\"],\"name\":\"\",\"type\":\"choropleth\",\"z\":[0.4,0.4,0.3]}],\"name\":\"0.2\"},{\"data\":[{\"coloraxis\":\"coloraxis\",\"geo\":\"geo\",\"hovertemplate\":\"<b>%{hovertext}</b><br><br>Enough for % of people=34.2<br>location=%{location}<br>Percentage of population with 1+ dose=%{z}<extra></extra>\",\"hovertext\":[27.3],\"locations\":[\"Tonga\"],\"name\":\"\",\"type\":\"choropleth\",\"z\":[41.1]}],\"name\":\"34.2\"},{\"data\":[{\"coloraxis\":\"coloraxis\",\"geo\":\"geo\",\"hovertemplate\":\"<b>%{hovertext}</b><br><br>Enough for % of people=32.6<br>location=%{location}<br>Percentage of population with 1+ dose=%{z}<extra></extra>\",\"hovertext\":[31.940609137055848],\"locations\":[\"Micronesia\"],\"name\":\"\",\"type\":\"choropleth\",\"z\":[37.7]}],\"name\":\"32.6\"},{\"data\":[{\"coloraxis\":\"coloraxis\",\"geo\":\"geo\",\"hovertemplate\":\"<b>%{hovertext}</b><br><br>Enough for % of people=18.4<br>location=%{location}<br>Percentage of population with 1+ dose=%{z}<extra></extra>\",\"hovertext\":[15.6],\"locations\":[\"St. Lucia\"],\"name\":\"\",\"type\":\"choropleth\",\"z\":[21.2]}],\"name\":\"18.4\"},{\"data\":[{\"coloraxis\":\"coloraxis\",\"geo\":\"geo\",\"hovertemplate\":\"<b>%{hovertext}</b><br><br>Enough for % of people=3.0<br>location=%{location}<br>Percentage of population with 1+ dose=%{z}<extra></extra>\",\"hovertext\":[2.4],\"locations\":[\"Djibouti\"],\"name\":\"\",\"type\":\"choropleth\",\"z\":[3.6]}],\"name\":\"3.0\"},{\"data\":[{\"coloraxis\":\"coloraxis\",\"geo\":\"geo\",\"hovertemplate\":\"<b>%{hovertext}</b><br><br>Enough for % of people=11.9<br>location=%{location}<br>Percentage of population with 1+ dose=%{z}<extra></extra>\",\"hovertext\":[5.6],\"locations\":[\"Sao Tome and Principe\"],\"name\":\"\",\"type\":\"choropleth\",\"z\":[18.3]}],\"name\":\"11.9\"},{\"data\":[{\"coloraxis\":\"coloraxis\",\"geo\":\"geo\",\"hovertemplate\":\"<b>%{hovertext}</b><br><br>Enough for % of people=66.9<br>location=%{location}<br>Percentage of population with 1+ dose=%{z}<extra></extra>\",\"hovertext\":[63.9],\"locations\":[\"Turks & Caicos\"],\"name\":\"\",\"type\":\"choropleth\",\"z\":[70.0]}],\"name\":\"66.9\"},{\"data\":[{\"coloraxis\":\"coloraxis\",\"geo\":\"geo\",\"hovertemplate\":\"<b>%{hovertext}</b><br><br>Enough for % of people=62.4<br>location=%{location}<br>Percentage of population with 1+ dose=%{z}<extra></extra>\",\"hovertext\":[57.8],\"locations\":[\"Monaco\"],\"name\":\"\",\"type\":\"choropleth\",\"z\":[67.0]}],\"name\":\"62.4\"},{\"data\":[{\"coloraxis\":\"coloraxis\",\"geo\":\"geo\",\"hovertemplate\":\"<b>%{hovertext}</b><br><br>Enough for % of people=57.8<br>location=%{location}<br>Percentage of population with 1+ dose=%{z}<extra></extra>\",\"hovertext\":[55.1],\"locations\":[\"Sint Maarten\"],\"name\":\"\",\"type\":\"choropleth\",\"z\":[60.4]}],\"name\":\"57.8\"},{\"data\":[{\"coloraxis\":\"coloraxis\",\"geo\":\"geo\",\"hovertemplate\":\"<b>%{hovertext}</b><br><br>Enough for % of people=30.2<br>location=%{location}<br>Percentage of population with 1+ dose=%{z}<extra></extra>\",\"hovertext\":[28.6],\"locations\":[\"Dominica\"],\"name\":\"\",\"type\":\"choropleth\",\"z\":[31.8]}],\"name\":\"30.2\"},{\"data\":[{\"coloraxis\":\"coloraxis\",\"geo\":\"geo\",\"hovertemplate\":\"<b>%{hovertext}</b><br><br>Enough for % of people=0.4<br>location=%{location}<br>Percentage of population with 1+ dose=%{z}<extra></extra>\",\"hovertext\":[0.2],\"locations\":[\"Turkmenistan\"],\"name\":\"\",\"type\":\"choropleth\",\"z\":[0.6]}],\"name\":\"0.4\"},{\"data\":[{\"coloraxis\":\"coloraxis\",\"geo\":\"geo\",\"hovertemplate\":\"<b>%{hovertext}</b><br><br>Enough for % of people=14.1<br>location=%{location}<br>Percentage of population with 1+ dose=%{z}<extra></extra>\",\"hovertext\":[10.8],\"locations\":[\"St. Vincent and the Grenadines\"],\"name\":\"\",\"type\":\"choropleth\",\"z\":[17.3]}],\"name\":\"14.1\"},{\"data\":[{\"coloraxis\":\"coloraxis\",\"geo\":\"geo\",\"hovertemplate\":\"<b>%{hovertext}</b><br><br>Enough for % of people=56.9<br>location=%{location}<br>Percentage of population with 1+ dose=%{z}<extra></extra>\",\"hovertext\":[55.2],\"locations\":[\"Nauru\"],\"name\":\"\",\"type\":\"choropleth\",\"z\":[58.6]}],\"name\":\"56.9\"},{\"data\":[{\"coloraxis\":\"coloraxis\",\"geo\":\"geo\",\"hovertemplate\":\"<b>%{hovertext}</b><br><br>Enough for % of people=65.8<br>location=%{location}<br>Percentage of population with 1+ dose=%{z}<extra></extra>\",\"hovertext\":[58.9],\"locations\":[\"St. Helena\"],\"name\":\"\",\"type\":\"choropleth\",\"z\":[72.7]}],\"name\":\"65.8\"},{\"data\":[{\"coloraxis\":\"coloraxis\",\"geo\":\"geo\",\"hovertemplate\":\"<b>%{hovertext}</b><br><br>Enough for % of people=73.5<br>location=%{location}<br>Percentage of population with 1+ dose=%{z}<extra></extra>\",\"hovertext\":[59.2],\"locations\":[\"Falkland Islands\"],\"name\":\"\",\"type\":\"choropleth\",\"z\":[87.7]}],\"name\":\"73.5\"},{\"data\":[{\"coloraxis\":\"coloraxis\",\"geo\":\"geo\",\"hovertemplate\":\"<b>%{hovertext}</b><br><br>Enough for % of people=28.4<br>location=%{location}<br>Percentage of population with 1+ dose=%{z}<extra></extra>\",\"hovertext\":[27.4],\"locations\":[\"Montserrat\"],\"name\":\"\",\"type\":\"choropleth\",\"z\":[29.3]}],\"name\":\"28.4\"}]);\n",
       "                        }).then(function(){\n",
       "                            \n",
       "var gd = document.getElementById('3cb14edd-f825-4b6b-89b0-9db11c0ed00b');\n",
       "var x = new MutationObserver(function (mutations, observer) {{\n",
       "        var display = window.getComputedStyle(gd).display;\n",
       "        if (!display || display === 'none') {{\n",
       "            console.log([gd, 'removed!']);\n",
       "            Plotly.purge(gd);\n",
       "            observer.disconnect();\n",
       "        }}\n",
       "}});\n",
       "\n",
       "// Listen for the removal of the full notebook cells\n",
       "var notebookContainer = gd.closest('#notebook-container');\n",
       "if (notebookContainer) {{\n",
       "    x.observe(notebookContainer, {childList: true});\n",
       "}}\n",
       "\n",
       "// Listen for the clearing of the current output cell\n",
       "var outputEl = gd.closest('.output');\n",
       "if (outputEl) {{\n",
       "    x.observe(outputEl, {childList: true});\n",
       "}}\n",
       "\n",
       "                        })                };                });            </script>        </div>"
      ]
     },
     "metadata": {},
     "output_type": "display_data"
    }
   ],
   "source": [
    "plot_net_conv('world','Percentage of population fully vaccinated')"
   ]
  },
  {
   "cell_type": "code",
   "execution_count": 54,
   "id": "d32be48c",
   "metadata": {},
   "outputs": [
    {
     "data": {
      "text/html": [
       "<div>\n",
       "<style scoped>\n",
       "    .dataframe tbody tr th:only-of-type {\n",
       "        vertical-align: middle;\n",
       "    }\n",
       "\n",
       "    .dataframe tbody tr th {\n",
       "        vertical-align: top;\n",
       "    }\n",
       "\n",
       "    .dataframe thead th {\n",
       "        text-align: right;\n",
       "    }\n",
       "</style>\n",
       "<table border=\"1\" class=\"dataframe\">\n",
       "  <thead>\n",
       "    <tr style=\"text-align: right;\">\n",
       "      <th></th>\n",
       "      <th>location</th>\n",
       "      <th>Doses administered</th>\n",
       "      <th>Enough for % of people</th>\n",
       "      <th>Percentage of population with 1+ dose</th>\n",
       "      <th>%_population_fully_vaccinated</th>\n",
       "      <th>Daily rate of doses administered</th>\n",
       "    </tr>\n",
       "  </thead>\n",
       "  <tbody>\n",
       "    <tr>\n",
       "      <th>2</th>\n",
       "      <td>India</td>\n",
       "      <td>730337116.0</td>\n",
       "      <td>26.7</td>\n",
       "      <td>40.3</td>\n",
       "      <td>12.4</td>\n",
       "      <td>7616167.0</td>\n",
       "    </tr>\n",
       "  </tbody>\n",
       "</table>\n",
       "</div>"
      ],
      "text/plain": [
       "  location  Doses administered  Enough for % of people  \\\n",
       "2    India         730337116.0                    26.7   \n",
       "\n",
       "   Percentage of population with 1+ dose  %_population_fully_vaccinated  \\\n",
       "2                                   40.3                           12.4   \n",
       "\n",
       "   Daily rate of doses administered  \n",
       "2                         7616167.0  "
      ]
     },
     "execution_count": 54,
     "metadata": {},
     "output_type": "execute_result"
    }
   ],
   "source": [
    "ind = df[df['location']=='India']\n",
    "ind"
   ]
  },
  {
   "cell_type": "code",
   "execution_count": 58,
   "id": "da35e94a",
   "metadata": {},
   "outputs": [],
   "source": [
    "def plot_net_conv(scope,title):\n",
    " fig = px.choropleth(\n",
    " ind,\n",
    " locations =\"location\",\n",
    " color =\"Percentage of population with 1+ dose\",\n",
    " hover_name =\"%_population_fully_vaccinated\",\n",
    " scope=scope,\n",
    " color_continuous_scale='RdYlGn',\n",
    " animation_frame =\"Daily rate of doses administered\")\n",
    " \n",
    " fig.update_layout(title_text=title,\n",
    " font_family=\"Rockwell\",\n",
    " title_font_size=20,\n",
    " coloraxis_colorbar=dict(\n",
    " title='Percentage of population fully vaccinated'))\n",
    " \n",
    " fig.show()"
   ]
  },
  {
   "cell_type": "code",
   "execution_count": 60,
   "id": "4b3ec832",
   "metadata": {},
   "outputs": [
    {
     "data": {
      "application/vnd.plotly.v1+json": {
       "config": {
        "plotlyServerURL": "https://plot.ly"
       },
       "data": [
        {
         "coloraxis": "coloraxis",
         "geo": "geo",
         "hovertemplate": "<b>%{hovertext}</b><br><br>Daily rate of doses administered=7616167.0<br>location=%{location}<br>Percentage of population with 1+ dose=%{z}<extra></extra>",
         "hovertext": [
          12.4
         ],
         "locations": [
          "India"
         ],
         "name": "",
         "type": "choropleth",
         "z": [
          40.3
         ]
        }
       ],
       "layout": {
        "coloraxis": {
         "colorbar": {
          "title": {
           "text": "Percentage of population fully vaccinated"
          }
         },
         "colorscale": [
          [
           0,
           "rgb(165,0,38)"
          ],
          [
           0.1,
           "rgb(215,48,39)"
          ],
          [
           0.2,
           "rgb(244,109,67)"
          ],
          [
           0.3,
           "rgb(253,174,97)"
          ],
          [
           0.4,
           "rgb(254,224,139)"
          ],
          [
           0.5,
           "rgb(255,255,191)"
          ],
          [
           0.6,
           "rgb(217,239,139)"
          ],
          [
           0.7,
           "rgb(166,217,106)"
          ],
          [
           0.8,
           "rgb(102,189,99)"
          ],
          [
           0.9,
           "rgb(26,152,80)"
          ],
          [
           1,
           "rgb(0,104,55)"
          ]
         ]
        },
        "font": {
         "family": "Rockwell"
        },
        "geo": {
         "center": {},
         "domain": {
          "x": [
           0,
           1
          ],
          "y": [
           0,
           1
          ]
         },
         "scope": "asia"
        },
        "legend": {
         "tracegroupgap": 0
        },
        "margin": {
         "t": 60
        },
        "template": {
         "data": {
          "bar": [
           {
            "error_x": {
             "color": "#2a3f5f"
            },
            "error_y": {
             "color": "#2a3f5f"
            },
            "marker": {
             "line": {
              "color": "#E5ECF6",
              "width": 0.5
             },
             "pattern": {
              "fillmode": "overlay",
              "size": 10,
              "solidity": 0.2
             }
            },
            "type": "bar"
           }
          ],
          "barpolar": [
           {
            "marker": {
             "line": {
              "color": "#E5ECF6",
              "width": 0.5
             },
             "pattern": {
              "fillmode": "overlay",
              "size": 10,
              "solidity": 0.2
             }
            },
            "type": "barpolar"
           }
          ],
          "carpet": [
           {
            "aaxis": {
             "endlinecolor": "#2a3f5f",
             "gridcolor": "white",
             "linecolor": "white",
             "minorgridcolor": "white",
             "startlinecolor": "#2a3f5f"
            },
            "baxis": {
             "endlinecolor": "#2a3f5f",
             "gridcolor": "white",
             "linecolor": "white",
             "minorgridcolor": "white",
             "startlinecolor": "#2a3f5f"
            },
            "type": "carpet"
           }
          ],
          "choropleth": [
           {
            "colorbar": {
             "outlinewidth": 0,
             "ticks": ""
            },
            "type": "choropleth"
           }
          ],
          "contour": [
           {
            "colorbar": {
             "outlinewidth": 0,
             "ticks": ""
            },
            "colorscale": [
             [
              0,
              "#0d0887"
             ],
             [
              0.1111111111111111,
              "#46039f"
             ],
             [
              0.2222222222222222,
              "#7201a8"
             ],
             [
              0.3333333333333333,
              "#9c179e"
             ],
             [
              0.4444444444444444,
              "#bd3786"
             ],
             [
              0.5555555555555556,
              "#d8576b"
             ],
             [
              0.6666666666666666,
              "#ed7953"
             ],
             [
              0.7777777777777778,
              "#fb9f3a"
             ],
             [
              0.8888888888888888,
              "#fdca26"
             ],
             [
              1,
              "#f0f921"
             ]
            ],
            "type": "contour"
           }
          ],
          "contourcarpet": [
           {
            "colorbar": {
             "outlinewidth": 0,
             "ticks": ""
            },
            "type": "contourcarpet"
           }
          ],
          "heatmap": [
           {
            "colorbar": {
             "outlinewidth": 0,
             "ticks": ""
            },
            "colorscale": [
             [
              0,
              "#0d0887"
             ],
             [
              0.1111111111111111,
              "#46039f"
             ],
             [
              0.2222222222222222,
              "#7201a8"
             ],
             [
              0.3333333333333333,
              "#9c179e"
             ],
             [
              0.4444444444444444,
              "#bd3786"
             ],
             [
              0.5555555555555556,
              "#d8576b"
             ],
             [
              0.6666666666666666,
              "#ed7953"
             ],
             [
              0.7777777777777778,
              "#fb9f3a"
             ],
             [
              0.8888888888888888,
              "#fdca26"
             ],
             [
              1,
              "#f0f921"
             ]
            ],
            "type": "heatmap"
           }
          ],
          "heatmapgl": [
           {
            "colorbar": {
             "outlinewidth": 0,
             "ticks": ""
            },
            "colorscale": [
             [
              0,
              "#0d0887"
             ],
             [
              0.1111111111111111,
              "#46039f"
             ],
             [
              0.2222222222222222,
              "#7201a8"
             ],
             [
              0.3333333333333333,
              "#9c179e"
             ],
             [
              0.4444444444444444,
              "#bd3786"
             ],
             [
              0.5555555555555556,
              "#d8576b"
             ],
             [
              0.6666666666666666,
              "#ed7953"
             ],
             [
              0.7777777777777778,
              "#fb9f3a"
             ],
             [
              0.8888888888888888,
              "#fdca26"
             ],
             [
              1,
              "#f0f921"
             ]
            ],
            "type": "heatmapgl"
           }
          ],
          "histogram": [
           {
            "marker": {
             "pattern": {
              "fillmode": "overlay",
              "size": 10,
              "solidity": 0.2
             }
            },
            "type": "histogram"
           }
          ],
          "histogram2d": [
           {
            "colorbar": {
             "outlinewidth": 0,
             "ticks": ""
            },
            "colorscale": [
             [
              0,
              "#0d0887"
             ],
             [
              0.1111111111111111,
              "#46039f"
             ],
             [
              0.2222222222222222,
              "#7201a8"
             ],
             [
              0.3333333333333333,
              "#9c179e"
             ],
             [
              0.4444444444444444,
              "#bd3786"
             ],
             [
              0.5555555555555556,
              "#d8576b"
             ],
             [
              0.6666666666666666,
              "#ed7953"
             ],
             [
              0.7777777777777778,
              "#fb9f3a"
             ],
             [
              0.8888888888888888,
              "#fdca26"
             ],
             [
              1,
              "#f0f921"
             ]
            ],
            "type": "histogram2d"
           }
          ],
          "histogram2dcontour": [
           {
            "colorbar": {
             "outlinewidth": 0,
             "ticks": ""
            },
            "colorscale": [
             [
              0,
              "#0d0887"
             ],
             [
              0.1111111111111111,
              "#46039f"
             ],
             [
              0.2222222222222222,
              "#7201a8"
             ],
             [
              0.3333333333333333,
              "#9c179e"
             ],
             [
              0.4444444444444444,
              "#bd3786"
             ],
             [
              0.5555555555555556,
              "#d8576b"
             ],
             [
              0.6666666666666666,
              "#ed7953"
             ],
             [
              0.7777777777777778,
              "#fb9f3a"
             ],
             [
              0.8888888888888888,
              "#fdca26"
             ],
             [
              1,
              "#f0f921"
             ]
            ],
            "type": "histogram2dcontour"
           }
          ],
          "mesh3d": [
           {
            "colorbar": {
             "outlinewidth": 0,
             "ticks": ""
            },
            "type": "mesh3d"
           }
          ],
          "parcoords": [
           {
            "line": {
             "colorbar": {
              "outlinewidth": 0,
              "ticks": ""
             }
            },
            "type": "parcoords"
           }
          ],
          "pie": [
           {
            "automargin": true,
            "type": "pie"
           }
          ],
          "scatter": [
           {
            "marker": {
             "colorbar": {
              "outlinewidth": 0,
              "ticks": ""
             }
            },
            "type": "scatter"
           }
          ],
          "scatter3d": [
           {
            "line": {
             "colorbar": {
              "outlinewidth": 0,
              "ticks": ""
             }
            },
            "marker": {
             "colorbar": {
              "outlinewidth": 0,
              "ticks": ""
             }
            },
            "type": "scatter3d"
           }
          ],
          "scattercarpet": [
           {
            "marker": {
             "colorbar": {
              "outlinewidth": 0,
              "ticks": ""
             }
            },
            "type": "scattercarpet"
           }
          ],
          "scattergeo": [
           {
            "marker": {
             "colorbar": {
              "outlinewidth": 0,
              "ticks": ""
             }
            },
            "type": "scattergeo"
           }
          ],
          "scattergl": [
           {
            "marker": {
             "colorbar": {
              "outlinewidth": 0,
              "ticks": ""
             }
            },
            "type": "scattergl"
           }
          ],
          "scattermapbox": [
           {
            "marker": {
             "colorbar": {
              "outlinewidth": 0,
              "ticks": ""
             }
            },
            "type": "scattermapbox"
           }
          ],
          "scatterpolar": [
           {
            "marker": {
             "colorbar": {
              "outlinewidth": 0,
              "ticks": ""
             }
            },
            "type": "scatterpolar"
           }
          ],
          "scatterpolargl": [
           {
            "marker": {
             "colorbar": {
              "outlinewidth": 0,
              "ticks": ""
             }
            },
            "type": "scatterpolargl"
           }
          ],
          "scatterternary": [
           {
            "marker": {
             "colorbar": {
              "outlinewidth": 0,
              "ticks": ""
             }
            },
            "type": "scatterternary"
           }
          ],
          "surface": [
           {
            "colorbar": {
             "outlinewidth": 0,
             "ticks": ""
            },
            "colorscale": [
             [
              0,
              "#0d0887"
             ],
             [
              0.1111111111111111,
              "#46039f"
             ],
             [
              0.2222222222222222,
              "#7201a8"
             ],
             [
              0.3333333333333333,
              "#9c179e"
             ],
             [
              0.4444444444444444,
              "#bd3786"
             ],
             [
              0.5555555555555556,
              "#d8576b"
             ],
             [
              0.6666666666666666,
              "#ed7953"
             ],
             [
              0.7777777777777778,
              "#fb9f3a"
             ],
             [
              0.8888888888888888,
              "#fdca26"
             ],
             [
              1,
              "#f0f921"
             ]
            ],
            "type": "surface"
           }
          ],
          "table": [
           {
            "cells": {
             "fill": {
              "color": "#EBF0F8"
             },
             "line": {
              "color": "white"
             }
            },
            "header": {
             "fill": {
              "color": "#C8D4E3"
             },
             "line": {
              "color": "white"
             }
            },
            "type": "table"
           }
          ]
         },
         "layout": {
          "annotationdefaults": {
           "arrowcolor": "#2a3f5f",
           "arrowhead": 0,
           "arrowwidth": 1
          },
          "autotypenumbers": "strict",
          "coloraxis": {
           "colorbar": {
            "outlinewidth": 0,
            "ticks": ""
           }
          },
          "colorscale": {
           "diverging": [
            [
             0,
             "#8e0152"
            ],
            [
             0.1,
             "#c51b7d"
            ],
            [
             0.2,
             "#de77ae"
            ],
            [
             0.3,
             "#f1b6da"
            ],
            [
             0.4,
             "#fde0ef"
            ],
            [
             0.5,
             "#f7f7f7"
            ],
            [
             0.6,
             "#e6f5d0"
            ],
            [
             0.7,
             "#b8e186"
            ],
            [
             0.8,
             "#7fbc41"
            ],
            [
             0.9,
             "#4d9221"
            ],
            [
             1,
             "#276419"
            ]
           ],
           "sequential": [
            [
             0,
             "#0d0887"
            ],
            [
             0.1111111111111111,
             "#46039f"
            ],
            [
             0.2222222222222222,
             "#7201a8"
            ],
            [
             0.3333333333333333,
             "#9c179e"
            ],
            [
             0.4444444444444444,
             "#bd3786"
            ],
            [
             0.5555555555555556,
             "#d8576b"
            ],
            [
             0.6666666666666666,
             "#ed7953"
            ],
            [
             0.7777777777777778,
             "#fb9f3a"
            ],
            [
             0.8888888888888888,
             "#fdca26"
            ],
            [
             1,
             "#f0f921"
            ]
           ],
           "sequentialminus": [
            [
             0,
             "#0d0887"
            ],
            [
             0.1111111111111111,
             "#46039f"
            ],
            [
             0.2222222222222222,
             "#7201a8"
            ],
            [
             0.3333333333333333,
             "#9c179e"
            ],
            [
             0.4444444444444444,
             "#bd3786"
            ],
            [
             0.5555555555555556,
             "#d8576b"
            ],
            [
             0.6666666666666666,
             "#ed7953"
            ],
            [
             0.7777777777777778,
             "#fb9f3a"
            ],
            [
             0.8888888888888888,
             "#fdca26"
            ],
            [
             1,
             "#f0f921"
            ]
           ]
          },
          "colorway": [
           "#636efa",
           "#EF553B",
           "#00cc96",
           "#ab63fa",
           "#FFA15A",
           "#19d3f3",
           "#FF6692",
           "#B6E880",
           "#FF97FF",
           "#FECB52"
          ],
          "font": {
           "color": "#2a3f5f"
          },
          "geo": {
           "bgcolor": "white",
           "lakecolor": "white",
           "landcolor": "#E5ECF6",
           "showlakes": true,
           "showland": true,
           "subunitcolor": "white"
          },
          "hoverlabel": {
           "align": "left"
          },
          "hovermode": "closest",
          "mapbox": {
           "style": "light"
          },
          "paper_bgcolor": "white",
          "plot_bgcolor": "#E5ECF6",
          "polar": {
           "angularaxis": {
            "gridcolor": "white",
            "linecolor": "white",
            "ticks": ""
           },
           "bgcolor": "#E5ECF6",
           "radialaxis": {
            "gridcolor": "white",
            "linecolor": "white",
            "ticks": ""
           }
          },
          "scene": {
           "xaxis": {
            "backgroundcolor": "#E5ECF6",
            "gridcolor": "white",
            "gridwidth": 2,
            "linecolor": "white",
            "showbackground": true,
            "ticks": "",
            "zerolinecolor": "white"
           },
           "yaxis": {
            "backgroundcolor": "#E5ECF6",
            "gridcolor": "white",
            "gridwidth": 2,
            "linecolor": "white",
            "showbackground": true,
            "ticks": "",
            "zerolinecolor": "white"
           },
           "zaxis": {
            "backgroundcolor": "#E5ECF6",
            "gridcolor": "white",
            "gridwidth": 2,
            "linecolor": "white",
            "showbackground": true,
            "ticks": "",
            "zerolinecolor": "white"
           }
          },
          "shapedefaults": {
           "line": {
            "color": "#2a3f5f"
           }
          },
          "ternary": {
           "aaxis": {
            "gridcolor": "white",
            "linecolor": "white",
            "ticks": ""
           },
           "baxis": {
            "gridcolor": "white",
            "linecolor": "white",
            "ticks": ""
           },
           "bgcolor": "#E5ECF6",
           "caxis": {
            "gridcolor": "white",
            "linecolor": "white",
            "ticks": ""
           }
          },
          "title": {
           "x": 0.05
          },
          "xaxis": {
           "automargin": true,
           "gridcolor": "white",
           "linecolor": "white",
           "ticks": "",
           "title": {
            "standoff": 15
           },
           "zerolinecolor": "white",
           "zerolinewidth": 2
          },
          "yaxis": {
           "automargin": true,
           "gridcolor": "white",
           "linecolor": "white",
           "ticks": "",
           "title": {
            "standoff": 15
           },
           "zerolinecolor": "white",
           "zerolinewidth": 2
          }
         }
        },
        "title": {
         "font": {
          "size": 20
         },
         "text": "Percentage of population fully vaccinated in India"
        }
       }
      },
      "text/html": [
       "<div>                            <div id=\"2fc34ab2-677b-4a79-b03b-f505b9101254\" class=\"plotly-graph-div\" style=\"height:525px; width:100%;\"></div>            <script type=\"text/javascript\">                require([\"plotly\"], function(Plotly) {                    window.PLOTLYENV=window.PLOTLYENV || {};                                    if (document.getElementById(\"2fc34ab2-677b-4a79-b03b-f505b9101254\")) {                    Plotly.newPlot(                        \"2fc34ab2-677b-4a79-b03b-f505b9101254\",                        [{\"coloraxis\":\"coloraxis\",\"geo\":\"geo\",\"hovertemplate\":\"<b>%{hovertext}</b><br><br>Daily rate of doses administered=7616167.0<br>location=%{location}<br>Percentage of population with 1+ dose=%{z}<extra></extra>\",\"hovertext\":[12.4],\"locations\":[\"India\"],\"name\":\"\",\"type\":\"choropleth\",\"z\":[40.3]}],                        {\"coloraxis\":{\"colorbar\":{\"title\":{\"text\":\"Percentage of population fully vaccinated\"}},\"colorscale\":[[0.0,\"rgb(165,0,38)\"],[0.1,\"rgb(215,48,39)\"],[0.2,\"rgb(244,109,67)\"],[0.3,\"rgb(253,174,97)\"],[0.4,\"rgb(254,224,139)\"],[0.5,\"rgb(255,255,191)\"],[0.6,\"rgb(217,239,139)\"],[0.7,\"rgb(166,217,106)\"],[0.8,\"rgb(102,189,99)\"],[0.9,\"rgb(26,152,80)\"],[1.0,\"rgb(0,104,55)\"]]},\"font\":{\"family\":\"Rockwell\"},\"geo\":{\"center\":{},\"domain\":{\"x\":[0.0,1.0],\"y\":[0.0,1.0]},\"scope\":\"asia\"},\"legend\":{\"tracegroupgap\":0},\"margin\":{\"t\":60},\"template\":{\"data\":{\"bar\":[{\"error_x\":{\"color\":\"#2a3f5f\"},\"error_y\":{\"color\":\"#2a3f5f\"},\"marker\":{\"line\":{\"color\":\"#E5ECF6\",\"width\":0.5},\"pattern\":{\"fillmode\":\"overlay\",\"size\":10,\"solidity\":0.2}},\"type\":\"bar\"}],\"barpolar\":[{\"marker\":{\"line\":{\"color\":\"#E5ECF6\",\"width\":0.5},\"pattern\":{\"fillmode\":\"overlay\",\"size\":10,\"solidity\":0.2}},\"type\":\"barpolar\"}],\"carpet\":[{\"aaxis\":{\"endlinecolor\":\"#2a3f5f\",\"gridcolor\":\"white\",\"linecolor\":\"white\",\"minorgridcolor\":\"white\",\"startlinecolor\":\"#2a3f5f\"},\"baxis\":{\"endlinecolor\":\"#2a3f5f\",\"gridcolor\":\"white\",\"linecolor\":\"white\",\"minorgridcolor\":\"white\",\"startlinecolor\":\"#2a3f5f\"},\"type\":\"carpet\"}],\"choropleth\":[{\"colorbar\":{\"outlinewidth\":0,\"ticks\":\"\"},\"type\":\"choropleth\"}],\"contour\":[{\"colorbar\":{\"outlinewidth\":0,\"ticks\":\"\"},\"colorscale\":[[0.0,\"#0d0887\"],[0.1111111111111111,\"#46039f\"],[0.2222222222222222,\"#7201a8\"],[0.3333333333333333,\"#9c179e\"],[0.4444444444444444,\"#bd3786\"],[0.5555555555555556,\"#d8576b\"],[0.6666666666666666,\"#ed7953\"],[0.7777777777777778,\"#fb9f3a\"],[0.8888888888888888,\"#fdca26\"],[1.0,\"#f0f921\"]],\"type\":\"contour\"}],\"contourcarpet\":[{\"colorbar\":{\"outlinewidth\":0,\"ticks\":\"\"},\"type\":\"contourcarpet\"}],\"heatmap\":[{\"colorbar\":{\"outlinewidth\":0,\"ticks\":\"\"},\"colorscale\":[[0.0,\"#0d0887\"],[0.1111111111111111,\"#46039f\"],[0.2222222222222222,\"#7201a8\"],[0.3333333333333333,\"#9c179e\"],[0.4444444444444444,\"#bd3786\"],[0.5555555555555556,\"#d8576b\"],[0.6666666666666666,\"#ed7953\"],[0.7777777777777778,\"#fb9f3a\"],[0.8888888888888888,\"#fdca26\"],[1.0,\"#f0f921\"]],\"type\":\"heatmap\"}],\"heatmapgl\":[{\"colorbar\":{\"outlinewidth\":0,\"ticks\":\"\"},\"colorscale\":[[0.0,\"#0d0887\"],[0.1111111111111111,\"#46039f\"],[0.2222222222222222,\"#7201a8\"],[0.3333333333333333,\"#9c179e\"],[0.4444444444444444,\"#bd3786\"],[0.5555555555555556,\"#d8576b\"],[0.6666666666666666,\"#ed7953\"],[0.7777777777777778,\"#fb9f3a\"],[0.8888888888888888,\"#fdca26\"],[1.0,\"#f0f921\"]],\"type\":\"heatmapgl\"}],\"histogram\":[{\"marker\":{\"pattern\":{\"fillmode\":\"overlay\",\"size\":10,\"solidity\":0.2}},\"type\":\"histogram\"}],\"histogram2d\":[{\"colorbar\":{\"outlinewidth\":0,\"ticks\":\"\"},\"colorscale\":[[0.0,\"#0d0887\"],[0.1111111111111111,\"#46039f\"],[0.2222222222222222,\"#7201a8\"],[0.3333333333333333,\"#9c179e\"],[0.4444444444444444,\"#bd3786\"],[0.5555555555555556,\"#d8576b\"],[0.6666666666666666,\"#ed7953\"],[0.7777777777777778,\"#fb9f3a\"],[0.8888888888888888,\"#fdca26\"],[1.0,\"#f0f921\"]],\"type\":\"histogram2d\"}],\"histogram2dcontour\":[{\"colorbar\":{\"outlinewidth\":0,\"ticks\":\"\"},\"colorscale\":[[0.0,\"#0d0887\"],[0.1111111111111111,\"#46039f\"],[0.2222222222222222,\"#7201a8\"],[0.3333333333333333,\"#9c179e\"],[0.4444444444444444,\"#bd3786\"],[0.5555555555555556,\"#d8576b\"],[0.6666666666666666,\"#ed7953\"],[0.7777777777777778,\"#fb9f3a\"],[0.8888888888888888,\"#fdca26\"],[1.0,\"#f0f921\"]],\"type\":\"histogram2dcontour\"}],\"mesh3d\":[{\"colorbar\":{\"outlinewidth\":0,\"ticks\":\"\"},\"type\":\"mesh3d\"}],\"parcoords\":[{\"line\":{\"colorbar\":{\"outlinewidth\":0,\"ticks\":\"\"}},\"type\":\"parcoords\"}],\"pie\":[{\"automargin\":true,\"type\":\"pie\"}],\"scatter\":[{\"marker\":{\"colorbar\":{\"outlinewidth\":0,\"ticks\":\"\"}},\"type\":\"scatter\"}],\"scatter3d\":[{\"line\":{\"colorbar\":{\"outlinewidth\":0,\"ticks\":\"\"}},\"marker\":{\"colorbar\":{\"outlinewidth\":0,\"ticks\":\"\"}},\"type\":\"scatter3d\"}],\"scattercarpet\":[{\"marker\":{\"colorbar\":{\"outlinewidth\":0,\"ticks\":\"\"}},\"type\":\"scattercarpet\"}],\"scattergeo\":[{\"marker\":{\"colorbar\":{\"outlinewidth\":0,\"ticks\":\"\"}},\"type\":\"scattergeo\"}],\"scattergl\":[{\"marker\":{\"colorbar\":{\"outlinewidth\":0,\"ticks\":\"\"}},\"type\":\"scattergl\"}],\"scattermapbox\":[{\"marker\":{\"colorbar\":{\"outlinewidth\":0,\"ticks\":\"\"}},\"type\":\"scattermapbox\"}],\"scatterpolar\":[{\"marker\":{\"colorbar\":{\"outlinewidth\":0,\"ticks\":\"\"}},\"type\":\"scatterpolar\"}],\"scatterpolargl\":[{\"marker\":{\"colorbar\":{\"outlinewidth\":0,\"ticks\":\"\"}},\"type\":\"scatterpolargl\"}],\"scatterternary\":[{\"marker\":{\"colorbar\":{\"outlinewidth\":0,\"ticks\":\"\"}},\"type\":\"scatterternary\"}],\"surface\":[{\"colorbar\":{\"outlinewidth\":0,\"ticks\":\"\"},\"colorscale\":[[0.0,\"#0d0887\"],[0.1111111111111111,\"#46039f\"],[0.2222222222222222,\"#7201a8\"],[0.3333333333333333,\"#9c179e\"],[0.4444444444444444,\"#bd3786\"],[0.5555555555555556,\"#d8576b\"],[0.6666666666666666,\"#ed7953\"],[0.7777777777777778,\"#fb9f3a\"],[0.8888888888888888,\"#fdca26\"],[1.0,\"#f0f921\"]],\"type\":\"surface\"}],\"table\":[{\"cells\":{\"fill\":{\"color\":\"#EBF0F8\"},\"line\":{\"color\":\"white\"}},\"header\":{\"fill\":{\"color\":\"#C8D4E3\"},\"line\":{\"color\":\"white\"}},\"type\":\"table\"}]},\"layout\":{\"annotationdefaults\":{\"arrowcolor\":\"#2a3f5f\",\"arrowhead\":0,\"arrowwidth\":1},\"autotypenumbers\":\"strict\",\"coloraxis\":{\"colorbar\":{\"outlinewidth\":0,\"ticks\":\"\"}},\"colorscale\":{\"diverging\":[[0,\"#8e0152\"],[0.1,\"#c51b7d\"],[0.2,\"#de77ae\"],[0.3,\"#f1b6da\"],[0.4,\"#fde0ef\"],[0.5,\"#f7f7f7\"],[0.6,\"#e6f5d0\"],[0.7,\"#b8e186\"],[0.8,\"#7fbc41\"],[0.9,\"#4d9221\"],[1,\"#276419\"]],\"sequential\":[[0.0,\"#0d0887\"],[0.1111111111111111,\"#46039f\"],[0.2222222222222222,\"#7201a8\"],[0.3333333333333333,\"#9c179e\"],[0.4444444444444444,\"#bd3786\"],[0.5555555555555556,\"#d8576b\"],[0.6666666666666666,\"#ed7953\"],[0.7777777777777778,\"#fb9f3a\"],[0.8888888888888888,\"#fdca26\"],[1.0,\"#f0f921\"]],\"sequentialminus\":[[0.0,\"#0d0887\"],[0.1111111111111111,\"#46039f\"],[0.2222222222222222,\"#7201a8\"],[0.3333333333333333,\"#9c179e\"],[0.4444444444444444,\"#bd3786\"],[0.5555555555555556,\"#d8576b\"],[0.6666666666666666,\"#ed7953\"],[0.7777777777777778,\"#fb9f3a\"],[0.8888888888888888,\"#fdca26\"],[1.0,\"#f0f921\"]]},\"colorway\":[\"#636efa\",\"#EF553B\",\"#00cc96\",\"#ab63fa\",\"#FFA15A\",\"#19d3f3\",\"#FF6692\",\"#B6E880\",\"#FF97FF\",\"#FECB52\"],\"font\":{\"color\":\"#2a3f5f\"},\"geo\":{\"bgcolor\":\"white\",\"lakecolor\":\"white\",\"landcolor\":\"#E5ECF6\",\"showlakes\":true,\"showland\":true,\"subunitcolor\":\"white\"},\"hoverlabel\":{\"align\":\"left\"},\"hovermode\":\"closest\",\"mapbox\":{\"style\":\"light\"},\"paper_bgcolor\":\"white\",\"plot_bgcolor\":\"#E5ECF6\",\"polar\":{\"angularaxis\":{\"gridcolor\":\"white\",\"linecolor\":\"white\",\"ticks\":\"\"},\"bgcolor\":\"#E5ECF6\",\"radialaxis\":{\"gridcolor\":\"white\",\"linecolor\":\"white\",\"ticks\":\"\"}},\"scene\":{\"xaxis\":{\"backgroundcolor\":\"#E5ECF6\",\"gridcolor\":\"white\",\"gridwidth\":2,\"linecolor\":\"white\",\"showbackground\":true,\"ticks\":\"\",\"zerolinecolor\":\"white\"},\"yaxis\":{\"backgroundcolor\":\"#E5ECF6\",\"gridcolor\":\"white\",\"gridwidth\":2,\"linecolor\":\"white\",\"showbackground\":true,\"ticks\":\"\",\"zerolinecolor\":\"white\"},\"zaxis\":{\"backgroundcolor\":\"#E5ECF6\",\"gridcolor\":\"white\",\"gridwidth\":2,\"linecolor\":\"white\",\"showbackground\":true,\"ticks\":\"\",\"zerolinecolor\":\"white\"}},\"shapedefaults\":{\"line\":{\"color\":\"#2a3f5f\"}},\"ternary\":{\"aaxis\":{\"gridcolor\":\"white\",\"linecolor\":\"white\",\"ticks\":\"\"},\"baxis\":{\"gridcolor\":\"white\",\"linecolor\":\"white\",\"ticks\":\"\"},\"bgcolor\":\"#E5ECF6\",\"caxis\":{\"gridcolor\":\"white\",\"linecolor\":\"white\",\"ticks\":\"\"}},\"title\":{\"x\":0.05},\"xaxis\":{\"automargin\":true,\"gridcolor\":\"white\",\"linecolor\":\"white\",\"ticks\":\"\",\"title\":{\"standoff\":15},\"zerolinecolor\":\"white\",\"zerolinewidth\":2},\"yaxis\":{\"automargin\":true,\"gridcolor\":\"white\",\"linecolor\":\"white\",\"ticks\":\"\",\"title\":{\"standoff\":15},\"zerolinecolor\":\"white\",\"zerolinewidth\":2}}},\"title\":{\"font\":{\"size\":20},\"text\":\"Percentage of population fully vaccinated in India\"}},                        {\"responsive\": true}                    ).then(function(){\n",
       "                            \n",
       "var gd = document.getElementById('2fc34ab2-677b-4a79-b03b-f505b9101254');\n",
       "var x = new MutationObserver(function (mutations, observer) {{\n",
       "        var display = window.getComputedStyle(gd).display;\n",
       "        if (!display || display === 'none') {{\n",
       "            console.log([gd, 'removed!']);\n",
       "            Plotly.purge(gd);\n",
       "            observer.disconnect();\n",
       "        }}\n",
       "}});\n",
       "\n",
       "// Listen for the removal of the full notebook cells\n",
       "var notebookContainer = gd.closest('#notebook-container');\n",
       "if (notebookContainer) {{\n",
       "    x.observe(notebookContainer, {childList: true});\n",
       "}}\n",
       "\n",
       "// Listen for the clearing of the current output cell\n",
       "var outputEl = gd.closest('.output');\n",
       "if (outputEl) {{\n",
       "    x.observe(outputEl, {childList: true});\n",
       "}}\n",
       "\n",
       "                        })                };                });            </script>        </div>"
      ]
     },
     "metadata": {},
     "output_type": "display_data"
    }
   ],
   "source": [
    "plot_net_conv('asia','Percentage of population fully vaccinated in India')"
   ]
  },
  {
   "cell_type": "code",
   "execution_count": null,
   "id": "886053cb",
   "metadata": {},
   "outputs": [],
   "source": []
  }
 ],
 "metadata": {
  "kernelspec": {
   "display_name": "Python 3",
   "language": "python",
   "name": "python3"
  },
  "language_info": {
   "codemirror_mode": {
    "name": "ipython",
    "version": 3
   },
   "file_extension": ".py",
   "mimetype": "text/x-python",
   "name": "python",
   "nbconvert_exporter": "python",
   "pygments_lexer": "ipython3",
   "version": "3.8.8"
  }
 },
 "nbformat": 4,
 "nbformat_minor": 5
}
